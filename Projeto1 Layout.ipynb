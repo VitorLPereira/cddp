{
 "cells": [
  {
   "cell_type": "markdown",
   "metadata": {},
   "source": [
    "___\n",
    "# Ciência dos Dados - PROJETO 1"
   ]
  },
  {
   "cell_type": "markdown",
   "metadata": {},
   "source": [
    "## Vitor Leandro Pereira"
   ]
  },
  {
   "cell_type": "markdown",
   "metadata": {},
   "source": [
    "## Qual o grau de escolaridade dos brasileiros, e qual a diferença entre a renda de pessoas escolarizadas e não  escolarizadas ?"
   ]
  },
  {
   "cell_type": "markdown",
   "metadata": {},
   "source": [
    "___\n",
    "## Introdução\n",
    "\n",
    "optando o tema Escolaridade dos brasileiros, pretendo com este projeto analisar a partir de dados da PNAD2015, sobre informaçãoes de cada indivíduo se sabe ler e escrever, frequenta escola ou creche e que rede de ensino frequenta. E como se distribui a renda para pessoas que sabem ler e as que não sabem. \n"
   ]
  },
  {
   "cell_type": "markdown",
   "metadata": {},
   "source": [
    "___\n",
    "## Filtros da base de dados"
   ]
  },
  {
   "cell_type": "code",
   "execution_count": 90,
   "metadata": {
    "collapsed": true
   },
   "outputs": [],
   "source": [
    "%matplotlib inline\n",
    "import pandas as pd\n",
    "import matplotlib.pyplot as plt\n",
    "import numpy as np\n",
    "import os"
   ]
  },
  {
   "cell_type": "code",
   "execution_count": 91,
   "metadata": {},
   "outputs": [
    {
     "name": "stdout",
     "output_type": "stream",
     "text": [
      "Esperamos trabalhar no diretório\n",
      "C:\\Users\\Vitor Pereira\\Documents\\dp dados\n"
     ]
    }
   ],
   "source": [
    "print('Esperamos trabalhar no diretório')\n",
    "print(os.getcwd())"
   ]
  },
  {
   "cell_type": "code",
   "execution_count": 92,
   "metadata": {
    "collapsed": true
   },
   "outputs": [],
   "source": [
    "#Se usar o arquivo descompactado\n",
    "#pd.read_csv('PES2015.csv',sep=',')\n",
    "\n",
    "#Se usar o arquivo compactado como está no dropbox púbico\n",
    "valores=pd.read_csv('PES2015csv.zip', compression='zip', header=0, sep=',', quotechar='\"')"
   ]
  },
  {
   "cell_type": "code",
   "execution_count": 93,
   "metadata": {
    "scrolled": true
   },
   "outputs": [
    {
     "data": {
      "text/html": [
       "<div>\n",
       "<style>\n",
       "    .dataframe thead tr:only-child th {\n",
       "        text-align: right;\n",
       "    }\n",
       "\n",
       "    .dataframe thead th {\n",
       "        text-align: left;\n",
       "    }\n",
       "\n",
       "    .dataframe tbody tr th {\n",
       "        vertical-align: top;\n",
       "    }\n",
       "</style>\n",
       "<table border=\"1\" class=\"dataframe\">\n",
       "  <thead>\n",
       "    <tr style=\"text-align: right;\">\n",
       "      <th></th>\n",
       "      <th>Sabe_ler_e_escrever</th>\n",
       "      <th>Frequenta_escola_ou_creche</th>\n",
       "      <th>Rede_de_ensino</th>\n",
       "      <th>renda</th>\n",
       "      <th>idade</th>\n",
       "    </tr>\n",
       "  </thead>\n",
       "  <tbody>\n",
       "    <tr>\n",
       "      <th>0</th>\n",
       "      <td>Sim</td>\n",
       "      <td>Não</td>\n",
       "      <td>nenhuma</td>\n",
       "      <td>800.0</td>\n",
       "      <td>23</td>\n",
       "    </tr>\n",
       "    <tr>\n",
       "      <th>1</th>\n",
       "      <td>Sim</td>\n",
       "      <td>Não</td>\n",
       "      <td>nenhuma</td>\n",
       "      <td>1150.0</td>\n",
       "      <td>23</td>\n",
       "    </tr>\n",
       "    <tr>\n",
       "      <th>2</th>\n",
       "      <td>Sim</td>\n",
       "      <td>Sim</td>\n",
       "      <td>Privada</td>\n",
       "      <td>880.0</td>\n",
       "      <td>35</td>\n",
       "    </tr>\n",
       "    <tr>\n",
       "      <th>3</th>\n",
       "      <td>Sim</td>\n",
       "      <td>Não</td>\n",
       "      <td>nenhuma</td>\n",
       "      <td>3000.0</td>\n",
       "      <td>34</td>\n",
       "    </tr>\n",
       "    <tr>\n",
       "      <th>4</th>\n",
       "      <td>Sim</td>\n",
       "      <td>Sim</td>\n",
       "      <td>Privada</td>\n",
       "      <td>0.0</td>\n",
       "      <td>11</td>\n",
       "    </tr>\n",
       "    <tr>\n",
       "      <th>5</th>\n",
       "      <td>Sim</td>\n",
       "      <td>Sim</td>\n",
       "      <td>Pública</td>\n",
       "      <td>NaN</td>\n",
       "      <td>7</td>\n",
       "    </tr>\n",
       "    <tr>\n",
       "      <th>6</th>\n",
       "      <td>Não</td>\n",
       "      <td>Sim</td>\n",
       "      <td>Pública</td>\n",
       "      <td>NaN</td>\n",
       "      <td>4</td>\n",
       "    </tr>\n",
       "    <tr>\n",
       "      <th>7</th>\n",
       "      <td>Sim</td>\n",
       "      <td>Não</td>\n",
       "      <td>nenhuma</td>\n",
       "      <td>880.0</td>\n",
       "      <td>18</td>\n",
       "    </tr>\n",
       "    <tr>\n",
       "      <th>8</th>\n",
       "      <td>Sim</td>\n",
       "      <td>Não</td>\n",
       "      <td>nenhuma</td>\n",
       "      <td>3500.0</td>\n",
       "      <td>46</td>\n",
       "    </tr>\n",
       "    <tr>\n",
       "      <th>9</th>\n",
       "      <td>Sim</td>\n",
       "      <td>Não</td>\n",
       "      <td>nenhuma</td>\n",
       "      <td>2300.0</td>\n",
       "      <td>81</td>\n",
       "    </tr>\n",
       "  </tbody>\n",
       "</table>\n",
       "</div>"
      ],
      "text/plain": [
       "  Sabe_ler_e_escrever Frequenta_escola_ou_creche Rede_de_ensino   renda  idade\n",
       "0                 Sim                        Não        nenhuma   800.0     23\n",
       "1                 Sim                        Não        nenhuma  1150.0     23\n",
       "2                 Sim                        Sim        Privada   880.0     35\n",
       "3                 Sim                        Não        nenhuma  3000.0     34\n",
       "4                 Sim                        Sim        Privada     0.0     11\n",
       "5                 Sim                        Sim        Pública     NaN      7\n",
       "6                 Não                        Sim        Pública     NaN      4\n",
       "7                 Sim                        Não        nenhuma   880.0     18\n",
       "8                 Sim                        Não        nenhuma  3500.0     46\n",
       "9                 Sim                        Não        nenhuma  2300.0     81"
      ]
     },
     "execution_count": 93,
     "metadata": {},
     "output_type": "execute_result"
    }
   ],
   "source": [
    "dados=pd.DataFrame({\n",
    "\n",
    "    'Sabe_ler_e_escrever' :valores.V0601,\n",
    "    'Frequenta_escola_ou_creche' :valores.V0602,\n",
    "    'Rede_de_ensino' :valores.V6002,\n",
    "    'renda' :valores.V4720,\n",
    "    'idade':valores.V8005\n",
    "    })\n",
    "\n",
    "\n",
    "\n",
    "dados=dados[['Sabe_ler_e_escrever','Frequenta_escola_ou_creche','Rede_de_ensino','renda','idade']]\n",
    "\n",
    "dados.Sabe_ler_e_escrever=dados.Sabe_ler_e_escrever.astype('category')\n",
    "dados.Sabe_ler_e_escrever.cat.categories=('Sim','Não')\n",
    "\n",
    "dados.Frequenta_escola_ou_creche=dados.Frequenta_escola_ou_creche.astype('category')\n",
    "dados.Frequenta_escola_ou_creche.cat.categories=('Sim','Não')\n",
    "\n",
    "def Rede(linha):\n",
    "    if linha==2:\n",
    "        return 'Pública'\n",
    "    elif linha==4:\n",
    "        return 'Privada'\n",
    "    else:\n",
    "        return 'nenhuma'\n",
    "dados.Rede_de_ensino=dados.Rede_de_ensino.apply(Rede)\n",
    "\n",
    "\n",
    "dados.head(10)"
   ]
  },
  {
   "cell_type": "markdown",
   "metadata": {},
   "source": [
    "Nessa primeira parte do código, criei e apliquei a função \"Rede\", para retornar na tabela a informação se a rede de ensino é \"Pública\", \"Privada\" ou \"nenhuma\".\n",
    "Além disso, nessa primeira parte da análise, vou dar prioridade a uma análise qualitativa sobre a rede de ensino, a capacidade do indivíduo de ler e escrever, e se frequenta escola ou creche. Por isso decidi nao remover os indivíduos que nao revelaram sua renda, considerando que grande parte dos que frequentam escolas ou creches nçao possuem renda, pois isso poderia prejudicar a análise."
   ]
  },
  {
   "cell_type": "markdown",
   "metadata": {},
   "source": [
    "___\n",
    "## Análise e Resultados"
   ]
  },
  {
   "cell_type": "code",
   "execution_count": 94,
   "metadata": {},
   "outputs": [
    {
     "data": {
      "text/plain": [
       "Sim    303976\n",
       "Não     52928\n",
       "Name: Sabe_ler_e_escrever, dtype: int64"
      ]
     },
     "execution_count": 94,
     "metadata": {},
     "output_type": "execute_result"
    }
   ],
   "source": [
    "total1=dados.Sabe_ler_e_escrever.value_counts()\n",
    "total1"
   ]
  },
  {
   "cell_type": "code",
   "execution_count": 95,
   "metadata": {},
   "outputs": [
    {
     "data": {
      "text/plain": [
       "<matplotlib.text.Text at 0xa4ad2c5588>"
      ]
     },
     "execution_count": 95,
     "metadata": {},
     "output_type": "execute_result"
    },
    {
     "data": {
      "image/png": "[encoded data removed]",
      "text/plain": [
       "<matplotlib.figure.Figure at 0xa4b3832940>"
      ]
     },
     "metadata": {},
     "output_type": "display_data"
    }
   ],
   "source": [
    "total1.plot(kind='pie',autopct=\"%0.2f\")\n",
    "plt.title('Porcentagem de pessoas que sabem ler e escrever')"
   ]
  },
  {
   "cell_type": "markdown",
   "metadata": {},
   "source": [
    "O primeiro gráfico de análise qualitativa nos apresenta a porcentagem de pessoas que declararam saber ler e escrever na pesquisa, com 85.17% afirmando saber ler e escrever, e os outros 14.83% afirmando não saber."
   ]
  },
  {
   "cell_type": "code",
   "execution_count": 96,
   "metadata": {},
   "outputs": [
    {
     "data": {
      "text/plain": [
       "Não    259388\n",
       "Sim     97516\n",
       "Name: Frequenta_escola_ou_creche, dtype: int64"
      ]
     },
     "execution_count": 96,
     "metadata": {},
     "output_type": "execute_result"
    }
   ],
   "source": [
    "total2=dados.Frequenta_escola_ou_creche.value_counts()\n",
    "total2"
   ]
  },
  {
   "cell_type": "code",
   "execution_count": 97,
   "metadata": {},
   "outputs": [
    {
     "data": {
      "text/plain": [
       "<matplotlib.text.Text at 0xa4ad4150b8>"
      ]
     },
     "execution_count": 97,
     "metadata": {},
     "output_type": "execute_result"
    },
    {
     "data": {
      "image/png": "[encoded data removed]",
      "text/plain": [
       "<matplotlib.figure.Figure at 0xa4ae147ac8>"
      ]
     },
     "metadata": {},
     "output_type": "display_data"
    }
   ],
   "source": [
    "total2.plot(kind='pie',autopct=\"%0.2f\")\n",
    "plt.title('Porcentagem de pessoas que frequentam escola ou creche')"
   ]
  },
  {
   "cell_type": "markdown",
   "metadata": {},
   "source": [
    "nessa segunda análise temos mais um gráfico de setores analisando agora a porcentagem de pessoas que declararam frequentar escola ou creche, com 27.32% afirmado frequentar, e 72.68% afirmado não frequentar. O que é totalemente compreensível tamanha disparidade, partindo do princípio que estão sento analisados todos os indivíduos que responderam a pesquisa."
   ]
  },
  {
   "cell_type": "code",
   "execution_count": 98,
   "metadata": {},
   "outputs": [
    {
     "data": {
      "text/plain": [
       "nenhuma    259388\n",
       "Pública     72699\n",
       "Privada     24817\n",
       "Name: Rede_de_ensino, dtype: int64"
      ]
     },
     "execution_count": 98,
     "metadata": {},
     "output_type": "execute_result"
    }
   ],
   "source": [
    "total3=dados.Rede_de_ensino.value_counts()\n",
    "total3"
   ]
  },
  {
   "cell_type": "code",
   "execution_count": 99,
   "metadata": {},
   "outputs": [
    {
     "data": {
      "text/plain": [
       "<matplotlib.text.Text at 0xa4ad2ef4a8>"
      ]
     },
     "execution_count": 99,
     "metadata": {},
     "output_type": "execute_result"
    },
    {
     "data": {
      "image/png": "[encoded data removed]",
      "text/plain": [
       "<matplotlib.figure.Figure at 0xa4b77fcc50>"
      ]
     },
     "metadata": {},
     "output_type": "display_data"
    }
   ],
   "source": [
    "total3.plot(kind='pie', autopct=\"%0.2f\")\n",
    "plt.title('Porcentagem de pessoas que frequentam rede de ensino pública ou privada ou nenhuma')"
   ]
  },
  {
   "cell_type": "markdown",
   "metadata": {},
   "source": [
    "Essa terceira análise representa a porcentagem referente aos indivíduos que freuetam rede de ensino oública privada ou nenhuma, temos entao, os mesmos 72.68% de pessoas que afirmaram nao frequentar escolas ou creches, agora como nenhuma rede de ensino. 20.37% afirmou frequentar rede de ensino pública, e os 6.95% restantes, declarou frequentar rede de ensino privada."
   ]
  },
  {
   "cell_type": "code",
   "execution_count": 100,
   "metadata": {},
   "outputs": [
    {
     "data": {
      "text/html": [
       "<div>\n",
       "<style>\n",
       "    .dataframe thead tr:only-child th {\n",
       "        text-align: right;\n",
       "    }\n",
       "\n",
       "    .dataframe thead th {\n",
       "        text-align: left;\n",
       "    }\n",
       "\n",
       "    .dataframe tbody tr th {\n",
       "        vertical-align: top;\n",
       "    }\n",
       "</style>\n",
       "<table border=\"1\" class=\"dataframe\">\n",
       "  <thead>\n",
       "    <tr style=\"text-align: right;\">\n",
       "      <th></th>\n",
       "      <th>Sabe_ler_e_escrever</th>\n",
       "      <th>Frequenta_escola_ou_creche</th>\n",
       "      <th>Rede_de_ensino</th>\n",
       "      <th>renda</th>\n",
       "      <th>idade</th>\n",
       "    </tr>\n",
       "  </thead>\n",
       "  <tbody>\n",
       "    <tr>\n",
       "      <th>0</th>\n",
       "      <td>Sim</td>\n",
       "      <td>Não</td>\n",
       "      <td>nenhuma</td>\n",
       "      <td>800.0</td>\n",
       "      <td>23</td>\n",
       "    </tr>\n",
       "    <tr>\n",
       "      <th>1</th>\n",
       "      <td>Sim</td>\n",
       "      <td>Não</td>\n",
       "      <td>nenhuma</td>\n",
       "      <td>1150.0</td>\n",
       "      <td>23</td>\n",
       "    </tr>\n",
       "    <tr>\n",
       "      <th>2</th>\n",
       "      <td>Sim</td>\n",
       "      <td>Sim</td>\n",
       "      <td>Privada</td>\n",
       "      <td>880.0</td>\n",
       "      <td>35</td>\n",
       "    </tr>\n",
       "    <tr>\n",
       "      <th>3</th>\n",
       "      <td>Sim</td>\n",
       "      <td>Não</td>\n",
       "      <td>nenhuma</td>\n",
       "      <td>3000.0</td>\n",
       "      <td>34</td>\n",
       "    </tr>\n",
       "    <tr>\n",
       "      <th>7</th>\n",
       "      <td>Sim</td>\n",
       "      <td>Não</td>\n",
       "      <td>nenhuma</td>\n",
       "      <td>880.0</td>\n",
       "      <td>18</td>\n",
       "    </tr>\n",
       "    <tr>\n",
       "      <th>8</th>\n",
       "      <td>Sim</td>\n",
       "      <td>Não</td>\n",
       "      <td>nenhuma</td>\n",
       "      <td>3500.0</td>\n",
       "      <td>46</td>\n",
       "    </tr>\n",
       "    <tr>\n",
       "      <th>9</th>\n",
       "      <td>Sim</td>\n",
       "      <td>Não</td>\n",
       "      <td>nenhuma</td>\n",
       "      <td>2300.0</td>\n",
       "      <td>81</td>\n",
       "    </tr>\n",
       "    <tr>\n",
       "      <th>10</th>\n",
       "      <td>Sim</td>\n",
       "      <td>Não</td>\n",
       "      <td>nenhuma</td>\n",
       "      <td>1990.0</td>\n",
       "      <td>71</td>\n",
       "    </tr>\n",
       "    <tr>\n",
       "      <th>11</th>\n",
       "      <td>Sim</td>\n",
       "      <td>Não</td>\n",
       "      <td>nenhuma</td>\n",
       "      <td>700.0</td>\n",
       "      <td>47</td>\n",
       "    </tr>\n",
       "    <tr>\n",
       "      <th>12</th>\n",
       "      <td>Sim</td>\n",
       "      <td>Não</td>\n",
       "      <td>nenhuma</td>\n",
       "      <td>0.0</td>\n",
       "      <td>24</td>\n",
       "    </tr>\n",
       "  </tbody>\n",
       "</table>\n",
       "</div>"
      ],
      "text/plain": [
       "   Sabe_ler_e_escrever Frequenta_escola_ou_creche Rede_de_ensino   renda  \\\n",
       "0                  Sim                        Não        nenhuma   800.0   \n",
       "1                  Sim                        Não        nenhuma  1150.0   \n",
       "2                  Sim                        Sim        Privada   880.0   \n",
       "3                  Sim                        Não        nenhuma  3000.0   \n",
       "7                  Sim                        Não        nenhuma   880.0   \n",
       "8                  Sim                        Não        nenhuma  3500.0   \n",
       "9                  Sim                        Não        nenhuma  2300.0   \n",
       "10                 Sim                        Não        nenhuma  1990.0   \n",
       "11                 Sim                        Não        nenhuma   700.0   \n",
       "12                 Sim                        Não        nenhuma     0.0   \n",
       "\n",
       "    idade  \n",
       "0      23  \n",
       "1      23  \n",
       "2      35  \n",
       "3      34  \n",
       "7      18  \n",
       "8      46  \n",
       "9      81  \n",
       "10     71  \n",
       "11     47  \n",
       "12     24  "
      ]
     },
     "execution_count": 100,
     "metadata": {},
     "output_type": "execute_result"
    }
   ],
   "source": [
    "dados=dados[dados.idade>17]\n",
    "dados=dados[dados.renda<5000]\n",
    "dados.dropna()\n",
    "dados.head(10)\n"
   ]
  },
  {
   "cell_type": "markdown",
   "metadata": {},
   "source": [
    "Partindo para a segunda parte da análise, julguei que seria mais eficiente coletar dados sobre a renda de apenas das pessoas que tem 18 anos ou mais, que responderam a pesquisa. O fato de muitas crianças e adolecentes nao terem renda ou não declarar, poderia atrapalhar a análise.\n",
    "Além disso afim de remover uma quantidade desnecessária de outliers, decidi restringir a renda para até 5.000 reais."
   ]
  },
  {
   "cell_type": "code",
   "execution_count": 109,
   "metadata": {},
   "outputs": [
    {
     "data": {
      "image/png": "[encoded data removed]",
      "text/plain": [
       "<matplotlib.figure.Figure at 0xa4b7da9f60>"
      ]
     },
     "metadata": {},
     "output_type": "display_data"
    }
   ],
   "source": [
    "#plot = dados.renda.plot(kind='box',title='.')#, color='red')\n",
    "#lista=[\"Sabe_ler_e_escrever\",\"renda\"]\n",
    "boxsim=dados[(dados.Sabe_ler_e_escrever == \"Sim\")]\n",
    "boxnao=dados[(dados.Sabe_ler_e_escrever == \"Não\")]\n",
    "\n",
    "plot = boxnao.renda.plot(kind='box',title='.')#, color='red')\n",
    "plot = boxnao.renda.plot(kind='box',title='.')#, color='red')\n",
    "\n",
    "#result = boxsim.renda.append(boxnao.renda)\n",
    "\n",
    "plt.ylabel('renda')\n",
    "plt.xlabel('não sabem ler e escrever')\n",
    "plt.title('renda de pessoas que não sabem ler e escrever')\n",
    "plt.show()\n",
    "#plot = boxsim.renda.plot(kind='box',title='.')#, color='red')\n",
    "#plt.ylabel('renda')\n",
    "#plt.xlabel('sabe ler e escrever')\n",
    "#plt.title('renda de pessoas que sabem ler e escrever')\n",
    "#plt.show()\n",
    "#boxnao.renda"
   ]
  },
  {
   "cell_type": "code",
   "execution_count": 110,
   "metadata": {},
   "outputs": [
    {
     "data": {
      "text/html": [
       "<div>\n",
       "<style>\n",
       "    .dataframe thead tr:only-child th {\n",
       "        text-align: right;\n",
       "    }\n",
       "\n",
       "    .dataframe thead th {\n",
       "        text-align: left;\n",
       "    }\n",
       "\n",
       "    .dataframe tbody tr th {\n",
       "        vertical-align: top;\n",
       "    }\n",
       "</style>\n",
       "<table border=\"1\" class=\"dataframe\">\n",
       "  <thead>\n",
       "    <tr style=\"text-align: right;\">\n",
       "      <th></th>\n",
       "      <th>renda</th>\n",
       "      <th>idade</th>\n",
       "    </tr>\n",
       "  </thead>\n",
       "  <tbody>\n",
       "    <tr>\n",
       "      <th>count</th>\n",
       "      <td>21432.000000</td>\n",
       "      <td>21432.000000</td>\n",
       "    </tr>\n",
       "    <tr>\n",
       "      <th>mean</th>\n",
       "      <td>708.777296</td>\n",
       "      <td>58.814296</td>\n",
       "    </tr>\n",
       "    <tr>\n",
       "      <th>std</th>\n",
       "      <td>506.793372</td>\n",
       "      <td>16.749069</td>\n",
       "    </tr>\n",
       "    <tr>\n",
       "      <th>min</th>\n",
       "      <td>0.000000</td>\n",
       "      <td>18.000000</td>\n",
       "    </tr>\n",
       "    <tr>\n",
       "      <th>25%</th>\n",
       "      <td>300.000000</td>\n",
       "      <td>47.000000</td>\n",
       "    </tr>\n",
       "    <tr>\n",
       "      <th>50%</th>\n",
       "      <td>788.000000</td>\n",
       "      <td>60.000000</td>\n",
       "    </tr>\n",
       "    <tr>\n",
       "      <th>75%</th>\n",
       "      <td>788.000000</td>\n",
       "      <td>71.000000</td>\n",
       "    </tr>\n",
       "    <tr>\n",
       "      <th>max</th>\n",
       "      <td>4788.000000</td>\n",
       "      <td>110.000000</td>\n",
       "    </tr>\n",
       "  </tbody>\n",
       "</table>\n",
       "</div>"
      ],
      "text/plain": [
       "              renda         idade\n",
       "count  21432.000000  21432.000000\n",
       "mean     708.777296     58.814296\n",
       "std      506.793372     16.749069\n",
       "min        0.000000     18.000000\n",
       "25%      300.000000     47.000000\n",
       "50%      788.000000     60.000000\n",
       "75%      788.000000     71.000000\n",
       "max     4788.000000    110.000000"
      ]
     },
     "execution_count": 110,
     "metadata": {},
     "output_type": "execute_result"
    }
   ],
   "source": [
    "boxnao.describe()"
   ]
  },
  {
   "cell_type": "code",
   "execution_count": 111,
   "metadata": {},
   "outputs": [
    {
     "data": {
      "image/png": "[encoded data removed]",
      "text/plain": [
       "<matplotlib.figure.Figure at 0xa4bd6296d8>"
      ]
     },
     "metadata": {},
     "output_type": "display_data"
    }
   ],
   "source": [
    "plot = boxsim.renda.plot(kind='box',title='.')#, color='red')\n",
    "plt.ylabel('renda')\n",
    "plt.xlabel('sabe ler e escrever')\n",
    "plt.title('renda de pessoas que sabem ler e escrever')\n",
    "plt.show()"
   ]
  },
  {
   "cell_type": "code",
   "execution_count": 112,
   "metadata": {},
   "outputs": [
    {
     "data": {
      "text/html": [
       "<div>\n",
       "<style>\n",
       "    .dataframe thead tr:only-child th {\n",
       "        text-align: right;\n",
       "    }\n",
       "\n",
       "    .dataframe thead th {\n",
       "        text-align: left;\n",
       "    }\n",
       "\n",
       "    .dataframe tbody tr th {\n",
       "        vertical-align: top;\n",
       "    }\n",
       "</style>\n",
       "<table border=\"1\" class=\"dataframe\">\n",
       "  <thead>\n",
       "    <tr style=\"text-align: right;\">\n",
       "      <th></th>\n",
       "      <th>renda</th>\n",
       "      <th>idade</th>\n",
       "    </tr>\n",
       "  </thead>\n",
       "  <tbody>\n",
       "    <tr>\n",
       "      <th>count</th>\n",
       "      <td>224800.000000</td>\n",
       "      <td>224800.000000</td>\n",
       "    </tr>\n",
       "    <tr>\n",
       "      <th>mean</th>\n",
       "      <td>1041.142282</td>\n",
       "      <td>41.359346</td>\n",
       "    </tr>\n",
       "    <tr>\n",
       "      <th>std</th>\n",
       "      <td>971.001315</td>\n",
       "      <td>16.361430</td>\n",
       "    </tr>\n",
       "    <tr>\n",
       "      <th>min</th>\n",
       "      <td>0.000000</td>\n",
       "      <td>18.000000</td>\n",
       "    </tr>\n",
       "    <tr>\n",
       "      <th>25%</th>\n",
       "      <td>200.000000</td>\n",
       "      <td>28.000000</td>\n",
       "    </tr>\n",
       "    <tr>\n",
       "      <th>50%</th>\n",
       "      <td>800.000000</td>\n",
       "      <td>39.000000</td>\n",
       "    </tr>\n",
       "    <tr>\n",
       "      <th>75%</th>\n",
       "      <td>1500.000000</td>\n",
       "      <td>53.000000</td>\n",
       "    </tr>\n",
       "    <tr>\n",
       "      <th>max</th>\n",
       "      <td>4998.000000</td>\n",
       "      <td>115.000000</td>\n",
       "    </tr>\n",
       "  </tbody>\n",
       "</table>\n",
       "</div>"
      ],
      "text/plain": [
       "               renda          idade\n",
       "count  224800.000000  224800.000000\n",
       "mean     1041.142282      41.359346\n",
       "std       971.001315      16.361430\n",
       "min         0.000000      18.000000\n",
       "25%       200.000000      28.000000\n",
       "50%       800.000000      39.000000\n",
       "75%      1500.000000      53.000000\n",
       "max      4998.000000     115.000000"
      ]
     },
     "execution_count": 112,
     "metadata": {},
     "output_type": "execute_result"
    }
   ],
   "source": [
    "boxsim.describe()"
   ]
  },
  {
   "cell_type": "markdown",
   "metadata": {},
   "source": [
    "Nessa primeira análise quantitativa temos dois boxplots, o primeiro que analisa a renda de pessoas que não sabem ler e escrever, com uma média salarial de aproximadamente 708 reais, porém com alguma dificuldade de análise visual causada pelo excesso de outliers, pela grande quantidade de pessoas que declararam não saber ler e escrever.\n",
    "Já segundo boxplot, temos a análise de renda de pessoas que sabem ler e escrever onde se pode tomar conclusões mais claras sobre as infrmações que o boxplot nos passa, os quartis, os limites, a mediana e os outliers, com média de aproximadamente 1041 reais."
   ]
  },
  {
   "cell_type": "code",
   "execution_count": 113,
   "metadata": {},
   "outputs": [
    {
     "data": {
      "text/plain": [
       "<matplotlib.text.Text at 0xa4bd519048>"
      ]
     },
     "execution_count": 113,
     "metadata": {},
     "output_type": "execute_result"
    },
    {
     "data": {
      "image/png": "[encoded data removed]",
      "text/plain": [
       "<matplotlib.figure.Figure at 0xa4b2224860>"
      ]
     },
     "metadata": {},
     "output_type": "display_data"
    }
   ],
   "source": [
    "boxsim.hist(column=\"renda\",bins=30)\n",
    "plt.ylabel('pessoas que sabem ler e escrever')\n",
    "plt.xlabel('renda')\n",
    "plt.title('renda de pessoas que sabem ler e escrever')"
   ]
  },
  {
   "cell_type": "markdown",
   "metadata": {},
   "source": [
    "Em mais uma análise quantitativa, podemos analisar visualmente em um histograma a renda das pessoas qua sabem ler e escrever, podemos perceber que existem dois pontos altos, o zero, por uma grande quantidade de pessoas que declarou ter renda zero,e a faixa perto de 800 reais que é representativa ao salário mínimo."
   ]
  },
  {
   "cell_type": "code",
   "execution_count": 114,
   "metadata": {},
   "outputs": [
    {
     "data": {
      "text/plain": [
       "<matplotlib.text.Text at 0xa4b08d1240>"
      ]
     },
     "execution_count": 114,
     "metadata": {},
     "output_type": "execute_result"
    },
    {
     "data": {
      "image/png": "[encoded data removed]",
      "text/plain": [
       "<matplotlib.figure.Figure at 0xa4b8d93a20>"
      ]
     },
     "metadata": {},
     "output_type": "display_data"
    }
   ],
   "source": [
    "boxnao.hist(column=\"renda\",bins=30)\n",
    "plt.ylabel('renda')\n",
    "plt.xlabel('não sabe ler e escrever')\n",
    "plt.title('renda de pessoas que não sabem ler e escrever')"
   ]
  },
  {
   "cell_type": "markdown",
   "metadata": {},
   "source": [
    "No histograma agora da renda de pessoas que não sabem ler e escrever, podemos perceber mais uma vez os pontos altos na faixa de zero reais, e de um salário mínimo."
   ]
  },
  {
   "cell_type": "markdown",
   "metadata": {},
   "source": [
    "___\n",
    "## Conclusão "
   ]
  },
  {
   "cell_type": "markdown",
   "metadata": {},
   "source": [
    "A partir da análise quantitativa e qualitativa feita podem ser tomadas algumas conclusões. A primeira conclusão a ser tomada logo de cara é que existe uma discrepancia entre o salário de pessoas que sabem er e escrever e as que não sabem, um exemplo disso é o fato da média salarial de quem sabe ler e escrever é 50% maior do que quem não sabe.\n",
    "Além disso, sabemos que 85% das pessoas que respondeu a pesquisa afirma saber ler e escrever, o que é um tanto quanto surpreendente devido a divulgação midiática sobre as taxas de analfabetismo no brasil."
   ]
  },
  {
   "cell_type": "markdown",
   "metadata": {
    "collapsed": true
   },
   "source": [
    "A partir da análise de renda por aptidão de cada indivíduo a saber ler e escrever pudemos ter uma ideia de onde se localizam os parametros referentes a renda, como os quartis, os limites, a mediana e os outliers, de cada grupo.\n",
    "Além do mais, na alálise quantitativa foi fundamental a utilizção de outro recurso visual para podermos perceber pontos altos no histograma, que representam a faixa salarial que apresenta maior índice de pessoas, sendo elas as faixa de zero reais, e de um salário mínimo (aproximadamente 954 reais)."
   ]
  }
 ],
 "metadata": {
  "anaconda-cloud": {},
  "kernelspec": {
   "display_name": "Python 3",
   "language": "python",
   "name": "python3"
  },
  "language_info": {
   "codemirror_mode": {
    "name": "ipython",
    "version": 3
   },
   "file_extension": ".py",
   "mimetype": "text/x-python",
   "name": "python",
   "nbconvert_exporter": "python",
   "pygments_lexer": "ipython3",
   "version": "3.6.2"
  }
 },
 "nbformat": 4,
 "nbformat_minor": 1
}
