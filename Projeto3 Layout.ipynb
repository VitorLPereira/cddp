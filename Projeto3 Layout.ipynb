{
 "cells": [
  {
   "cell_type": "markdown",
   "metadata": {},
   "source": [
    "___\n",
    "# Ciência dos Dados - PROJETO 3 - INSPER"
   ]
  },
  {
   "cell_type": "markdown",
   "metadata": {},
   "source": [
    "___\n",
    "## Vitor Pereira\n",
    "\n"
   ]
  },
  {
   "cell_type": "markdown",
   "metadata": {},
   "source": [
    "___\n",
    "\n",
    "## INTRODUÇÃO"
   ]
  },
  {
   "cell_type": "markdown",
   "metadata": {},
   "source": [
    "O objetivo do projeto é criar um modelo preditivo conduzido por uma análise de dados a partir de um dataset escolhido, e a partir de variáveis qualitativas e quantitativas correlacionadas, estimar o valor de uma variável quantitativa. Para tanto, será feita uma análise preditiva da variável quantitativa \"renda\", baseando-se no uso da PNAD 2015 (dataset utilizado no projeto 1), utilizando as variáveis explicativas que foram julgadas relevantes relevantes: Estado de nascimento, sexo, idade, cor ou raça, grau de alfabetização, e rendimento domiciliar per capita no mês da pesquisa. \n",
    "Para que seja possível fazer uma análise bem feita a partir do dataset, é necessário um conhecimento prévio sobre as variáveis que serão trabalhadas, para isso, será feita uma análise descritiva de algumas varíaveis explicativas, relecionando-as à renda.\n",
    "Feito isso, serão adotados dois modelos para a predição da renda, pela o Modelo de Predição pela Média, que por sua vez mais simples, consiste na previsão de um valor fixo para o valor de renda prevista. E o segundo método, o Modelo de Regressão Linear Múltipla, que consiste em prever um valor de uma variável quantitativa escolhida, a partir de uma função que relaciona variáveis explicativas (quantitativas e qualitativas).\n",
    "Cada um dos métodos adotados contará com um modelo de validação da previsão feita, possibilitado pela utilização das técnicas do cálculo dos coeficientes R2 e RMS, possibilitando assim que o valor previsto para a variável renda, tenha sua qualidade avaliada em cada modelo de predição feito."
   ]
  },
  {
   "cell_type": "markdown",
   "metadata": {},
   "source": [
    "___\n",
    "## MINERANDO DADOS e CARACTERÍSTICAS DO DATASET"
   ]
  },
  {
   "cell_type": "markdown",
   "metadata": {},
   "source": [
    "[Detalhe aqui as características da base de dados além da análise descritiva.]"
   ]
  },
  {
   "cell_type": "code",
   "execution_count": 11,
   "metadata": {},
   "outputs": [],
   "source": [
    "import pandas as pd\n",
    "import os\n",
    "import matplotlib.pyplot as plt\n",
    "import numpy as np\n",
    "% matplotlib inline\n",
    "import math as math\n",
    "from scipy import stats\n",
    "import statsmodels.api as sm"
   ]
  },
  {
   "cell_type": "code",
   "execution_count": 12,
   "metadata": {},
   "outputs": [
    {
     "name": "stdout",
     "output_type": "stream",
     "text": [
      "Esperamos trabalhar no diretório\n",
      "C:\\Users\\vitor\\Documents\\DP dados\n"
     ]
    }
   ],
   "source": [
    "print('Esperamos trabalhar no diretório')\n",
    "print(os.getcwd())\n",
    "\n",
    "valores=pd.read_csv('PES2015csv.zip', compression='zip', header=0, sep=',', quotechar='\"')\n",
    "\n",
    "\n",
    "dados=pd.DataFrame({\n",
    "\n",
    "    'Regiao' :valores.UF,\n",
    "    'Sexo' :valores.V0302,\n",
    "    'Idade' :valores.V8005,\n",
    "    'Cor_ou_raca':valores.V0404,\n",
    "    'Sabe_ler_e_escrever' :valores.V0601,\n",
    "    'renda' :valores.V4720,\n",
    "    'Rendimento_mensal_domiciliar_per_capita' :valores.V4742\n",
    "    })\n",
    "\n",
    "\n",
    "\n",
    "dados=dados[['Regiao','Sexo','Idade','Cor_ou_raca','Sabe_ler_e_escrever','renda','Rendimento_mensal_domiciliar_per_capita']]\n",
    "\n",
    "\n",
    "dados.Sexo=dados.Sexo.astype('category')\n",
    "dados.Sexo.cat.categories=(['Masculino','Feminino'])\n",
    "\n",
    "dados.Cor_ou_raca=dados.Cor_ou_raca.astype('category')\n",
    "dados.Cor_ou_raca.cat.categories=(['Indígena','Branca','Preta','Amarela','Parda','Sem declaração'])\n",
    "\n",
    "dados.Sabe_ler_e_escrever=dados.Sabe_ler_e_escrever.astype('category')\n",
    "dados.Sabe_ler_e_escrever.cat.categories=('Sim','Não')\n",
    "\n",
    "\n",
    "def Estados(linha):\n",
    "    if linha>=11 and linha<=17:\n",
    "        return 'Norte'\n",
    "    if linha>=21 and linha<=29:\n",
    "        return 'Nordeste'\n",
    "    if linha>=31 and linha<=35:\n",
    "        return 'Sudeste'\n",
    "    if linha>=41 and linha<=43:\n",
    "        return 'Sul'\n",
    "    if linha>=50 and linha<=53:\n",
    "        return 'Centro-Oeste'\n",
    "    \n",
    "dados.Regiao=dados.Regiao.apply(Estados)\n",
    "\n",
    "dados=dados[dados.renda<4000]"
   ]
  },
  {
   "cell_type": "markdown",
   "metadata": {},
   "source": [
    "### BASE DE DADOS"
   ]
  },
  {
   "cell_type": "code",
   "execution_count": 13,
   "metadata": {},
   "outputs": [
    {
     "data": {
      "text/html": [
       "<div>\n",
       "<style scoped>\n",
       "    .dataframe tbody tr th:only-of-type {\n",
       "        vertical-align: middle;\n",
       "    }\n",
       "\n",
       "    .dataframe tbody tr th {\n",
       "        vertical-align: top;\n",
       "    }\n",
       "\n",
       "    .dataframe thead th {\n",
       "        text-align: right;\n",
       "    }\n",
       "</style>\n",
       "<table border=\"1\" class=\"dataframe\">\n",
       "  <thead>\n",
       "    <tr style=\"text-align: right;\">\n",
       "      <th></th>\n",
       "      <th>Regiao</th>\n",
       "      <th>Sexo</th>\n",
       "      <th>Idade</th>\n",
       "      <th>Cor_ou_raca</th>\n",
       "      <th>Sabe_ler_e_escrever</th>\n",
       "      <th>renda</th>\n",
       "      <th>Rendimento_mensal_domiciliar_per_capita</th>\n",
       "    </tr>\n",
       "  </thead>\n",
       "  <tbody>\n",
       "    <tr>\n",
       "      <th>0</th>\n",
       "      <td>Norte</td>\n",
       "      <td>Masculino</td>\n",
       "      <td>23</td>\n",
       "      <td>Parda</td>\n",
       "      <td>Sim</td>\n",
       "      <td>800.0</td>\n",
       "      <td>8.000000e+02</td>\n",
       "    </tr>\n",
       "    <tr>\n",
       "      <th>1</th>\n",
       "      <td>Norte</td>\n",
       "      <td>Feminino</td>\n",
       "      <td>23</td>\n",
       "      <td>Branca</td>\n",
       "      <td>Sim</td>\n",
       "      <td>1150.0</td>\n",
       "      <td>1.150000e+03</td>\n",
       "    </tr>\n",
       "    <tr>\n",
       "      <th>2</th>\n",
       "      <td>Norte</td>\n",
       "      <td>Feminino</td>\n",
       "      <td>35</td>\n",
       "      <td>Parda</td>\n",
       "      <td>Sim</td>\n",
       "      <td>880.0</td>\n",
       "      <td>7.930000e+02</td>\n",
       "    </tr>\n",
       "    <tr>\n",
       "      <th>3</th>\n",
       "      <td>Norte</td>\n",
       "      <td>Masculino</td>\n",
       "      <td>34</td>\n",
       "      <td>Parda</td>\n",
       "      <td>Sim</td>\n",
       "      <td>3000.0</td>\n",
       "      <td>7.930000e+02</td>\n",
       "    </tr>\n",
       "    <tr>\n",
       "      <th>4</th>\n",
       "      <td>Norte</td>\n",
       "      <td>Feminino</td>\n",
       "      <td>11</td>\n",
       "      <td>Parda</td>\n",
       "      <td>Sim</td>\n",
       "      <td>0.0</td>\n",
       "      <td>7.930000e+02</td>\n",
       "    </tr>\n",
       "    <tr>\n",
       "      <th>7</th>\n",
       "      <td>Norte</td>\n",
       "      <td>Feminino</td>\n",
       "      <td>18</td>\n",
       "      <td>Parda</td>\n",
       "      <td>Sim</td>\n",
       "      <td>880.0</td>\n",
       "      <td>7.930000e+02</td>\n",
       "    </tr>\n",
       "    <tr>\n",
       "      <th>8</th>\n",
       "      <td>Norte</td>\n",
       "      <td>Masculino</td>\n",
       "      <td>46</td>\n",
       "      <td>Branca</td>\n",
       "      <td>Sim</td>\n",
       "      <td>3500.0</td>\n",
       "      <td>2.900000e+03</td>\n",
       "    </tr>\n",
       "    <tr>\n",
       "      <th>9</th>\n",
       "      <td>Norte</td>\n",
       "      <td>Feminino</td>\n",
       "      <td>81</td>\n",
       "      <td>Parda</td>\n",
       "      <td>Sim</td>\n",
       "      <td>2300.0</td>\n",
       "      <td>2.900000e+03</td>\n",
       "    </tr>\n",
       "    <tr>\n",
       "      <th>10</th>\n",
       "      <td>Norte</td>\n",
       "      <td>Feminino</td>\n",
       "      <td>71</td>\n",
       "      <td>Branca</td>\n",
       "      <td>Sim</td>\n",
       "      <td>1990.0</td>\n",
       "      <td>1.990000e+03</td>\n",
       "    </tr>\n",
       "    <tr>\n",
       "      <th>11</th>\n",
       "      <td>Norte</td>\n",
       "      <td>Feminino</td>\n",
       "      <td>47</td>\n",
       "      <td>Parda</td>\n",
       "      <td>Sim</td>\n",
       "      <td>700.0</td>\n",
       "      <td>3.500000e+02</td>\n",
       "    </tr>\n",
       "    <tr>\n",
       "      <th>12</th>\n",
       "      <td>Norte</td>\n",
       "      <td>Masculino</td>\n",
       "      <td>24</td>\n",
       "      <td>Branca</td>\n",
       "      <td>Sim</td>\n",
       "      <td>0.0</td>\n",
       "      <td>3.500000e+02</td>\n",
       "    </tr>\n",
       "    <tr>\n",
       "      <th>13</th>\n",
       "      <td>Norte</td>\n",
       "      <td>Feminino</td>\n",
       "      <td>28</td>\n",
       "      <td>Parda</td>\n",
       "      <td>Sim</td>\n",
       "      <td>0.0</td>\n",
       "      <td>1.333000e+03</td>\n",
       "    </tr>\n",
       "    <tr>\n",
       "      <th>16</th>\n",
       "      <td>Norte</td>\n",
       "      <td>Feminino</td>\n",
       "      <td>34</td>\n",
       "      <td>Parda</td>\n",
       "      <td>Sim</td>\n",
       "      <td>1160.0</td>\n",
       "      <td>8.180000e+02</td>\n",
       "    </tr>\n",
       "    <tr>\n",
       "      <th>17</th>\n",
       "      <td>Norte</td>\n",
       "      <td>Masculino</td>\n",
       "      <td>35</td>\n",
       "      <td>Parda</td>\n",
       "      <td>Sim</td>\n",
       "      <td>2000.0</td>\n",
       "      <td>8.180000e+02</td>\n",
       "    </tr>\n",
       "    <tr>\n",
       "      <th>18</th>\n",
       "      <td>Norte</td>\n",
       "      <td>Masculino</td>\n",
       "      <td>16</td>\n",
       "      <td>Parda</td>\n",
       "      <td>Sim</td>\n",
       "      <td>930.0</td>\n",
       "      <td>8.180000e+02</td>\n",
       "    </tr>\n",
       "    <tr>\n",
       "      <th>19</th>\n",
       "      <td>Norte</td>\n",
       "      <td>Feminino</td>\n",
       "      <td>11</td>\n",
       "      <td>Parda</td>\n",
       "      <td>Sim</td>\n",
       "      <td>0.0</td>\n",
       "      <td>8.180000e+02</td>\n",
       "    </tr>\n",
       "    <tr>\n",
       "      <th>21</th>\n",
       "      <td>Norte</td>\n",
       "      <td>Masculino</td>\n",
       "      <td>57</td>\n",
       "      <td>Parda</td>\n",
       "      <td>Sim</td>\n",
       "      <td>3150.0</td>\n",
       "      <td>1.716000e+03</td>\n",
       "    </tr>\n",
       "    <tr>\n",
       "      <th>22</th>\n",
       "      <td>Norte</td>\n",
       "      <td>Feminino</td>\n",
       "      <td>51</td>\n",
       "      <td>Parda</td>\n",
       "      <td>Sim</td>\n",
       "      <td>2000.0</td>\n",
       "      <td>1.716000e+03</td>\n",
       "    </tr>\n",
       "    <tr>\n",
       "      <th>23</th>\n",
       "      <td>Norte</td>\n",
       "      <td>Masculino</td>\n",
       "      <td>16</td>\n",
       "      <td>Parda</td>\n",
       "      <td>Sim</td>\n",
       "      <td>0.0</td>\n",
       "      <td>1.716000e+03</td>\n",
       "    </tr>\n",
       "    <tr>\n",
       "      <th>24</th>\n",
       "      <td>Norte</td>\n",
       "      <td>Feminino</td>\n",
       "      <td>60</td>\n",
       "      <td>Parda</td>\n",
       "      <td>Sim</td>\n",
       "      <td>2500.0</td>\n",
       "      <td>2.500000e+03</td>\n",
       "    </tr>\n",
       "    <tr>\n",
       "      <th>25</th>\n",
       "      <td>Norte</td>\n",
       "      <td>Feminino</td>\n",
       "      <td>50</td>\n",
       "      <td>Preta</td>\n",
       "      <td>Sim</td>\n",
       "      <td>1800.0</td>\n",
       "      <td>1.400000e+03</td>\n",
       "    </tr>\n",
       "    <tr>\n",
       "      <th>26</th>\n",
       "      <td>Norte</td>\n",
       "      <td>Feminino</td>\n",
       "      <td>30</td>\n",
       "      <td>Parda</td>\n",
       "      <td>Sim</td>\n",
       "      <td>1000.0</td>\n",
       "      <td>1.400000e+03</td>\n",
       "    </tr>\n",
       "    <tr>\n",
       "      <th>27</th>\n",
       "      <td>Norte</td>\n",
       "      <td>Masculino</td>\n",
       "      <td>26</td>\n",
       "      <td>Parda</td>\n",
       "      <td>Sim</td>\n",
       "      <td>1150.0</td>\n",
       "      <td>6.660000e+02</td>\n",
       "    </tr>\n",
       "    <tr>\n",
       "      <th>28</th>\n",
       "      <td>Norte</td>\n",
       "      <td>Feminino</td>\n",
       "      <td>20</td>\n",
       "      <td>Parda</td>\n",
       "      <td>Sim</td>\n",
       "      <td>850.0</td>\n",
       "      <td>6.660000e+02</td>\n",
       "    </tr>\n",
       "    <tr>\n",
       "      <th>30</th>\n",
       "      <td>Norte</td>\n",
       "      <td>Feminino</td>\n",
       "      <td>54</td>\n",
       "      <td>Parda</td>\n",
       "      <td>Sim</td>\n",
       "      <td>788.0</td>\n",
       "      <td>7.880000e+02</td>\n",
       "    </tr>\n",
       "    <tr>\n",
       "      <th>31</th>\n",
       "      <td>Norte</td>\n",
       "      <td>Feminino</td>\n",
       "      <td>46</td>\n",
       "      <td>Parda</td>\n",
       "      <td>Sim</td>\n",
       "      <td>3000.0</td>\n",
       "      <td>7.500000e+02</td>\n",
       "    </tr>\n",
       "    <tr>\n",
       "      <th>32</th>\n",
       "      <td>Norte</td>\n",
       "      <td>Feminino</td>\n",
       "      <td>10</td>\n",
       "      <td>Parda</td>\n",
       "      <td>Sim</td>\n",
       "      <td>0.0</td>\n",
       "      <td>7.500000e+02</td>\n",
       "    </tr>\n",
       "    <tr>\n",
       "      <th>33</th>\n",
       "      <td>Norte</td>\n",
       "      <td>Feminino</td>\n",
       "      <td>22</td>\n",
       "      <td>Parda</td>\n",
       "      <td>Sim</td>\n",
       "      <td>0.0</td>\n",
       "      <td>7.500000e+02</td>\n",
       "    </tr>\n",
       "    <tr>\n",
       "      <th>35</th>\n",
       "      <td>Norte</td>\n",
       "      <td>Feminino</td>\n",
       "      <td>49</td>\n",
       "      <td>Parda</td>\n",
       "      <td>Sim</td>\n",
       "      <td>2500.0</td>\n",
       "      <td>1.437000e+03</td>\n",
       "    </tr>\n",
       "    <tr>\n",
       "      <th>36</th>\n",
       "      <td>Norte</td>\n",
       "      <td>Masculino</td>\n",
       "      <td>45</td>\n",
       "      <td>Parda</td>\n",
       "      <td>Sim</td>\n",
       "      <td>1700.0</td>\n",
       "      <td>1.437000e+03</td>\n",
       "    </tr>\n",
       "    <tr>\n",
       "      <th>...</th>\n",
       "      <td>...</td>\n",
       "      <td>...</td>\n",
       "      <td>...</td>\n",
       "      <td>...</td>\n",
       "      <td>...</td>\n",
       "      <td>...</td>\n",
       "      <td>...</td>\n",
       "    </tr>\n",
       "    <tr>\n",
       "      <th>356864</th>\n",
       "      <td>Centro-Oeste</td>\n",
       "      <td>Masculino</td>\n",
       "      <td>88</td>\n",
       "      <td>Parda</td>\n",
       "      <td>Não</td>\n",
       "      <td>0.0</td>\n",
       "      <td>6.350000e+02</td>\n",
       "    </tr>\n",
       "    <tr>\n",
       "      <th>356865</th>\n",
       "      <td>Centro-Oeste</td>\n",
       "      <td>Feminino</td>\n",
       "      <td>55</td>\n",
       "      <td>Parda</td>\n",
       "      <td>Sim</td>\n",
       "      <td>0.0</td>\n",
       "      <td>6.350000e+02</td>\n",
       "    </tr>\n",
       "    <tr>\n",
       "      <th>356866</th>\n",
       "      <td>Centro-Oeste</td>\n",
       "      <td>Masculino</td>\n",
       "      <td>51</td>\n",
       "      <td>Parda</td>\n",
       "      <td>Sim</td>\n",
       "      <td>788.0</td>\n",
       "      <td>6.350000e+02</td>\n",
       "    </tr>\n",
       "    <tr>\n",
       "      <th>356867</th>\n",
       "      <td>Centro-Oeste</td>\n",
       "      <td>Masculino</td>\n",
       "      <td>47</td>\n",
       "      <td>Branca</td>\n",
       "      <td>Não</td>\n",
       "      <td>1576.0</td>\n",
       "      <td>6.350000e+02</td>\n",
       "    </tr>\n",
       "    <tr>\n",
       "      <th>356868</th>\n",
       "      <td>Centro-Oeste</td>\n",
       "      <td>Feminino</td>\n",
       "      <td>35</td>\n",
       "      <td>Preta</td>\n",
       "      <td>Não</td>\n",
       "      <td>1100.0</td>\n",
       "      <td>3.660000e+02</td>\n",
       "    </tr>\n",
       "    <tr>\n",
       "      <th>356869</th>\n",
       "      <td>Centro-Oeste</td>\n",
       "      <td>Masculino</td>\n",
       "      <td>18</td>\n",
       "      <td>Preta</td>\n",
       "      <td>Sim</td>\n",
       "      <td>0.0</td>\n",
       "      <td>3.660000e+02</td>\n",
       "    </tr>\n",
       "    <tr>\n",
       "      <th>356870</th>\n",
       "      <td>Centro-Oeste</td>\n",
       "      <td>Masculino</td>\n",
       "      <td>11</td>\n",
       "      <td>Preta</td>\n",
       "      <td>Sim</td>\n",
       "      <td>0.0</td>\n",
       "      <td>3.660000e+02</td>\n",
       "    </tr>\n",
       "    <tr>\n",
       "      <th>356871</th>\n",
       "      <td>Centro-Oeste</td>\n",
       "      <td>Feminino</td>\n",
       "      <td>46</td>\n",
       "      <td>Branca</td>\n",
       "      <td>Sim</td>\n",
       "      <td>982.0</td>\n",
       "      <td>1.000000e+12</td>\n",
       "    </tr>\n",
       "    <tr>\n",
       "      <th>356873</th>\n",
       "      <td>Centro-Oeste</td>\n",
       "      <td>Masculino</td>\n",
       "      <td>20</td>\n",
       "      <td>Parda</td>\n",
       "      <td>Sim</td>\n",
       "      <td>170.0</td>\n",
       "      <td>1.000000e+12</td>\n",
       "    </tr>\n",
       "    <tr>\n",
       "      <th>356874</th>\n",
       "      <td>Centro-Oeste</td>\n",
       "      <td>Masculino</td>\n",
       "      <td>15</td>\n",
       "      <td>Parda</td>\n",
       "      <td>Sim</td>\n",
       "      <td>160.0</td>\n",
       "      <td>1.000000e+12</td>\n",
       "    </tr>\n",
       "    <tr>\n",
       "      <th>356875</th>\n",
       "      <td>Centro-Oeste</td>\n",
       "      <td>Masculino</td>\n",
       "      <td>54</td>\n",
       "      <td>Branca</td>\n",
       "      <td>Não</td>\n",
       "      <td>0.0</td>\n",
       "      <td>2.810000e+02</td>\n",
       "    </tr>\n",
       "    <tr>\n",
       "      <th>356876</th>\n",
       "      <td>Centro-Oeste</td>\n",
       "      <td>Feminino</td>\n",
       "      <td>47</td>\n",
       "      <td>Parda</td>\n",
       "      <td>Não</td>\n",
       "      <td>877.0</td>\n",
       "      <td>2.810000e+02</td>\n",
       "    </tr>\n",
       "    <tr>\n",
       "      <th>356877</th>\n",
       "      <td>Centro-Oeste</td>\n",
       "      <td>Feminino</td>\n",
       "      <td>24</td>\n",
       "      <td>Branca</td>\n",
       "      <td>Sim</td>\n",
       "      <td>0.0</td>\n",
       "      <td>2.810000e+02</td>\n",
       "    </tr>\n",
       "    <tr>\n",
       "      <th>356878</th>\n",
       "      <td>Centro-Oeste</td>\n",
       "      <td>Masculino</td>\n",
       "      <td>22</td>\n",
       "      <td>Branca</td>\n",
       "      <td>Sim</td>\n",
       "      <td>0.0</td>\n",
       "      <td>2.810000e+02</td>\n",
       "    </tr>\n",
       "    <tr>\n",
       "      <th>356879</th>\n",
       "      <td>Centro-Oeste</td>\n",
       "      <td>Masculino</td>\n",
       "      <td>20</td>\n",
       "      <td>Parda</td>\n",
       "      <td>Sim</td>\n",
       "      <td>0.0</td>\n",
       "      <td>2.810000e+02</td>\n",
       "    </tr>\n",
       "    <tr>\n",
       "      <th>356880</th>\n",
       "      <td>Centro-Oeste</td>\n",
       "      <td>Feminino</td>\n",
       "      <td>28</td>\n",
       "      <td>Parda</td>\n",
       "      <td>Sim</td>\n",
       "      <td>812.0</td>\n",
       "      <td>2.810000e+02</td>\n",
       "    </tr>\n",
       "    <tr>\n",
       "      <th>356881</th>\n",
       "      <td>Centro-Oeste</td>\n",
       "      <td>Masculino</td>\n",
       "      <td>30</td>\n",
       "      <td>Preta</td>\n",
       "      <td>Sim</td>\n",
       "      <td>3100.0</td>\n",
       "      <td>7.750000e+02</td>\n",
       "    </tr>\n",
       "    <tr>\n",
       "      <th>356882</th>\n",
       "      <td>Centro-Oeste</td>\n",
       "      <td>Feminino</td>\n",
       "      <td>31</td>\n",
       "      <td>Branca</td>\n",
       "      <td>Sim</td>\n",
       "      <td>0.0</td>\n",
       "      <td>7.750000e+02</td>\n",
       "    </tr>\n",
       "    <tr>\n",
       "      <th>356885</th>\n",
       "      <td>Centro-Oeste</td>\n",
       "      <td>Masculino</td>\n",
       "      <td>32</td>\n",
       "      <td>Parda</td>\n",
       "      <td>Sim</td>\n",
       "      <td>1600.0</td>\n",
       "      <td>6.750000e+02</td>\n",
       "    </tr>\n",
       "    <tr>\n",
       "      <th>356886</th>\n",
       "      <td>Centro-Oeste</td>\n",
       "      <td>Feminino</td>\n",
       "      <td>30</td>\n",
       "      <td>Parda</td>\n",
       "      <td>Sim</td>\n",
       "      <td>1100.0</td>\n",
       "      <td>6.750000e+02</td>\n",
       "    </tr>\n",
       "    <tr>\n",
       "      <th>356889</th>\n",
       "      <td>Centro-Oeste</td>\n",
       "      <td>Feminino</td>\n",
       "      <td>34</td>\n",
       "      <td>Preta</td>\n",
       "      <td>Sim</td>\n",
       "      <td>500.0</td>\n",
       "      <td>1.000000e+02</td>\n",
       "    </tr>\n",
       "    <tr>\n",
       "      <th>356894</th>\n",
       "      <td>Centro-Oeste</td>\n",
       "      <td>Feminino</td>\n",
       "      <td>57</td>\n",
       "      <td>Parda</td>\n",
       "      <td>Não</td>\n",
       "      <td>800.0</td>\n",
       "      <td>7.960000e+02</td>\n",
       "    </tr>\n",
       "    <tr>\n",
       "      <th>356895</th>\n",
       "      <td>Centro-Oeste</td>\n",
       "      <td>Feminino</td>\n",
       "      <td>36</td>\n",
       "      <td>Parda</td>\n",
       "      <td>Sim</td>\n",
       "      <td>800.0</td>\n",
       "      <td>7.960000e+02</td>\n",
       "    </tr>\n",
       "    <tr>\n",
       "      <th>356896</th>\n",
       "      <td>Centro-Oeste</td>\n",
       "      <td>Feminino</td>\n",
       "      <td>18</td>\n",
       "      <td>Parda</td>\n",
       "      <td>Sim</td>\n",
       "      <td>788.0</td>\n",
       "      <td>7.960000e+02</td>\n",
       "    </tr>\n",
       "    <tr>\n",
       "      <th>356897</th>\n",
       "      <td>Centro-Oeste</td>\n",
       "      <td>Masculino</td>\n",
       "      <td>57</td>\n",
       "      <td>Parda</td>\n",
       "      <td>Sim</td>\n",
       "      <td>1500.0</td>\n",
       "      <td>7.500000e+02</td>\n",
       "    </tr>\n",
       "    <tr>\n",
       "      <th>356898</th>\n",
       "      <td>Centro-Oeste</td>\n",
       "      <td>Feminino</td>\n",
       "      <td>33</td>\n",
       "      <td>Parda</td>\n",
       "      <td>Sim</td>\n",
       "      <td>0.0</td>\n",
       "      <td>7.500000e+02</td>\n",
       "    </tr>\n",
       "    <tr>\n",
       "      <th>356899</th>\n",
       "      <td>Centro-Oeste</td>\n",
       "      <td>Masculino</td>\n",
       "      <td>38</td>\n",
       "      <td>Parda</td>\n",
       "      <td>Sim</td>\n",
       "      <td>900.0</td>\n",
       "      <td>2.590000e+02</td>\n",
       "    </tr>\n",
       "    <tr>\n",
       "      <th>356900</th>\n",
       "      <td>Centro-Oeste</td>\n",
       "      <td>Feminino</td>\n",
       "      <td>39</td>\n",
       "      <td>Parda</td>\n",
       "      <td>Sim</td>\n",
       "      <td>96.0</td>\n",
       "      <td>2.590000e+02</td>\n",
       "    </tr>\n",
       "    <tr>\n",
       "      <th>356901</th>\n",
       "      <td>Centro-Oeste</td>\n",
       "      <td>Feminino</td>\n",
       "      <td>17</td>\n",
       "      <td>Parda</td>\n",
       "      <td>Sim</td>\n",
       "      <td>300.0</td>\n",
       "      <td>2.590000e+02</td>\n",
       "    </tr>\n",
       "    <tr>\n",
       "      <th>356902</th>\n",
       "      <td>Centro-Oeste</td>\n",
       "      <td>Feminino</td>\n",
       "      <td>15</td>\n",
       "      <td>Parda</td>\n",
       "      <td>Sim</td>\n",
       "      <td>0.0</td>\n",
       "      <td>2.590000e+02</td>\n",
       "    </tr>\n",
       "  </tbody>\n",
       "</table>\n",
       "<p>288289 rows × 7 columns</p>\n",
       "</div>"
      ],
      "text/plain": [
       "              Regiao       Sexo  Idade Cor_ou_raca Sabe_ler_e_escrever  \\\n",
       "0              Norte  Masculino     23       Parda                 Sim   \n",
       "1              Norte   Feminino     23      Branca                 Sim   \n",
       "2              Norte   Feminino     35       Parda                 Sim   \n",
       "3              Norte  Masculino     34       Parda                 Sim   \n",
       "4              Norte   Feminino     11       Parda                 Sim   \n",
       "7              Norte   Feminino     18       Parda                 Sim   \n",
       "8              Norte  Masculino     46      Branca                 Sim   \n",
       "9              Norte   Feminino     81       Parda                 Sim   \n",
       "10             Norte   Feminino     71      Branca                 Sim   \n",
       "11             Norte   Feminino     47       Parda                 Sim   \n",
       "12             Norte  Masculino     24      Branca                 Sim   \n",
       "13             Norte   Feminino     28       Parda                 Sim   \n",
       "16             Norte   Feminino     34       Parda                 Sim   \n",
       "17             Norte  Masculino     35       Parda                 Sim   \n",
       "18             Norte  Masculino     16       Parda                 Sim   \n",
       "19             Norte   Feminino     11       Parda                 Sim   \n",
       "21             Norte  Masculino     57       Parda                 Sim   \n",
       "22             Norte   Feminino     51       Parda                 Sim   \n",
       "23             Norte  Masculino     16       Parda                 Sim   \n",
       "24             Norte   Feminino     60       Parda                 Sim   \n",
       "25             Norte   Feminino     50       Preta                 Sim   \n",
       "26             Norte   Feminino     30       Parda                 Sim   \n",
       "27             Norte  Masculino     26       Parda                 Sim   \n",
       "28             Norte   Feminino     20       Parda                 Sim   \n",
       "30             Norte   Feminino     54       Parda                 Sim   \n",
       "31             Norte   Feminino     46       Parda                 Sim   \n",
       "32             Norte   Feminino     10       Parda                 Sim   \n",
       "33             Norte   Feminino     22       Parda                 Sim   \n",
       "35             Norte   Feminino     49       Parda                 Sim   \n",
       "36             Norte  Masculino     45       Parda                 Sim   \n",
       "...              ...        ...    ...         ...                 ...   \n",
       "356864  Centro-Oeste  Masculino     88       Parda                 Não   \n",
       "356865  Centro-Oeste   Feminino     55       Parda                 Sim   \n",
       "356866  Centro-Oeste  Masculino     51       Parda                 Sim   \n",
       "356867  Centro-Oeste  Masculino     47      Branca                 Não   \n",
       "356868  Centro-Oeste   Feminino     35       Preta                 Não   \n",
       "356869  Centro-Oeste  Masculino     18       Preta                 Sim   \n",
       "356870  Centro-Oeste  Masculino     11       Preta                 Sim   \n",
       "356871  Centro-Oeste   Feminino     46      Branca                 Sim   \n",
       "356873  Centro-Oeste  Masculino     20       Parda                 Sim   \n",
       "356874  Centro-Oeste  Masculino     15       Parda                 Sim   \n",
       "356875  Centro-Oeste  Masculino     54      Branca                 Não   \n",
       "356876  Centro-Oeste   Feminino     47       Parda                 Não   \n",
       "356877  Centro-Oeste   Feminino     24      Branca                 Sim   \n",
       "356878  Centro-Oeste  Masculino     22      Branca                 Sim   \n",
       "356879  Centro-Oeste  Masculino     20       Parda                 Sim   \n",
       "356880  Centro-Oeste   Feminino     28       Parda                 Sim   \n",
       "356881  Centro-Oeste  Masculino     30       Preta                 Sim   \n",
       "356882  Centro-Oeste   Feminino     31      Branca                 Sim   \n",
       "356885  Centro-Oeste  Masculino     32       Parda                 Sim   \n",
       "356886  Centro-Oeste   Feminino     30       Parda                 Sim   \n",
       "356889  Centro-Oeste   Feminino     34       Preta                 Sim   \n",
       "356894  Centro-Oeste   Feminino     57       Parda                 Não   \n",
       "356895  Centro-Oeste   Feminino     36       Parda                 Sim   \n",
       "356896  Centro-Oeste   Feminino     18       Parda                 Sim   \n",
       "356897  Centro-Oeste  Masculino     57       Parda                 Sim   \n",
       "356898  Centro-Oeste   Feminino     33       Parda                 Sim   \n",
       "356899  Centro-Oeste  Masculino     38       Parda                 Sim   \n",
       "356900  Centro-Oeste   Feminino     39       Parda                 Sim   \n",
       "356901  Centro-Oeste   Feminino     17       Parda                 Sim   \n",
       "356902  Centro-Oeste   Feminino     15       Parda                 Sim   \n",
       "\n",
       "         renda  Rendimento_mensal_domiciliar_per_capita  \n",
       "0        800.0                             8.000000e+02  \n",
       "1       1150.0                             1.150000e+03  \n",
       "2        880.0                             7.930000e+02  \n",
       "3       3000.0                             7.930000e+02  \n",
       "4          0.0                             7.930000e+02  \n",
       "7        880.0                             7.930000e+02  \n",
       "8       3500.0                             2.900000e+03  \n",
       "9       2300.0                             2.900000e+03  \n",
       "10      1990.0                             1.990000e+03  \n",
       "11       700.0                             3.500000e+02  \n",
       "12         0.0                             3.500000e+02  \n",
       "13         0.0                             1.333000e+03  \n",
       "16      1160.0                             8.180000e+02  \n",
       "17      2000.0                             8.180000e+02  \n",
       "18       930.0                             8.180000e+02  \n",
       "19         0.0                             8.180000e+02  \n",
       "21      3150.0                             1.716000e+03  \n",
       "22      2000.0                             1.716000e+03  \n",
       "23         0.0                             1.716000e+03  \n",
       "24      2500.0                             2.500000e+03  \n",
       "25      1800.0                             1.400000e+03  \n",
       "26      1000.0                             1.400000e+03  \n",
       "27      1150.0                             6.660000e+02  \n",
       "28       850.0                             6.660000e+02  \n",
       "30       788.0                             7.880000e+02  \n",
       "31      3000.0                             7.500000e+02  \n",
       "32         0.0                             7.500000e+02  \n",
       "33         0.0                             7.500000e+02  \n",
       "35      2500.0                             1.437000e+03  \n",
       "36      1700.0                             1.437000e+03  \n",
       "...        ...                                      ...  \n",
       "356864     0.0                             6.350000e+02  \n",
       "356865     0.0                             6.350000e+02  \n",
       "356866   788.0                             6.350000e+02  \n",
       "356867  1576.0                             6.350000e+02  \n",
       "356868  1100.0                             3.660000e+02  \n",
       "356869     0.0                             3.660000e+02  \n",
       "356870     0.0                             3.660000e+02  \n",
       "356871   982.0                             1.000000e+12  \n",
       "356873   170.0                             1.000000e+12  \n",
       "356874   160.0                             1.000000e+12  \n",
       "356875     0.0                             2.810000e+02  \n",
       "356876   877.0                             2.810000e+02  \n",
       "356877     0.0                             2.810000e+02  \n",
       "356878     0.0                             2.810000e+02  \n",
       "356879     0.0                             2.810000e+02  \n",
       "356880   812.0                             2.810000e+02  \n",
       "356881  3100.0                             7.750000e+02  \n",
       "356882     0.0                             7.750000e+02  \n",
       "356885  1600.0                             6.750000e+02  \n",
       "356886  1100.0                             6.750000e+02  \n",
       "356889   500.0                             1.000000e+02  \n",
       "356894   800.0                             7.960000e+02  \n",
       "356895   800.0                             7.960000e+02  \n",
       "356896   788.0                             7.960000e+02  \n",
       "356897  1500.0                             7.500000e+02  \n",
       "356898     0.0                             7.500000e+02  \n",
       "356899   900.0                             2.590000e+02  \n",
       "356900    96.0                             2.590000e+02  \n",
       "356901   300.0                             2.590000e+02  \n",
       "356902     0.0                             2.590000e+02  \n",
       "\n",
       "[288289 rows x 7 columns]"
      ]
     },
     "execution_count": 13,
     "metadata": {},
     "output_type": "execute_result"
    }
   ],
   "source": [
    "dados"
   ]
  },
  {
   "cell_type": "markdown",
   "metadata": {},
   "source": [
    "Nessa primeira parte do projeto foram importadas as funções a serem utilizadas no projeto, o dataframe foi atribuido a uma  variável e para ela foram relacionadas as variáveis a serem utilizadas no projeto, presentes do dataset.\n",
    "Em seguida a essas variáveis, foram aplicados filtros que para as qualitativas, utilizando a função 'astype('category')' foram transformadas em formato texto para facilitar a vizualização do dataset. além disso para a variável 'Regioes' foi aplicada um função que separa os estados nas regiões correspondentes no mapa brasileiro.\n",
    "E por último porém não menos importante, a variável quantitativa renda foi limitada a um valor de 40.000 por causa de valores presentes no database que não correspondiam com a realidade ou não seriam importantes para a análise.\n"
   ]
  },
  {
   "cell_type": "markdown",
   "metadata": {},
   "source": [
    "### ANÁLISE DESCRITIVA"
   ]
  },
  {
   "cell_type": "code",
   "execution_count": 14,
   "metadata": {},
   "outputs": [
    {
     "data": {
      "image/png": "[encoded data removed]",
      "text/plain": [
       "<matplotlib.figure.Figure at 0x23f01386748>"
      ]
     },
     "metadata": {},
     "output_type": "display_data"
    }
   ],
   "source": [
    "BoxMasc=dados[(dados.Sexo == \"Masculino\")]\n",
    "BoxFem=dados[(dados.Sexo == \"Feminino\")]\n",
    "\n",
    "plot = BoxMasc.renda.plot(kind='box',title='.')\n",
    "\n",
    "plt.ylabel('renda')\n",
    "plt.xlabel('Sexo Masculino')\n",
    "plt.title('renda de pessoas do sexo Masculino')\n",
    "plt.show()"
   ]
  },
  {
   "cell_type": "code",
   "execution_count": 15,
   "metadata": {},
   "outputs": [
    {
     "data": {
      "text/html": [
       "<div>\n",
       "<style scoped>\n",
       "    .dataframe tbody tr th:only-of-type {\n",
       "        vertical-align: middle;\n",
       "    }\n",
       "\n",
       "    .dataframe tbody tr th {\n",
       "        vertical-align: top;\n",
       "    }\n",
       "\n",
       "    .dataframe thead th {\n",
       "        text-align: right;\n",
       "    }\n",
       "</style>\n",
       "<table border=\"1\" class=\"dataframe\">\n",
       "  <thead>\n",
       "    <tr style=\"text-align: right;\">\n",
       "      <th></th>\n",
       "      <th>Idade</th>\n",
       "      <th>renda</th>\n",
       "      <th>Rendimento_mensal_domiciliar_per_capita</th>\n",
       "    </tr>\n",
       "  </thead>\n",
       "  <tbody>\n",
       "    <tr>\n",
       "      <th>count</th>\n",
       "      <td>135776.000000</td>\n",
       "      <td>135776.000000</td>\n",
       "      <td>1.355600e+05</td>\n",
       "    </tr>\n",
       "    <tr>\n",
       "      <th>mean</th>\n",
       "      <td>36.806453</td>\n",
       "      <td>950.187146</td>\n",
       "      <td>1.096194e+10</td>\n",
       "    </tr>\n",
       "    <tr>\n",
       "      <th>std</th>\n",
       "      <td>18.770094</td>\n",
       "      <td>881.788604</td>\n",
       "      <td>1.041242e+11</td>\n",
       "    </tr>\n",
       "    <tr>\n",
       "      <th>min</th>\n",
       "      <td>10.000000</td>\n",
       "      <td>0.000000</td>\n",
       "      <td>0.000000e+00</td>\n",
       "    </tr>\n",
       "    <tr>\n",
       "      <th>25%</th>\n",
       "      <td>21.000000</td>\n",
       "      <td>0.000000</td>\n",
       "      <td>3.790000e+02</td>\n",
       "    </tr>\n",
       "    <tr>\n",
       "      <th>50%</th>\n",
       "      <td>34.000000</td>\n",
       "      <td>788.000000</td>\n",
       "      <td>6.620000e+02</td>\n",
       "    </tr>\n",
       "    <tr>\n",
       "      <th>75%</th>\n",
       "      <td>50.000000</td>\n",
       "      <td>1500.000000</td>\n",
       "      <td>1.060000e+03</td>\n",
       "    </tr>\n",
       "    <tr>\n",
       "      <th>max</th>\n",
       "      <td>107.000000</td>\n",
       "      <td>3991.000000</td>\n",
       "      <td>1.000000e+12</td>\n",
       "    </tr>\n",
       "  </tbody>\n",
       "</table>\n",
       "</div>"
      ],
      "text/plain": [
       "               Idade          renda  Rendimento_mensal_domiciliar_per_capita\n",
       "count  135776.000000  135776.000000                             1.355600e+05\n",
       "mean       36.806453     950.187146                             1.096194e+10\n",
       "std        18.770094     881.788604                             1.041242e+11\n",
       "min        10.000000       0.000000                             0.000000e+00\n",
       "25%        21.000000       0.000000                             3.790000e+02\n",
       "50%        34.000000     788.000000                             6.620000e+02\n",
       "75%        50.000000    1500.000000                             1.060000e+03\n",
       "max       107.000000    3991.000000                             1.000000e+12"
      ]
     },
     "execution_count": 15,
     "metadata": {},
     "output_type": "execute_result"
    }
   ],
   "source": [
    "BoxMasc.describe()"
   ]
  },
  {
   "cell_type": "code",
   "execution_count": 16,
   "metadata": {},
   "outputs": [
    {
     "data": {
      "text/plain": [
       "Text(0.5,1,'renda de pessoas do sexo Masculino')"
      ]
     },
     "execution_count": 16,
     "metadata": {},
     "output_type": "execute_result"
    },
    {
     "data": {
      "image/png": "[encoded data removed]",
      "text/plain": [
       "<matplotlib.figure.Figure at 0x23f016ecc88>"
      ]
     },
     "metadata": {},
     "output_type": "display_data"
    }
   ],
   "source": [
    "BoxMasc.hist(column=\"renda\",bins=30)\n",
    "plt.ylabel('Quantidade absoluta de pessoas do sexo Masculino')\n",
    "plt.xlabel('renda')\n",
    "plt.title('renda de pessoas do sexo Masculino')"
   ]
  },
  {
   "cell_type": "code",
   "execution_count": 17,
   "metadata": {},
   "outputs": [
    {
     "data": {
      "image/png": "[encoded data removed]",
      "text/plain": [
       "<matplotlib.figure.Figure at 0x23f020307f0>"
      ]
     },
     "metadata": {},
     "output_type": "display_data"
    }
   ],
   "source": [
    "plot = BoxFem.renda.plot(kind='box',title='.')#, color='red')\n",
    "\n",
    "plt.ylabel('renda')\n",
    "plt.xlabel('Sexo Feminino')\n",
    "plt.title('renda de pessoas do sexo Feminino')\n",
    "plt.show()"
   ]
  },
  {
   "cell_type": "code",
   "execution_count": 18,
   "metadata": {},
   "outputs": [
    {
     "data": {
      "text/html": [
       "<div>\n",
       "<style scoped>\n",
       "    .dataframe tbody tr th:only-of-type {\n",
       "        vertical-align: middle;\n",
       "    }\n",
       "\n",
       "    .dataframe tbody tr th {\n",
       "        vertical-align: top;\n",
       "    }\n",
       "\n",
       "    .dataframe thead th {\n",
       "        text-align: right;\n",
       "    }\n",
       "</style>\n",
       "<table border=\"1\" class=\"dataframe\">\n",
       "  <thead>\n",
       "    <tr style=\"text-align: right;\">\n",
       "      <th></th>\n",
       "      <th>Idade</th>\n",
       "      <th>renda</th>\n",
       "      <th>Rendimento_mensal_domiciliar_per_capita</th>\n",
       "    </tr>\n",
       "  </thead>\n",
       "  <tbody>\n",
       "    <tr>\n",
       "      <th>count</th>\n",
       "      <td>152513.000000</td>\n",
       "      <td>152513.000000</td>\n",
       "      <td>1.521990e+05</td>\n",
       "    </tr>\n",
       "    <tr>\n",
       "      <th>mean</th>\n",
       "      <td>39.151594</td>\n",
       "      <td>670.510901</td>\n",
       "      <td>1.355462e+10</td>\n",
       "    </tr>\n",
       "    <tr>\n",
       "      <th>std</th>\n",
       "      <td>19.244465</td>\n",
       "      <td>771.069458</td>\n",
       "      <td>1.156330e+11</td>\n",
       "    </tr>\n",
       "    <tr>\n",
       "      <th>min</th>\n",
       "      <td>10.000000</td>\n",
       "      <td>0.000000</td>\n",
       "      <td>0.000000e+00</td>\n",
       "    </tr>\n",
       "    <tr>\n",
       "      <th>25%</th>\n",
       "      <td>23.000000</td>\n",
       "      <td>0.000000</td>\n",
       "      <td>3.790000e+02</td>\n",
       "    </tr>\n",
       "    <tr>\n",
       "      <th>50%</th>\n",
       "      <td>37.000000</td>\n",
       "      <td>580.000000</td>\n",
       "      <td>6.670000e+02</td>\n",
       "    </tr>\n",
       "    <tr>\n",
       "      <th>75%</th>\n",
       "      <td>53.000000</td>\n",
       "      <td>1000.000000</td>\n",
       "      <td>1.121000e+03</td>\n",
       "    </tr>\n",
       "    <tr>\n",
       "      <th>max</th>\n",
       "      <td>115.000000</td>\n",
       "      <td>3992.000000</td>\n",
       "      <td>1.000000e+12</td>\n",
       "    </tr>\n",
       "  </tbody>\n",
       "</table>\n",
       "</div>"
      ],
      "text/plain": [
       "               Idade          renda  Rendimento_mensal_domiciliar_per_capita\n",
       "count  152513.000000  152513.000000                             1.521990e+05\n",
       "mean       39.151594     670.510901                             1.355462e+10\n",
       "std        19.244465     771.069458                             1.156330e+11\n",
       "min        10.000000       0.000000                             0.000000e+00\n",
       "25%        23.000000       0.000000                             3.790000e+02\n",
       "50%        37.000000     580.000000                             6.670000e+02\n",
       "75%        53.000000    1000.000000                             1.121000e+03\n",
       "max       115.000000    3992.000000                             1.000000e+12"
      ]
     },
     "execution_count": 18,
     "metadata": {},
     "output_type": "execute_result"
    }
   ],
   "source": [
    "BoxFem.describe()"
   ]
  },
  {
   "cell_type": "code",
   "execution_count": 19,
   "metadata": {},
   "outputs": [
    {
     "data": {
      "text/plain": [
       "Text(0.5,1,'renda de pessoas do sexo Feminino')"
      ]
     },
     "execution_count": 19,
     "metadata": {},
     "output_type": "execute_result"
    },
    {
     "data": {
      "image/png": "[encoded data removed]",
      "text/plain": [
       "<matplotlib.figure.Figure at 0x23f018dbe48>"
      ]
     },
     "metadata": {},
     "output_type": "display_data"
    }
   ],
   "source": [
    "BoxFem.hist(column=\"renda\",bins=30)\n",
    "plt.ylabel('Quantidade absoluta de pessoas do sexo Feminino')\n",
    "plt.xlabel('renda')\n",
    "plt.title('renda de pessoas do sexo Feminino')"
   ]
  },
  {
   "cell_type": "markdown",
   "metadata": {},
   "source": [
    "Nessa primeira análise descritiva foram relacionados o sexo do entrevistado e a renda declarada. Para tanto, foram gerados 2 graficos para cada sexo, o primeiro um boxplot de renda para pessoas daquele sexo, e o segundo um histograma da quantidade absoluta de pessoas por renda declarada para pessoas daquele sexo. Além disso foi gerada uma tabela onde são dadas informações importantes sobre a renda de pessoas daquele sexo. Dado isso podemos por exemplo comparar a média de renda de um homem (950.187146) e de uma mulher (670.510901).\n",
    "Pode-se observar que claremente os entrevistados do sexo masculino possuem rendas em geral maiores que a das entrevistadas, não só observando a média, mas também o comportamento dos gráficos e dos os quartis que representam a renda, que em geral dos homens são mais elevados."
   ]
  },
  {
   "cell_type": "code",
   "execution_count": 20,
   "metadata": {},
   "outputs": [
    {
     "data": {
      "text/plain": [
       "Parda             141483\n",
       "Branca            115251\n",
       "Preta              29269\n",
       "Indígena            1284\n",
       "Amarela              998\n",
       "Sem declaração         4\n",
       "Name: Cor_ou_raca, dtype: int64"
      ]
     },
     "execution_count": 20,
     "metadata": {},
     "output_type": "execute_result"
    }
   ],
   "source": [
    "Grafico_cor_ou_raca=dados.Cor_ou_raca.value_counts()\n",
    "Grafico_cor_ou_raca"
   ]
  },
  {
   "cell_type": "code",
   "execution_count": 21,
   "metadata": {},
   "outputs": [
    {
     "data": {
      "text/plain": [
       "Text(0.5,1,'Porcentagem de pessoas que de cada cor ou raça')"
      ]
     },
     "execution_count": 21,
     "metadata": {},
     "output_type": "execute_result"
    },
    {
     "data": {
      "image/png": "[encoded data removed]",
      "text/plain": [
       "<matplotlib.figure.Figure at 0x23f01788a20>"
      ]
     },
     "metadata": {},
     "output_type": "display_data"
    }
   ],
   "source": [
    "Grafico_cor_ou_raca.plot(kind='pie',autopct=\"%0.2f\")\n",
    "plt.title('Porcentagem de pessoas que de cada cor ou raça')"
   ]
  },
  {
   "cell_type": "code",
   "execution_count": 22,
   "metadata": {},
   "outputs": [],
   "source": [
    "BoxParda=dados[(dados.Cor_ou_raca == 'Parda')]\n",
    "BoxIndigena=dados[(dados.Cor_ou_raca == 'Indígena')]\n",
    "BoxBranca=dados[(dados.Cor_ou_raca == 'Branca')]\n",
    "BoxPreta=dados[(dados.Cor_ou_raca == 'Preta')]\n",
    "BoxAmarela=dados[(dados.Cor_ou_raca == 'Amarela' )]\n"
   ]
  },
  {
   "cell_type": "code",
   "execution_count": 23,
   "metadata": {},
   "outputs": [
    {
     "data": {
      "image/png": "[encoded data removed]",
      "text/plain": [
       "<matplotlib.figure.Figure at 0x23f000864e0>"
      ]
     },
     "metadata": {},
     "output_type": "display_data"
    }
   ],
   "source": [
    "plot = BoxParda.renda.plot(kind='box',title='.')\n",
    "plt.ylabel('renda')\n",
    "plt.xlabel('Pessoas que se consideram pardas')\n",
    "plt.title('renda de pessoas que se consideram pardas')\n",
    "plt.show()"
   ]
  },
  {
   "cell_type": "code",
   "execution_count": 24,
   "metadata": {},
   "outputs": [
    {
     "data": {
      "text/html": [
       "<div>\n",
       "<style scoped>\n",
       "    .dataframe tbody tr th:only-of-type {\n",
       "        vertical-align: middle;\n",
       "    }\n",
       "\n",
       "    .dataframe tbody tr th {\n",
       "        vertical-align: top;\n",
       "    }\n",
       "\n",
       "    .dataframe thead th {\n",
       "        text-align: right;\n",
       "    }\n",
       "</style>\n",
       "<table border=\"1\" class=\"dataframe\">\n",
       "  <thead>\n",
       "    <tr style=\"text-align: right;\">\n",
       "      <th></th>\n",
       "      <th>Idade</th>\n",
       "      <th>renda</th>\n",
       "      <th>Rendimento_mensal_domiciliar_per_capita</th>\n",
       "    </tr>\n",
       "  </thead>\n",
       "  <tbody>\n",
       "    <tr>\n",
       "      <th>count</th>\n",
       "      <td>141483.000000</td>\n",
       "      <td>141483.000000</td>\n",
       "      <td>1.412650e+05</td>\n",
       "    </tr>\n",
       "    <tr>\n",
       "      <th>mean</th>\n",
       "      <td>36.550921</td>\n",
       "      <td>698.394231</td>\n",
       "      <td>9.931689e+09</td>\n",
       "    </tr>\n",
       "    <tr>\n",
       "      <th>std</th>\n",
       "      <td>18.553241</td>\n",
       "      <td>758.967807</td>\n",
       "      <td>9.916209e+10</td>\n",
       "    </tr>\n",
       "    <tr>\n",
       "      <th>min</th>\n",
       "      <td>10.000000</td>\n",
       "      <td>0.000000</td>\n",
       "      <td>0.000000e+00</td>\n",
       "    </tr>\n",
       "    <tr>\n",
       "      <th>25%</th>\n",
       "      <td>21.000000</td>\n",
       "      <td>0.000000</td>\n",
       "      <td>3.110000e+02</td>\n",
       "    </tr>\n",
       "    <tr>\n",
       "      <th>50%</th>\n",
       "      <td>34.000000</td>\n",
       "      <td>740.000000</td>\n",
       "      <td>5.460000e+02</td>\n",
       "    </tr>\n",
       "    <tr>\n",
       "      <th>75%</th>\n",
       "      <td>50.000000</td>\n",
       "      <td>1000.000000</td>\n",
       "      <td>8.920000e+02</td>\n",
       "    </tr>\n",
       "    <tr>\n",
       "      <th>max</th>\n",
       "      <td>105.000000</td>\n",
       "      <td>3991.000000</td>\n",
       "      <td>1.000000e+12</td>\n",
       "    </tr>\n",
       "  </tbody>\n",
       "</table>\n",
       "</div>"
      ],
      "text/plain": [
       "               Idade          renda  Rendimento_mensal_domiciliar_per_capita\n",
       "count  141483.000000  141483.000000                             1.412650e+05\n",
       "mean       36.550921     698.394231                             9.931689e+09\n",
       "std        18.553241     758.967807                             9.916209e+10\n",
       "min        10.000000       0.000000                             0.000000e+00\n",
       "25%        21.000000       0.000000                             3.110000e+02\n",
       "50%        34.000000     740.000000                             5.460000e+02\n",
       "75%        50.000000    1000.000000                             8.920000e+02\n",
       "max       105.000000    3991.000000                             1.000000e+12"
      ]
     },
     "execution_count": 24,
     "metadata": {},
     "output_type": "execute_result"
    }
   ],
   "source": [
    "BoxParda.describe()"
   ]
  },
  {
   "cell_type": "code",
   "execution_count": 25,
   "metadata": {},
   "outputs": [
    {
     "data": {
      "text/plain": [
       "Text(0.5,1,'renda de pessoas que se consideram pardas')"
      ]
     },
     "execution_count": 25,
     "metadata": {},
     "output_type": "execute_result"
    },
    {
     "data": {
      "image/png": "[encoded data removed]",
      "text/plain": [
       "<matplotlib.figure.Figure at 0x23f001b6438>"
      ]
     },
     "metadata": {},
     "output_type": "display_data"
    }
   ],
   "source": [
    "BoxParda.hist(column=\"renda\",bins=30)\n",
    "plt.ylabel('Quantidade absoluta de pessoas que se consideram pardas')\n",
    "plt.xlabel('renda')\n",
    "plt.title('renda de pessoas que se consideram pardas')"
   ]
  },
  {
   "cell_type": "code",
   "execution_count": 26,
   "metadata": {},
   "outputs": [
    {
     "data": {
      "image/png": "[encoded data removed]",
      "text/plain": [
       "<matplotlib.figure.Figure at 0x23f001d42b0>"
      ]
     },
     "metadata": {},
     "output_type": "display_data"
    }
   ],
   "source": [
    "plot = BoxIndigena.renda.plot(kind='box',title='.')\n",
    "plt.ylabel('renda')\n",
    "plt.xlabel('Pessoas que se consideram Indígenas')\n",
    "plt.title('renda de pessoas que se consideram Indígenas')\n",
    "plt.show()"
   ]
  },
  {
   "cell_type": "code",
   "execution_count": 27,
   "metadata": {},
   "outputs": [
    {
     "data": {
      "text/html": [
       "<div>\n",
       "<style scoped>\n",
       "    .dataframe tbody tr th:only-of-type {\n",
       "        vertical-align: middle;\n",
       "    }\n",
       "\n",
       "    .dataframe tbody tr th {\n",
       "        vertical-align: top;\n",
       "    }\n",
       "\n",
       "    .dataframe thead th {\n",
       "        text-align: right;\n",
       "    }\n",
       "</style>\n",
       "<table border=\"1\" class=\"dataframe\">\n",
       "  <thead>\n",
       "    <tr style=\"text-align: right;\">\n",
       "      <th></th>\n",
       "      <th>Idade</th>\n",
       "      <th>renda</th>\n",
       "      <th>Rendimento_mensal_domiciliar_per_capita</th>\n",
       "    </tr>\n",
       "  </thead>\n",
       "  <tbody>\n",
       "    <tr>\n",
       "      <th>count</th>\n",
       "      <td>1284.000000</td>\n",
       "      <td>1284.000000</td>\n",
       "      <td>1.283000e+03</td>\n",
       "    </tr>\n",
       "    <tr>\n",
       "      <th>mean</th>\n",
       "      <td>35.499221</td>\n",
       "      <td>624.660436</td>\n",
       "      <td>2.572097e+10</td>\n",
       "    </tr>\n",
       "    <tr>\n",
       "      <th>std</th>\n",
       "      <td>18.484410</td>\n",
       "      <td>768.859270</td>\n",
       "      <td>1.583633e+11</td>\n",
       "    </tr>\n",
       "    <tr>\n",
       "      <th>min</th>\n",
       "      <td>10.000000</td>\n",
       "      <td>0.000000</td>\n",
       "      <td>0.000000e+00</td>\n",
       "    </tr>\n",
       "    <tr>\n",
       "      <th>25%</th>\n",
       "      <td>20.000000</td>\n",
       "      <td>0.000000</td>\n",
       "      <td>1.870000e+02</td>\n",
       "    </tr>\n",
       "    <tr>\n",
       "      <th>50%</th>\n",
       "      <td>33.000000</td>\n",
       "      <td>310.000000</td>\n",
       "      <td>4.170000e+02</td>\n",
       "    </tr>\n",
       "    <tr>\n",
       "      <th>75%</th>\n",
       "      <td>48.000000</td>\n",
       "      <td>900.000000</td>\n",
       "      <td>7.935000e+02</td>\n",
       "    </tr>\n",
       "    <tr>\n",
       "      <th>max</th>\n",
       "      <td>100.000000</td>\n",
       "      <td>3940.000000</td>\n",
       "      <td>1.000000e+12</td>\n",
       "    </tr>\n",
       "  </tbody>\n",
       "</table>\n",
       "</div>"
      ],
      "text/plain": [
       "             Idade        renda  Rendimento_mensal_domiciliar_per_capita\n",
       "count  1284.000000  1284.000000                             1.283000e+03\n",
       "mean     35.499221   624.660436                             2.572097e+10\n",
       "std      18.484410   768.859270                             1.583633e+11\n",
       "min      10.000000     0.000000                             0.000000e+00\n",
       "25%      20.000000     0.000000                             1.870000e+02\n",
       "50%      33.000000   310.000000                             4.170000e+02\n",
       "75%      48.000000   900.000000                             7.935000e+02\n",
       "max     100.000000  3940.000000                             1.000000e+12"
      ]
     },
     "execution_count": 27,
     "metadata": {},
     "output_type": "execute_result"
    }
   ],
   "source": [
    "BoxIndigena.describe()"
   ]
  },
  {
   "cell_type": "code",
   "execution_count": 28,
   "metadata": {},
   "outputs": [
    {
     "data": {
      "text/plain": [
       "Text(0.5,1,'renda de pessoas que se consideram Indígena')"
      ]
     },
     "execution_count": 28,
     "metadata": {},
     "output_type": "execute_result"
    },
    {
     "data": {
      "image/png": "[encoded data removed]",
      "text/plain": [
       "<matplotlib.figure.Figure at 0x23f00d8e550>"
      ]
     },
     "metadata": {},
     "output_type": "display_data"
    }
   ],
   "source": [
    "BoxIndigena.hist(column=\"renda\",bins=30)\n",
    "plt.ylabel('Quantidade absoluta de pessoas que se consideram Indígenas')\n",
    "plt.xlabel('renda')\n",
    "plt.title('renda de pessoas que se consideram Indígena')"
   ]
  },
  {
   "cell_type": "code",
   "execution_count": 29,
   "metadata": {},
   "outputs": [
    {
     "data": {
      "image/png": "[encoded data removed]",
      "text/plain": [
       "<matplotlib.figure.Figure at 0x23f012e4588>"
      ]
     },
     "metadata": {},
     "output_type": "display_data"
    }
   ],
   "source": [
    "plot = BoxBranca.renda.plot(kind='box',title='.')\n",
    "plt.ylabel('renda')\n",
    "plt.xlabel('Pessoas que se consideram Brancas')\n",
    "plt.title('renda de pessoas que se consideram Brancas')\n",
    "plt.show()"
   ]
  },
  {
   "cell_type": "code",
   "execution_count": 30,
   "metadata": {},
   "outputs": [
    {
     "data": {
      "text/html": [
       "<div>\n",
       "<style scoped>\n",
       "    .dataframe tbody tr th:only-of-type {\n",
       "        vertical-align: middle;\n",
       "    }\n",
       "\n",
       "    .dataframe tbody tr th {\n",
       "        vertical-align: top;\n",
       "    }\n",
       "\n",
       "    .dataframe thead th {\n",
       "        text-align: right;\n",
       "    }\n",
       "</style>\n",
       "<table border=\"1\" class=\"dataframe\">\n",
       "  <thead>\n",
       "    <tr style=\"text-align: right;\">\n",
       "      <th></th>\n",
       "      <th>Idade</th>\n",
       "      <th>renda</th>\n",
       "      <th>Rendimento_mensal_domiciliar_per_capita</th>\n",
       "    </tr>\n",
       "  </thead>\n",
       "  <tbody>\n",
       "    <tr>\n",
       "      <th>count</th>\n",
       "      <td>115251.000000</td>\n",
       "      <td>115251.000000</td>\n",
       "      <td>1.150390e+05</td>\n",
       "    </tr>\n",
       "    <tr>\n",
       "      <th>mean</th>\n",
       "      <td>39.597348</td>\n",
       "      <td>933.489002</td>\n",
       "      <td>1.562079e+10</td>\n",
       "    </tr>\n",
       "    <tr>\n",
       "      <th>std</th>\n",
       "      <td>19.655985</td>\n",
       "      <td>922.305085</td>\n",
       "      <td>1.240037e+11</td>\n",
       "    </tr>\n",
       "    <tr>\n",
       "      <th>min</th>\n",
       "      <td>10.000000</td>\n",
       "      <td>0.000000</td>\n",
       "      <td>0.000000e+00</td>\n",
       "    </tr>\n",
       "    <tr>\n",
       "      <th>25%</th>\n",
       "      <td>23.000000</td>\n",
       "      <td>0.000000</td>\n",
       "      <td>5.000000e+02</td>\n",
       "    </tr>\n",
       "    <tr>\n",
       "      <th>50%</th>\n",
       "      <td>37.000000</td>\n",
       "      <td>788.000000</td>\n",
       "      <td>8.190000e+02</td>\n",
       "    </tr>\n",
       "    <tr>\n",
       "      <th>75%</th>\n",
       "      <td>54.000000</td>\n",
       "      <td>1500.000000</td>\n",
       "      <td>1.397000e+03</td>\n",
       "    </tr>\n",
       "    <tr>\n",
       "      <th>max</th>\n",
       "      <td>110.000000</td>\n",
       "      <td>3992.000000</td>\n",
       "      <td>1.000000e+12</td>\n",
       "    </tr>\n",
       "  </tbody>\n",
       "</table>\n",
       "</div>"
      ],
      "text/plain": [
       "               Idade          renda  Rendimento_mensal_domiciliar_per_capita\n",
       "count  115251.000000  115251.000000                             1.150390e+05\n",
       "mean       39.597348     933.489002                             1.562079e+10\n",
       "std        19.655985     922.305085                             1.240037e+11\n",
       "min        10.000000       0.000000                             0.000000e+00\n",
       "25%        23.000000       0.000000                             5.000000e+02\n",
       "50%        37.000000     788.000000                             8.190000e+02\n",
       "75%        54.000000    1500.000000                             1.397000e+03\n",
       "max       110.000000    3992.000000                             1.000000e+12"
      ]
     },
     "execution_count": 30,
     "metadata": {},
     "output_type": "execute_result"
    }
   ],
   "source": [
    "BoxBranca.describe()"
   ]
  },
  {
   "cell_type": "code",
   "execution_count": 31,
   "metadata": {},
   "outputs": [
    {
     "data": {
      "text/plain": [
       "Text(0.5,1,'renda de pessoas que se consideram Brancas')"
      ]
     },
     "execution_count": 31,
     "metadata": {},
     "output_type": "execute_result"
    },
    {
     "data": {
      "image/png": "[encoded data removed]",
      "text/plain": [
       "<matplotlib.figure.Figure at 0x23f01934550>"
      ]
     },
     "metadata": {},
     "output_type": "display_data"
    }
   ],
   "source": [
    "BoxBranca.hist(column=\"renda\",bins=30)\n",
    "plt.ylabel('Quantidade absoluta de pessoas que se consideram Brancas')\n",
    "plt.xlabel('renda')\n",
    "plt.title('renda de pessoas que se consideram Brancas')"
   ]
  },
  {
   "cell_type": "code",
   "execution_count": 32,
   "metadata": {},
   "outputs": [
    {
     "data": {
      "image/png": "[encoded data removed]",
      "text/plain": [
       "<matplotlib.figure.Figure at 0x23f019cfda0>"
      ]
     },
     "metadata": {},
     "output_type": "display_data"
    }
   ],
   "source": [
    "plot = BoxPreta.renda.plot(kind='box',title='.')\n",
    "plt.ylabel('renda')\n",
    "plt.xlabel('Pessoas que se consideram Pretas')\n",
    "plt.title('renda de pessoas que se consideram Pretas')\n",
    "plt.show()"
   ]
  },
  {
   "cell_type": "code",
   "execution_count": 33,
   "metadata": {},
   "outputs": [
    {
     "data": {
      "text/html": [
       "<div>\n",
       "<style scoped>\n",
       "    .dataframe tbody tr th:only-of-type {\n",
       "        vertical-align: middle;\n",
       "    }\n",
       "\n",
       "    .dataframe tbody tr th {\n",
       "        vertical-align: top;\n",
       "    }\n",
       "\n",
       "    .dataframe thead th {\n",
       "        text-align: right;\n",
       "    }\n",
       "</style>\n",
       "<table border=\"1\" class=\"dataframe\">\n",
       "  <thead>\n",
       "    <tr style=\"text-align: right;\">\n",
       "      <th></th>\n",
       "      <th>Idade</th>\n",
       "      <th>renda</th>\n",
       "      <th>Rendimento_mensal_domiciliar_per_capita</th>\n",
       "    </tr>\n",
       "  </thead>\n",
       "  <tbody>\n",
       "    <tr>\n",
       "      <th>count</th>\n",
       "      <td>29269.000000</td>\n",
       "      <td>29269.000000</td>\n",
       "      <td>2.917200e+04</td>\n",
       "    </tr>\n",
       "    <tr>\n",
       "      <th>mean</th>\n",
       "      <td>39.166900</td>\n",
       "      <td>786.823704</td>\n",
       "      <td>9.632525e+09</td>\n",
       "    </tr>\n",
       "    <tr>\n",
       "      <th>std</th>\n",
       "      <td>18.453973</td>\n",
       "      <td>758.641338</td>\n",
       "      <td>9.767326e+10</td>\n",
       "    </tr>\n",
       "    <tr>\n",
       "      <th>min</th>\n",
       "      <td>10.000000</td>\n",
       "      <td>0.000000</td>\n",
       "      <td>0.000000e+00</td>\n",
       "    </tr>\n",
       "    <tr>\n",
       "      <th>25%</th>\n",
       "      <td>24.000000</td>\n",
       "      <td>0.000000</td>\n",
       "      <td>3.500000e+02</td>\n",
       "    </tr>\n",
       "    <tr>\n",
       "      <th>50%</th>\n",
       "      <td>37.000000</td>\n",
       "      <td>788.000000</td>\n",
       "      <td>5.960000e+02</td>\n",
       "    </tr>\n",
       "    <tr>\n",
       "      <th>75%</th>\n",
       "      <td>52.000000</td>\n",
       "      <td>1150.000000</td>\n",
       "      <td>9.250000e+02</td>\n",
       "    </tr>\n",
       "    <tr>\n",
       "      <th>max</th>\n",
       "      <td>115.000000</td>\n",
       "      <td>3972.000000</td>\n",
       "      <td>1.000000e+12</td>\n",
       "    </tr>\n",
       "  </tbody>\n",
       "</table>\n",
       "</div>"
      ],
      "text/plain": [
       "              Idade         renda  Rendimento_mensal_domiciliar_per_capita\n",
       "count  29269.000000  29269.000000                             2.917200e+04\n",
       "mean      39.166900    786.823704                             9.632525e+09\n",
       "std       18.453973    758.641338                             9.767326e+10\n",
       "min       10.000000      0.000000                             0.000000e+00\n",
       "25%       24.000000      0.000000                             3.500000e+02\n",
       "50%       37.000000    788.000000                             5.960000e+02\n",
       "75%       52.000000   1150.000000                             9.250000e+02\n",
       "max      115.000000   3972.000000                             1.000000e+12"
      ]
     },
     "execution_count": 33,
     "metadata": {},
     "output_type": "execute_result"
    }
   ],
   "source": [
    "BoxPreta.describe()"
   ]
  },
  {
   "cell_type": "code",
   "execution_count": 34,
   "metadata": {},
   "outputs": [
    {
     "data": {
      "text/plain": [
       "Text(0.5,1,'renda de pessoas que se consideram Pretas')"
      ]
     },
     "execution_count": 34,
     "metadata": {},
     "output_type": "execute_result"
    },
    {
     "data": {
      "image/png": "[encoded data removed]",
      "text/plain": [
       "<matplotlib.figure.Figure at 0x23f001b1860>"
      ]
     },
     "metadata": {},
     "output_type": "display_data"
    }
   ],
   "source": [
    "BoxPreta.hist(column=\"renda\",bins=30)\n",
    "plt.ylabel('Quantidade absoluta de pessoas que se consideram Pretas')\n",
    "plt.xlabel('renda')\n",
    "plt.title('renda de pessoas que se consideram Pretas')"
   ]
  },
  {
   "cell_type": "code",
   "execution_count": 35,
   "metadata": {},
   "outputs": [
    {
     "data": {
      "image/png": "[encoded data removed]",
      "text/plain": [
       "<matplotlib.figure.Figure at 0x23f001aa898>"
      ]
     },
     "metadata": {},
     "output_type": "display_data"
    }
   ],
   "source": [
    "plot = BoxAmarela.renda.plot(kind='box',title='.')\n",
    "plt.ylabel('renda')\n",
    "plt.xlabel('Pessoas que se consideram Amarelas')\n",
    "plt.title('renda de pessoas que se consideram Amarelas')\n",
    "plt.show()"
   ]
  },
  {
   "cell_type": "code",
   "execution_count": 36,
   "metadata": {},
   "outputs": [
    {
     "data": {
      "text/html": [
       "<div>\n",
       "<style scoped>\n",
       "    .dataframe tbody tr th:only-of-type {\n",
       "        vertical-align: middle;\n",
       "    }\n",
       "\n",
       "    .dataframe tbody tr th {\n",
       "        vertical-align: top;\n",
       "    }\n",
       "\n",
       "    .dataframe thead th {\n",
       "        text-align: right;\n",
       "    }\n",
       "</style>\n",
       "<table border=\"1\" class=\"dataframe\">\n",
       "  <thead>\n",
       "    <tr style=\"text-align: right;\">\n",
       "      <th></th>\n",
       "      <th>Idade</th>\n",
       "      <th>renda</th>\n",
       "      <th>Rendimento_mensal_domiciliar_per_capita</th>\n",
       "    </tr>\n",
       "  </thead>\n",
       "  <tbody>\n",
       "    <tr>\n",
       "      <th>count</th>\n",
       "      <td>998.000000</td>\n",
       "      <td>998.000000</td>\n",
       "      <td>9.960000e+02</td>\n",
       "    </tr>\n",
       "    <tr>\n",
       "      <th>mean</th>\n",
       "      <td>41.488978</td>\n",
       "      <td>1048.276553</td>\n",
       "      <td>3.313253e+10</td>\n",
       "    </tr>\n",
       "    <tr>\n",
       "      <th>std</th>\n",
       "      <td>20.688728</td>\n",
       "      <td>1053.318781</td>\n",
       "      <td>1.790725e+11</td>\n",
       "    </tr>\n",
       "    <tr>\n",
       "      <th>min</th>\n",
       "      <td>10.000000</td>\n",
       "      <td>0.000000</td>\n",
       "      <td>0.000000e+00</td>\n",
       "    </tr>\n",
       "    <tr>\n",
       "      <th>25%</th>\n",
       "      <td>24.000000</td>\n",
       "      <td>0.000000</td>\n",
       "      <td>5.440000e+02</td>\n",
       "    </tr>\n",
       "    <tr>\n",
       "      <th>50%</th>\n",
       "      <td>38.000000</td>\n",
       "      <td>800.000000</td>\n",
       "      <td>1.093000e+03</td>\n",
       "    </tr>\n",
       "    <tr>\n",
       "      <th>75%</th>\n",
       "      <td>58.000000</td>\n",
       "      <td>1600.000000</td>\n",
       "      <td>1.920000e+03</td>\n",
       "    </tr>\n",
       "    <tr>\n",
       "      <th>max</th>\n",
       "      <td>97.000000</td>\n",
       "      <td>3900.000000</td>\n",
       "      <td>1.000000e+12</td>\n",
       "    </tr>\n",
       "  </tbody>\n",
       "</table>\n",
       "</div>"
      ],
      "text/plain": [
       "            Idade        renda  Rendimento_mensal_domiciliar_per_capita\n",
       "count  998.000000   998.000000                             9.960000e+02\n",
       "mean    41.488978  1048.276553                             3.313253e+10\n",
       "std     20.688728  1053.318781                             1.790725e+11\n",
       "min     10.000000     0.000000                             0.000000e+00\n",
       "25%     24.000000     0.000000                             5.440000e+02\n",
       "50%     38.000000   800.000000                             1.093000e+03\n",
       "75%     58.000000  1600.000000                             1.920000e+03\n",
       "max     97.000000  3900.000000                             1.000000e+12"
      ]
     },
     "execution_count": 36,
     "metadata": {},
     "output_type": "execute_result"
    }
   ],
   "source": [
    "BoxAmarela.describe()"
   ]
  },
  {
   "cell_type": "code",
   "execution_count": 37,
   "metadata": {},
   "outputs": [
    {
     "data": {
      "text/plain": [
       "Text(0.5,1,'renda de pessoas que se consideram Amarelas')"
      ]
     },
     "execution_count": 37,
     "metadata": {},
     "output_type": "execute_result"
    },
    {
     "data": {
      "image/png": "[encoded data removed]",
      "text/plain": [
       "<matplotlib.figure.Figure at 0x23f01d09e80>"
      ]
     },
     "metadata": {},
     "output_type": "display_data"
    }
   ],
   "source": [
    "BoxAmarela.hist(column=\"renda\",bins=30)\n",
    "plt.ylabel('Quantidade absoluta de pessoas que se consideram Amarelas')\n",
    "plt.xlabel('renda')\n",
    "plt.title('renda de pessoas que se consideram Amarelas')"
   ]
  },
  {
   "cell_type": "markdown",
   "metadata": {},
   "source": [
    "O mesmo processo foi repetido dessa vez para comparar a variável 'cor ou raça' à renda. Portanto, foram gerados 2 graficos para cada cor ou raça, o primeiro o boxplot de renda para pessoas daquela cor ou raça, e o segundo um histograma da quantidade absoluta de pessoas por renda declarada para pessoas daquela cor ou raça. Além disso foi gerada uma tabela onde são dadas informações importantes sobre a renda de pessoas daquela cor ou raça. Dado isso podemos por exemplo comparar a média de renda de das cores ou raças: Indígena = 624.660436, Branca = 933.489002, Preta = 786.823704, Amarela = 1048.276553, Parda = 698.394231. A partir disso podemos evidenciar diferenças na média salarial de grupos de cores ou raça, que são resultado da concentração de renda no Brasil, a diferença entre brencos e índios por exemplo é gritante. Isso não só baseado na análise da média, mas também no comportamento dos gráficos."
   ]
  },
  {
   "cell_type": "markdown",
   "metadata": {},
   "source": [
    "___\n",
    "## MODELOS DE PREDIÇÃO:"
   ]
  },
  {
   "cell_type": "markdown",
   "metadata": {},
   "source": [
    "___\n",
    "## Validação cruzada:"
   ]
  },
  {
   "cell_type": "code",
   "execution_count": 38,
   "metadata": {},
   "outputs": [
    {
     "data": {
      "text/html": [
       "<div>\n",
       "<style scoped>\n",
       "    .dataframe tbody tr th:only-of-type {\n",
       "        vertical-align: middle;\n",
       "    }\n",
       "\n",
       "    .dataframe tbody tr th {\n",
       "        vertical-align: top;\n",
       "    }\n",
       "\n",
       "    .dataframe thead th {\n",
       "        text-align: right;\n",
       "    }\n",
       "</style>\n",
       "<table border=\"1\" class=\"dataframe\">\n",
       "  <thead>\n",
       "    <tr style=\"text-align: right;\">\n",
       "      <th></th>\n",
       "      <th>Regiao</th>\n",
       "      <th>Sexo</th>\n",
       "      <th>Idade</th>\n",
       "      <th>Cor_ou_raca</th>\n",
       "      <th>Sabe_ler_e_escrever</th>\n",
       "      <th>renda</th>\n",
       "      <th>Rendimento_mensal_domiciliar_per_capita</th>\n",
       "    </tr>\n",
       "  </thead>\n",
       "  <tbody>\n",
       "    <tr>\n",
       "      <th>30274</th>\n",
       "      <td>Norte</td>\n",
       "      <td>Masculino</td>\n",
       "      <td>21</td>\n",
       "      <td>Parda</td>\n",
       "      <td>Sim</td>\n",
       "      <td>400.0</td>\n",
       "      <td>1266.0</td>\n",
       "    </tr>\n",
       "    <tr>\n",
       "      <th>12427</th>\n",
       "      <td>Norte</td>\n",
       "      <td>Masculino</td>\n",
       "      <td>39</td>\n",
       "      <td>Parda</td>\n",
       "      <td>Não</td>\n",
       "      <td>0.0</td>\n",
       "      <td>70.0</td>\n",
       "    </tr>\n",
       "    <tr>\n",
       "      <th>211142</th>\n",
       "      <td>Sudeste</td>\n",
       "      <td>Feminino</td>\n",
       "      <td>21</td>\n",
       "      <td>Branca</td>\n",
       "      <td>Sim</td>\n",
       "      <td>1000.0</td>\n",
       "      <td>1500.0</td>\n",
       "    </tr>\n",
       "    <tr>\n",
       "      <th>30536</th>\n",
       "      <td>Norte</td>\n",
       "      <td>Masculino</td>\n",
       "      <td>22</td>\n",
       "      <td>Parda</td>\n",
       "      <td>Sim</td>\n",
       "      <td>600.0</td>\n",
       "      <td>630.0</td>\n",
       "    </tr>\n",
       "    <tr>\n",
       "      <th>176939</th>\n",
       "      <td>Sudeste</td>\n",
       "      <td>Masculino</td>\n",
       "      <td>49</td>\n",
       "      <td>Preta</td>\n",
       "      <td>Sim</td>\n",
       "      <td>1825.0</td>\n",
       "      <td>768.0</td>\n",
       "    </tr>\n",
       "  </tbody>\n",
       "</table>\n",
       "</div>"
      ],
      "text/plain": [
       "         Regiao       Sexo  Idade Cor_ou_raca Sabe_ler_e_escrever   renda  \\\n",
       "30274     Norte  Masculino     21       Parda                 Sim   400.0   \n",
       "12427     Norte  Masculino     39       Parda                 Não     0.0   \n",
       "211142  Sudeste   Feminino     21      Branca                 Sim  1000.0   \n",
       "30536     Norte  Masculino     22       Parda                 Sim   600.0   \n",
       "176939  Sudeste  Masculino     49       Preta                 Sim  1825.0   \n",
       "\n",
       "        Rendimento_mensal_domiciliar_per_capita  \n",
       "30274                                    1266.0  \n",
       "12427                                      70.0  \n",
       "211142                                   1500.0  \n",
       "30536                                     630.0  \n",
       "176939                                    768.0  "
      ]
     },
     "execution_count": 38,
     "metadata": {},
     "output_type": "execute_result"
    }
   ],
   "source": [
    "#divisao teste e treinamento x 10\n",
    "from sklearn.model_selection import train_test_split\n",
    "\n",
    "for i in range (10):\n",
    "    dados_treino, dados_teste = train_test_split(dados,test_size=0.1)\n",
    "    \n",
    "dados_treino.head(5)"
   ]
  },
  {
   "cell_type": "markdown",
   "metadata": {},
   "source": [
    "Nessa parte do código foi feita a validação cruzada, onde um processo de divisão dos dados se deu pela escolha aleatória de respostas à pesquisa, sepaando 90% das informações para treinamento dos modelos e 10% para seus respectivos testes. Esse processo foi repetido 10 vezes buscando uma melhor aleatoriedade e uma otimização dos resultados."
   ]
  },
  {
   "cell_type": "markdown",
   "metadata": {},
   "source": [
    "___\n",
    "## MODELO DE PREDIÇÃO PELA MÉDIA:"
   ]
  },
  {
   "cell_type": "code",
   "execution_count": 39,
   "metadata": {},
   "outputs": [
    {
     "data": {
      "text/plain": [
       "802.0564518615586"
      ]
     },
     "execution_count": 39,
     "metadata": {},
     "output_type": "execute_result"
    }
   ],
   "source": [
    "Media_renda=dados_treino.renda.mean()\n",
    "Media_renda\n",
    "\n",
    "#print(len(dados_treino))"
   ]
  },
  {
   "cell_type": "markdown",
   "metadata": {},
   "source": [
    "___\n",
    "## R2"
   ]
  },
  {
   "cell_type": "code",
   "execution_count": 40,
   "metadata": {},
   "outputs": [
    {
     "data": {
      "text/plain": [
       "0.0"
      ]
     },
     "execution_count": 40,
     "metadata": {},
     "output_type": "execute_result"
    }
   ],
   "source": [
    "Somatoria1=0\n",
    "Somatoria2=0\n",
    "\n",
    "for i in range(len(dados_treino)):\n",
    "    A1=(dados_treino.renda.iloc[i]-Media_renda)**2\n",
    "    Somatoria1+=A1\n",
    "    A2=(dados_treino.renda.iloc[i]-Media_renda)**2\n",
    "    Somatoria2+=A2\n",
    "    \n",
    "R2= 1-(Somatoria1/Somatoria2)\n",
    "R2"
   ]
  },
  {
   "cell_type": "markdown",
   "metadata": {},
   "source": [
    "___\n",
    "## RMS"
   ]
  },
  {
   "cell_type": "code",
   "execution_count": 41,
   "metadata": {},
   "outputs": [
    {
     "data": {
      "text/plain": [
       "1.64300265263948"
      ]
     },
     "execution_count": 41,
     "metadata": {},
     "output_type": "execute_result"
    }
   ],
   "source": [
    "Somatoria3=0\n",
    "\n",
    "for i in range(len(dados_treino)):\n",
    "    A1=(dados_treino.renda.iloc[i]-Media_renda)**2\n",
    "    Somatoria3+=A1\n",
    "    \n",
    "    \n",
    "RMS=((Somatoria3)**(1/2))/len(dados_treino)\n",
    "RMS"
   ]
  },
  {
   "cell_type": "markdown",
   "metadata": {},
   "source": [
    "Nesse primeiro modelo de predição, pela média, como dito antes, é calculado um valor fixo para a previsão e em seguida, esta previsão tem sua qualidade avaliada pelo cálculo do R2 e do RMS.\n",
    "O valor obtido de R2 é esperado uma vez que na fórmula indicada, quando se trata do calculo pela média, as somatórias na divisão são iguais, logo o valor de R=1 subtraido 1 é zero. \n",
    "E o RMS por sua vez pelo valor obtido conclui-se que não é um modelo muito adequado a ser utilizado."
   ]
  },
  {
   "cell_type": "markdown",
   "metadata": {},
   "source": [
    "___\n",
    "## MODELO DOS K VIZINHOS MAIS PRÓXIMOS (K-Nearest Neighbors Regression):"
   ]
  },
  {
   "cell_type": "code",
   "execution_count": 42,
   "metadata": {},
   "outputs": [
    {
     "name": "stdout",
     "output_type": "stream",
     "text": [
      "para 1 vizinhos, a variação da renda de cada indivíduo para a média de renda é de: -402.05645186155857\n",
      "para 2 vizinhos, a variação da renda de cada indivíduo para a média de renda é de: -803.0846777923379\n",
      "para 3 vizinhos, a variação da renda de cada indivíduo para a média de renda é de: -870.7795703897837\n",
      "para 4 vizinhos, a variação da renda de cada indivíduo para a média de renda é de: -955.1411296538961\n",
      "para 5 vizinhos, a variação da renda de cada indivíduo para a média de renda é de: -801.1693555846753\n",
      "para 6 vizinhos, a variação da renda de cada indivíduo para a média de renda é de: -673.8642481821211\n",
      "para 7 vizinhos, a variação da renda de cada indivíduo para a média de renda é de: -697.5115217319478\n",
      "para 8 vizinhos, a variação da renda de cada indivíduo para a média de renda é de: -815.5040333770127\n",
      "para 9 vizinhos, a variação da renda de cada indivíduo para a média de renda é de: -908.8378148633474\n",
      "para 10 vizinhos, a variação da renda de cada indivíduo para a média de renda é de: -863.7104852385719\n",
      "para 11 vizinhos, a variação da renda de cada indivíduo para a média de renda é de: -899.7023475329883\n",
      "para 12 vizinhos, a variação da renda de cada indivíduo para a média de renda é de: -929.8669371001318\n",
      "para 13 vizinhos, a variação da renda de cada indivíduo para a média de renda é de: -924.7797784155271\n",
      "para 14 vizinhos, a variação da renda de cada indivíduo para a média de renda é de: -921.4233889616916\n",
      "para 15 vizinhos, a variação da renda de cada indivíduo para a média de renda é de: -891.9849482258047\n",
      "para 16 vizinhos, a variação da renda de cada indivíduo para a média de renda é de: -916.3548408232512\n",
      "para 17 vizinhos, a variação da renda de cada indivíduo para a média de renda é de: -955.6257138128544\n",
      "para 18 vizinhos, a variação da renda de cada indivíduo para a média de renda é de: -991.314070462587\n",
      "para 19 vizinhos, a variação da renda de cada indivíduo para a média de renda é de: -1024.406623878745\n",
      "para 20 vizinhos, a variação da renda de cada indivíduo para a média de renda é de: -1054.8927445463653\n",
      "para 21 vizinhos, a variação da renda de cada indivíduo para a média de renda é de: -1011.1447800009529\n",
      "para 22 vizinhos, a variação da renda de cada indivíduo para a média de renda é de: -1007.8310145897398\n",
      "para 23 vizinhos, a variação da renda de cada indivíduo para a média de renda é de: -1005.4165527734824\n",
      "para 24 vizinhos, a variação da renda de cada indivíduo para a média de renda é de: -954.830648269478\n",
      "para 25 vizinhos, a variação da renda de cada indivíduo para a média de renda é de: -908.8538742002564\n",
      "para 26 vizinhos, a variação da renda de cada indivíduo para a média de renda é de: -866.492869361804\n",
      "para 27 vizinhos, a variação da renda de cada indivíduo para a média de renda é de: -801.4199556914427\n",
      "para 28 vizinhos, a variação da renda de cada indivíduo para a média de renda é de: -769.6399805640201\n",
      "para 29 vizinhos, a variação da renda de cada indivíduo para a média de renda é de: -728.8122951647492\n"
     ]
    }
   ],
   "source": [
    "ListaVi=0\n",
    "\n",
    "for j in range (1,30):\n",
    "    for i in range(j):\n",
    "        Vi=dados_treino.renda.iloc[i]-dados_treino.renda.mean()\n",
    "        ListaVi+=(Vi)  \n",
    "    MediaVi=(ListaVi/j)\n",
    "    print(\"para {0} vizinhos, a variação da renda de cada indivíduo para a média de renda é de: {1}\".format(j,MediaVi))\n"
   ]
  },
  {
   "cell_type": "markdown",
   "metadata": {},
   "source": [
    "O modelo de K vizinhos estima qual o melhor valor para a variável K, que é o número de rendas aleatórias que melhor estimam a o valor da distância entre o a renda e a média da renda. \n",
    "Este modelo uma vez não obrigatório no projeto, não teve sua validação feita."
   ]
  },
  {
   "cell_type": "markdown",
   "metadata": {},
   "source": [
    "___\n",
    "## MODELO DE REGRESSÃO LINEAR (Multiple Linear Regression):"
   ]
  },
  {
   "cell_type": "code",
   "execution_count": 43,
   "metadata": {},
   "outputs": [
    {
     "data": {
      "text/html": [
       "<div>\n",
       "<style scoped>\n",
       "    .dataframe tbody tr th:only-of-type {\n",
       "        vertical-align: middle;\n",
       "    }\n",
       "\n",
       "    .dataframe tbody tr th {\n",
       "        vertical-align: top;\n",
       "    }\n",
       "\n",
       "    .dataframe thead th {\n",
       "        text-align: right;\n",
       "    }\n",
       "</style>\n",
       "<table border=\"1\" class=\"dataframe\">\n",
       "  <thead>\n",
       "    <tr style=\"text-align: right;\">\n",
       "      <th></th>\n",
       "      <th>Estado</th>\n",
       "      <th>Sexo</th>\n",
       "      <th>Idade</th>\n",
       "      <th>Cor_ou_raca</th>\n",
       "      <th>Sabe_ler_e_escrever</th>\n",
       "      <th>renda</th>\n",
       "      <th>Rendimento_mensal_domiciliar_per_capita</th>\n",
       "    </tr>\n",
       "  </thead>\n",
       "  <tbody>\n",
       "    <tr>\n",
       "      <th>172925</th>\n",
       "      <td>31</td>\n",
       "      <td>2</td>\n",
       "      <td>14</td>\n",
       "      <td>2</td>\n",
       "      <td>1</td>\n",
       "      <td>0.0</td>\n",
       "      <td>466</td>\n",
       "    </tr>\n",
       "    <tr>\n",
       "      <th>298251</th>\n",
       "      <td>43</td>\n",
       "      <td>2</td>\n",
       "      <td>70</td>\n",
       "      <td>2</td>\n",
       "      <td>1</td>\n",
       "      <td>3200.0</td>\n",
       "      <td>2020</td>\n",
       "    </tr>\n",
       "    <tr>\n",
       "      <th>103574</th>\n",
       "      <td>26</td>\n",
       "      <td>4</td>\n",
       "      <td>25</td>\n",
       "      <td>8</td>\n",
       "      <td>1</td>\n",
       "      <td>0.0</td>\n",
       "      <td>28</td>\n",
       "    </tr>\n",
       "    <tr>\n",
       "      <th>79122</th>\n",
       "      <td>23</td>\n",
       "      <td>2</td>\n",
       "      <td>44</td>\n",
       "      <td>8</td>\n",
       "      <td>1</td>\n",
       "      <td>800.0</td>\n",
       "      <td>800</td>\n",
       "    </tr>\n",
       "    <tr>\n",
       "      <th>4003</th>\n",
       "      <td>11</td>\n",
       "      <td>4</td>\n",
       "      <td>15</td>\n",
       "      <td>2</td>\n",
       "      <td>1</td>\n",
       "      <td>0.0</td>\n",
       "      <td>3666</td>\n",
       "    </tr>\n",
       "    <tr>\n",
       "      <th>230859</th>\n",
       "      <td>35</td>\n",
       "      <td>4</td>\n",
       "      <td>52</td>\n",
       "      <td>4</td>\n",
       "      <td>1</td>\n",
       "      <td>0.0</td>\n",
       "      <td>140</td>\n",
       "    </tr>\n",
       "    <tr>\n",
       "      <th>277521</th>\n",
       "      <td>41</td>\n",
       "      <td>4</td>\n",
       "      <td>34</td>\n",
       "      <td>2</td>\n",
       "      <td>1</td>\n",
       "      <td>0.0</td>\n",
       "      <td>1750</td>\n",
       "    </tr>\n",
       "    <tr>\n",
       "      <th>331285</th>\n",
       "      <td>51</td>\n",
       "      <td>4</td>\n",
       "      <td>11</td>\n",
       "      <td>2</td>\n",
       "      <td>1</td>\n",
       "      <td>0.0</td>\n",
       "      <td>737</td>\n",
       "    </tr>\n",
       "    <tr>\n",
       "      <th>189646</th>\n",
       "      <td>31</td>\n",
       "      <td>2</td>\n",
       "      <td>52</td>\n",
       "      <td>8</td>\n",
       "      <td>1</td>\n",
       "      <td>1580.0</td>\n",
       "      <td>1089</td>\n",
       "    </tr>\n",
       "    <tr>\n",
       "      <th>152659</th>\n",
       "      <td>29</td>\n",
       "      <td>4</td>\n",
       "      <td>13</td>\n",
       "      <td>8</td>\n",
       "      <td>1</td>\n",
       "      <td>0.0</td>\n",
       "      <td>600</td>\n",
       "    </tr>\n",
       "  </tbody>\n",
       "</table>\n",
       "</div>"
      ],
      "text/plain": [
       "        Estado  Sexo  Idade  Cor_ou_raca  Sabe_ler_e_escrever   renda  \\\n",
       "172925      31     2     14            2                    1     0.0   \n",
       "298251      43     2     70            2                    1  3200.0   \n",
       "103574      26     4     25            8                    1     0.0   \n",
       "79122       23     2     44            8                    1   800.0   \n",
       "4003        11     4     15            2                    1     0.0   \n",
       "230859      35     4     52            4                    1     0.0   \n",
       "277521      41     4     34            2                    1     0.0   \n",
       "331285      51     4     11            2                    1     0.0   \n",
       "189646      31     2     52            8                    1  1580.0   \n",
       "152659      29     4     13            8                    1     0.0   \n",
       "\n",
       "        Rendimento_mensal_domiciliar_per_capita  \n",
       "172925                                      466  \n",
       "298251                                     2020  \n",
       "103574                                       28  \n",
       "79122                                       800  \n",
       "4003                                       3666  \n",
       "230859                                      140  \n",
       "277521                                     1750  \n",
       "331285                                      737  \n",
       "189646                                     1089  \n",
       "152659                                      600  "
      ]
     },
     "execution_count": 43,
     "metadata": {},
     "output_type": "execute_result"
    }
   ],
   "source": [
    "valores2=pd.read_csv('PES2015csv.zip', compression='zip', header=0, sep=',', quotechar='\"')\n",
    "\n",
    "\n",
    "dados_regressao=pd.DataFrame({\n",
    "\n",
    "    'Estado' :valores2.UF,\n",
    "    'Sexo' :valores2.V0302,\n",
    "    'Idade' :valores2.V8005,\n",
    "    'Cor_ou_raca':valores2.V0404,\n",
    "    'Sabe_ler_e_escrever' :valores2.V0601,\n",
    "    'renda' :valores2.V4720,\n",
    "    'Rendimento_mensal_domiciliar_per_capita' :valores2.V4742\n",
    "    })\n",
    "\n",
    "\n",
    "\n",
    "dados_regressao=dados_regressao[['Estado','Sexo','Idade','Cor_ou_raca','Sabe_ler_e_escrever','renda','Rendimento_mensal_domiciliar_per_capita']]\n",
    "\n",
    "dados_regressao['Rendimento_mensal_domiciliar_per_capita']=(dados_regressao['Rendimento_mensal_domiciliar_per_capita']).fillna(0.0).astype(int)\n",
    "\n",
    "dados_regressao=dados_regressao[dados_regressao.renda<40000]\n",
    "\n",
    "dados_regressao=dados_regressao[dados_regressao.Rendimento_mensal_domiciliar_per_capita<40000]\n",
    "\n",
    "dados_regressao=dados_regressao[dados_regressao.Rendimento_mensal_domiciliar_per_capita>-1]\n",
    "\n",
    "\n",
    "for i in range (10):\n",
    "    dados_regressao_treino, dados_regressao_teste = train_test_split(dados_regressao,test_size=0.1)\n",
    "    \n",
    "dados_regressao_treino.head(10)"
   ]
  },
  {
   "cell_type": "markdown",
   "metadata": {},
   "source": [
    "Para a realização da predição no modelo de Regressão Linear Multipla é importante que as variaveis não estejam em formato texto, por isso foi utilizado novamente o dataset mas dessa vez sem converter as variaveis para formato texto. Foi adicionado um filtro à variável 'rendimento domiciliar percapita' limitandos valores equivocados que discrepavam a realidade."
   ]
  },
  {
   "cell_type": "code",
   "execution_count": 44,
   "metadata": {},
   "outputs": [],
   "source": [
    "Variaveis_Independentes_treino=dados_regressao_treino.iloc[0:,[0,1,2,3,4,6]].values\n",
    "Variavel_Dependente_treino=dados_regressao_treino.iloc[0:,[5]].values\n",
    "Variaveis_Independentes_teste=dados_regressao_teste.iloc[0:,[0,1,2,3,4,6]].values\n",
    "Variavel_Dependente_teste=dados_regressao_teste.iloc[0:,[5]].values"
   ]
  },
  {
   "cell_type": "markdown",
   "metadata": {},
   "source": [
    "Nessa parte do código, as colunas das variáveis que serão usadas para prever a renda (Estado, Sexo, Idade, Cor_ou_raca, Sabe_ler_e_escrever, renda, Rendimento_mensal_domiciliar_per_capita) são armazenadas na variável Variaveis_Independentes. E a coluna da variável a ser prevista é armazenada na variável Variavel_Dependente.\n",
    "Cada uma delas sendo divididas nas vertentes teste e treinamento."
   ]
  },
  {
   "cell_type": "code",
   "execution_count": 45,
   "metadata": {},
   "outputs": [
    {
     "data": {
      "text/plain": [
       "array([[  31,    2,   14,    2,    1,  466],\n",
       "       [  43,    2,   70,    2,    1, 2020],\n",
       "       [  26,    4,   25,    8,    1,   28],\n",
       "       ...,\n",
       "       [  29,    4,   48,    4,    1,  933],\n",
       "       [  21,    4,   37,    8,    1,  506],\n",
       "       [  43,    2,   40,    2,    1,  666]], dtype=int64)"
      ]
     },
     "execution_count": 45,
     "metadata": {},
     "output_type": "execute_result"
    }
   ],
   "source": [
    "Variaveis_Independentes_treino"
   ]
  },
  {
   "cell_type": "code",
   "execution_count": 46,
   "metadata": {},
   "outputs": [
    {
     "data": {
      "text/plain": [
       "array([[   0.],\n",
       "       [3200.],\n",
       "       [   0.],\n",
       "       ...,\n",
       "       [1400.],\n",
       "       [1600.],\n",
       "       [2000.]])"
      ]
     },
     "execution_count": 46,
     "metadata": {},
     "output_type": "execute_result"
    }
   ],
   "source": [
    "Variavel_Dependente_treino"
   ]
  },
  {
   "cell_type": "code",
   "execution_count": 47,
   "metadata": {},
   "outputs": [],
   "source": [
    "from sklearn.linear_model import LinearRegression"
   ]
  },
  {
   "cell_type": "code",
   "execution_count": 48,
   "metadata": {},
   "outputs": [
    {
     "data": {
      "text/plain": [
       "array([[  80.336473  ],\n",
       "       [ 286.52618456],\n",
       "       [  48.15735956],\n",
       "       ...,\n",
       "       [ -58.93530061],\n",
       "       [1833.78014001],\n",
       "       [1618.26479739]])"
      ]
     },
     "execution_count": 48,
     "metadata": {},
     "output_type": "execute_result"
    }
   ],
   "source": [
    "Regressao=LinearRegression()\n",
    "regfit=Regressao.fit(Variaveis_Independentes_treino,Variavel_Dependente_treino)\n",
    "renda_prevista=Regressao.predict(Variaveis_Independentes_teste)\n",
    "renda_prevista\n"
   ]
  },
  {
   "cell_type": "markdown",
   "metadata": {},
   "source": [
    "___\n",
    "## R2"
   ]
  },
  {
   "cell_type": "code",
   "execution_count": 49,
   "metadata": {},
   "outputs": [
    {
     "data": {
      "text/plain": [
       "array([0.55913927])"
      ]
     },
     "execution_count": 49,
     "metadata": {},
     "output_type": "execute_result"
    }
   ],
   "source": [
    "Somatoria1=0\n",
    "Somatoria2=0\n",
    "\n",
    "for i in range (len(Variaveis_Independentes_teste)):\n",
    "    A1=(dados_regressao_teste.renda.iloc[i]-renda_prevista[i])**2\n",
    "    Somatoria1+=A1\n",
    "    A2=(dados_regressao_teste.renda.iloc[i]-dados_regressao_teste.renda.mean())**2\n",
    "    Somatoria2+=A2\n",
    "    \n",
    "R2= 1-(Somatoria1/Somatoria2)\n",
    "R2\n"
   ]
  },
  {
   "cell_type": "markdown",
   "metadata": {},
   "source": [
    "___\n",
    "## RMS"
   ]
  },
  {
   "cell_type": "code",
   "execution_count": 50,
   "metadata": {},
   "outputs": [
    {
     "data": {
      "text/plain": [
       "array([8.12514202])"
      ]
     },
     "execution_count": 50,
     "metadata": {},
     "output_type": "execute_result"
    }
   ],
   "source": [
    "Somatoria3=0\n",
    "\n",
    "\n",
    "for i in range (len(renda_prevista)):\n",
    "    A1=(dados_regressao_teste.renda.iloc[i]-renda_prevista[i])**2\n",
    "    Somatoria3+=A1\n",
    "    \n",
    "RMS=((Somatoria3)**(1/2))/len(renda_prevista)\n",
    "RMS\n"
   ]
  },
  {
   "cell_type": "markdown",
   "metadata": {},
   "source": [
    "Para o Modelo de Regressão Linear Múltipla foi previsto a partir das variáveis independentes, a variável dependente: 'renda', isso se deu pelo uso de algumas funções específicas do modelo adotado, logo, a partir das colunas separadas por dependencia ou não das variáveis, foram utilizadas as funções fit() e predict() para a obtenção dos valores da variável denominada 'renda_prevista'.\n",
    "Em seguida a qualidade do modelo foi avaliada pelo cálculo dos valores de R2 e RMS, que para esse modelos se mostraram mais adequados e positivos em relação a qualidade da previsão. "
   ]
  },
  {
   "cell_type": "code",
   "execution_count": 51,
   "metadata": {},
   "outputs": [
    {
     "name": "stdout",
     "output_type": "stream",
     "text": [
      "                            OLS Regression Results                            \n",
      "==============================================================================\n",
      "Dep. Variable:                      y   R-squared:                       0.663\n",
      "Model:                            OLS   Adj. R-squared:                  0.663\n",
      "Method:                 Least Squares   F-statistic:                 8.899e+04\n",
      "Date:                Tue, 05 Jun 2018   Prob (F-statistic):               0.00\n",
      "Time:                        20:57:21   Log-Likelihood:            -2.3548e+06\n",
      "No. Observations:              271690   AIC:                         4.710e+06\n",
      "Df Residuals:                  271684   BIC:                         4.710e+06\n",
      "Df Model:                           6                                         \n",
      "Covariance Type:            nonrobust                                         \n",
      "==============================================================================\n",
      "                 coef    std err          t      P>|t|      [0.025      0.975]\n",
      "------------------------------------------------------------------------------\n",
      "x1             5.3967      0.206     26.174      0.000       4.993       5.801\n",
      "x2          -224.8550      2.294    -98.033      0.000    -229.351    -220.359\n",
      "x3            17.9956      0.148    121.208      0.000      17.705      18.287\n",
      "x4            17.7875      0.871     20.419      0.000      16.080      19.495\n",
      "x5          -126.8426      5.187    -24.456      0.000    -137.008    -116.677\n",
      "x6             0.9605      0.002    528.329      0.000       0.957       0.964\n",
      "==============================================================================\n",
      "Omnibus:                   177544.733   Durbin-Watson:                   2.002\n",
      "Prob(Omnibus):                  0.000   Jarque-Bera (JB):         28376579.015\n",
      "Skew:                           2.174   Prob(JB):                         0.00\n",
      "Kurtosis:                      52.878   Cond. No.                     3.64e+03\n",
      "==============================================================================\n",
      "\n",
      "Warnings:\n",
      "[1] Standard Errors assume that the covariance matrix of the errors is correctly specified.\n",
      "[2] The condition number is large, 3.64e+03. This might indicate that there are\n",
      "strong multicollinearity or other numerical problems.\n"
     ]
    }
   ],
   "source": [
    "import statsmodels.api as sm\n",
    "from statsmodels.formula.api import ols\n",
    "from statsmodels.sandbox.regression.predstd import wls_prediction_std\n",
    "\n",
    "x=Variaveis_Independentes_treino\n",
    "y=Variavel_Dependente_treino\n",
    "\n",
    "olsmod = sm.OLS(y,x)\n",
    "olres = olsmod.fit()\n",
    "print(olres.summary())\n",
    "\n"
   ]
  },
  {
   "cell_type": "markdown",
   "metadata": {},
   "source": [
    "A função summary retorna alguns valores que avaliam também a qualidade da previsão feita. E por sua vez alguns valores específicos da relação de cada variável explicativa com a variável renda prevista."
   ]
  },
  {
   "cell_type": "code",
   "execution_count": 52,
   "metadata": {},
   "outputs": [
    {
     "data": {
      "image/png": "[encoded data removed]",
      "text/plain": [
       "<matplotlib.figure.Figure at 0x23f06930588>"
      ]
     },
     "metadata": {},
     "output_type": "display_data"
    }
   ],
   "source": [
    "plt.scatter(Variaveis_Independentes_teste[:,5],renda_prevista)\n",
    "plt.title('Gráfico de renda estimada por rendimento domiciliar percapita')\n",
    "plt.ylabel('renda estimada')\n",
    "plt.xlabel('rendimento domiciliar percapita')\n",
    "plt.show()"
   ]
  },
  {
   "cell_type": "markdown",
   "metadata": {},
   "source": [
    "Para se ter uma ideia melhor da relação de cada variável explicativa foram gerados alguns graficos gráficos de dispersão.\n",
    "Nesse gráfico temos a relação entre a variável rendimento domiciliar percapita no eixo X e a renda prevista pelo modelo no eixo Y. Pode-se observar uma linha esplícita entre as duas variáveis o que indica uma grande relação entre as duas."
   ]
  },
  {
   "cell_type": "code",
   "execution_count": 53,
   "metadata": {},
   "outputs": [
    {
     "data": {
      "image/png": "[encoded data removed]",
      "text/plain": [
       "<matplotlib.figure.Figure at 0x23f01d099b0>"
      ]
     },
     "metadata": {},
     "output_type": "display_data"
    }
   ],
   "source": [
    "plt.scatter(Variaveis_Independentes_teste[:,1],renda_prevista)\n",
    "plt.title('Gráfico de renda estimada por sexo do entrevistado')\n",
    "plt.ylabel('renda estimada')\n",
    "plt.xlabel('Homens                     Sexo do entrevistado                            Mulheres')\n",
    "plt.show()"
   ]
  },
  {
   "cell_type": "markdown",
   "metadata": {},
   "source": [
    "Nesse gráfico temos a relação entre a variável Sexo do entrevistado no eixo X e a renda prevista pelo modelo no eixo Y."
   ]
  },
  {
   "cell_type": "code",
   "execution_count": 54,
   "metadata": {},
   "outputs": [
    {
     "data": {
      "image/png": "[encoded data removed]",
      "text/plain": [
       "<matplotlib.figure.Figure at 0x23f00791b00>"
      ]
     },
     "metadata": {},
     "output_type": "display_data"
    }
   ],
   "source": [
    "plt.scatter(Variaveis_Independentes_teste[:,2],renda_prevista)\n",
    "plt.title('Gráfico de renda estimada por idade do entrevistado')\n",
    "plt.ylabel('renda estimada')\n",
    "plt.xlabel('idade do entrevistado')\n",
    "plt.show()"
   ]
  },
  {
   "cell_type": "markdown",
   "metadata": {},
   "source": [
    "Nesse gráfico temos a relação entre a variável idade do entrevistado no eixo X e a renda prevista pelo modelo no eixo Y."
   ]
  },
  {
   "cell_type": "code",
   "execution_count": 55,
   "metadata": {},
   "outputs": [
    {
     "data": {
      "image/png": "[encoded data removed]",
      "text/plain": [
       "<matplotlib.figure.Figure at 0x23f007f2f98>"
      ]
     },
     "metadata": {},
     "output_type": "display_data"
    }
   ],
   "source": [
    "plt.scatter(Variaveis_Independentes_teste[:,3],renda_prevista)\n",
    "plt.title('Gráfico de renda estimada por cor ou raça do entrevistado')\n",
    "plt.ylabel('renda estimada')\n",
    "plt.xlabel('Indígena             Branca            Preta              Amarela               Parda')\n",
    "plt.show()"
   ]
  },
  {
   "cell_type": "markdown",
   "metadata": {},
   "source": [
    "Nesse gráfico temos a relação entre a variável cor ou raça do entrevistado no eixo X e a renda prevista pelo modelo no eixo Y. Pode-se observar claramente nesse modelo a discrepância de renda entre diferenças cores ou raças."
   ]
  },
  {
   "cell_type": "code",
   "execution_count": 56,
   "metadata": {},
   "outputs": [
    {
     "data": {
      "image/png": "[encoded data removed]",
      "text/plain": [
       "<matplotlib.figure.Figure at 0x23f00862cf8>"
      ]
     },
     "metadata": {},
     "output_type": "display_data"
    }
   ],
   "source": [
    "plt.scatter(Variaveis_Independentes_teste[:,4],renda_prevista)\n",
    "plt.title('Gráfico de renda estimada por educação do entrevistado')\n",
    "plt.ylabel('renda estimada')\n",
    "plt.xlabel('sabe ler e escrever           educação do entrevistado          não sabe ler e escrever')\n",
    "plt.show()"
   ]
  },
  {
   "cell_type": "markdown",
   "metadata": {},
   "source": [
    "Nesse gráfico temos a relação entre a variável educação do entrevistadoo no eixo X e a renda prevista pelo modelo no eixo Y. Pode-se observar nesse gráfico claramente a diferença de renda de pessoas que sabem ler e escrever e as que não sabem, e isso ocorre realmente na realidade, o que comprova mais uma vez a qualidade do modelo."
   ]
  },
  {
   "cell_type": "markdown",
   "metadata": {},
   "source": [
    "___\n",
    "## CONCLUSÃO"
   ]
  },
  {
   "cell_type": "markdown",
   "metadata": {},
   "source": [
    "Dado que o objetivo do projeto era elaborar modelos preditivos de uma variável quantitativa e avaliar sua performance através de processos estatísticos de validação, pode-se concluir que os objetivos do projeto foram cumpridos, foram realizados dois modelos de predição da variavel quantitativa renda, o Modelo de Predição pela Média e o Modelo de Regressão Linear Múltipla, e posteriormente validados pelos métodos de avaliação da qualidade da predição, que indicaram que o modelo foi bem executado."
   ]
  }
 ],
 "metadata": {
  "anaconda-cloud": {},
  "kernelspec": {
   "display_name": "Python 3",
   "language": "python",
   "name": "python3"
  },
  "language_info": {
   "codemirror_mode": {
    "name": "ipython",
    "version": 3
   },
   "file_extension": ".py",
   "mimetype": "text/x-python",
   "name": "python",
   "nbconvert_exporter": "python",
   "pygments_lexer": "ipython3",
   "version": "3.6.4"
  }
 },
 "nbformat": 4,
 "nbformat_minor": 1
}
