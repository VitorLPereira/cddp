{
 "cells": [
  {
   "cell_type": "markdown",
   "metadata": {},
   "source": [
    "___\n",
    "# Ciência dos Dados - PROJETO 3 - INSPER"
   ]
  },
  {
   "cell_type": "markdown",
   "metadata": {},
   "source": [
    "___\n",
    "## Vitor Pereira\n",
    "\n",
    "## Rafael Almada\n",
    "\n"
   ]
  },
  {
   "cell_type": "markdown",
   "metadata": {},
   "source": [
    "___\n",
    "\n",
    "## INTRODUÇÃO"
   ]
  },
  {
   "cell_type": "markdown",
   "metadata": {},
   "source": [
    "O objetivo do projeto é criar um modelo preditivo conduzido por uma análise de dados a partir de um dataset escolhido, e a partir de variáveis qualitativas e quantitativas correlacionadas, estimar o valor de uma variável qualitativa. Para tanto nós decidimos fazer uma análise preditiva da variável quantitativa \"renda\", baseando-se no uso da PNAD 2015 (dataset utilizado no projeto 1), utilizando as variáveis explicativas que a dupla julgou relevantes: Região de nascimento, sexo, idade, cor ou raça, grau de alfabetização, e rendimento domiciliar per capita no mês da pesquisa. \n",
    "Dadas essas variaveis pretendemos analisar a partir de uma regressão linear, a dispersão dessas variáveis explicativas em relação a renda, ou seja, o quanto essas variáveis selecionadas se relacionam com a renda de uma pessoa que respondeu a pesquisa. Feita a regressão linear vamos comparar os valores obtidos de renda à renda real de pessoas aleatórias para validar a qualidade da predição. "
   ]
  },
  {
   "cell_type": "markdown",
   "metadata": {},
   "source": [
    "___\n",
    "## MINERANDO DADOS e CARACTERÍSTICAS DO DATASET"
   ]
  },
  {
   "cell_type": "markdown",
   "metadata": {},
   "source": [
    "[Detalhe aqui as características da base de dados além da análise descritiva.]"
   ]
  },
  {
   "cell_type": "code",
   "execution_count": 1,
   "metadata": {},
   "outputs": [
    {
     "name": "stderr",
     "output_type": "stream",
     "text": [
      "C:\\Users\\vitor\\Anaconda3.5\\lib\\site-packages\\statsmodels\\compat\\pandas.py:56: FutureWarning: The pandas.core.datetools module is deprecated and will be removed in a future version. Please use the pandas.tseries module instead.\n",
      "  from pandas.core import datetools\n"
     ]
    }
   ],
   "source": [
    "import pandas as pd\n",
    "import os\n",
    "import matplotlib.pyplot as plt\n",
    "import numpy as np\n",
    "% matplotlib inline\n",
    "import math as math\n",
    "from scipy import stats\n",
    "import statsmodels.api as sm"
   ]
  },
  {
   "cell_type": "code",
   "execution_count": 42,
   "metadata": {},
   "outputs": [
    {
     "name": "stdout",
     "output_type": "stream",
     "text": [
      "Esperamos trabalhar no diretório\n",
      "C:\\Users\\vitor\\Documents\\DP dados\n"
     ]
    }
   ],
   "source": [
    "print('Esperamos trabalhar no diretório')\n",
    "print(os.getcwd())\n",
    "\n",
    "valores=pd.read_csv('PES2015csv.zip', compression='zip', header=0, sep=',', quotechar='\"')\n",
    "\n",
    "\n",
    "dados=pd.DataFrame({\n",
    "\n",
    "    'Estado' :valores.UF,\n",
    "    'Sexo' :valores.V0302,\n",
    "    'Idade' :valores.V8005,\n",
    "    'Cor_ou_raca':valores.V0404,\n",
    "    'Sabe_ler_e_escrever' :valores.V0601,\n",
    "    'renda' :valores.V4720,\n",
    "    'Rendimento_mensal_domiciliar_per_capita' :valores.V4742\n",
    "    })\n",
    "\n",
    "\n",
    "\n",
    "dados=dados[['Estado','Sexo','Idade','Cor_ou_raca','Sabe_ler_e_escrever','renda','Rendimento_mensal_domiciliar_per_capita']]\n",
    "\n",
    "\n",
    "dados.Sexo=dados.Sexo.astype('category')\n",
    "dados.Sexo.cat.categories=(['Masculino','Feminino'])\n",
    "\n",
    "dados.Cor_ou_raca=dados.Cor_ou_raca.astype('category')\n",
    "dados.Cor_ou_raca.cat.categories=(['Indígena','Branca','Preta','Amarela','Parda','Sem declaração'])\n",
    "\n",
    "dados.Sabe_ler_e_escrever=dados.Sabe_ler_e_escrever.astype('category')\n",
    "dados.Sabe_ler_e_escrever.cat.categories=('Sim','Não')\n",
    "\n",
    "dados.Rendimento_mensal_domiciliar_per_capita=dados.Rendimento_mensal_domiciliar_per_capita.round(1)\n",
    "\n",
    "def Estados(linha):\n",
    "    if linha>=11 and linha<=17:\n",
    "        return 'Norte'\n",
    "    if linha>=21 and linha<=29:\n",
    "        return 'Nordeste'\n",
    "    if linha>=31 and linha<=35:\n",
    "        return 'Sudeste'\n",
    "    if linha>=41 and linha<=43:\n",
    "        return 'Sul'\n",
    "    if linha>=50 and linha<=53:\n",
    "        return 'Centro-Oeste'\n",
    "    \n",
    "dados.Estado=dados.Estado.apply(Estados)\n",
    "\n",
    "#dados=dados.dropna()\n",
    "\n",
    "#dados=dados[['renda']]\n",
    "\n",
    "#dados\n",
    "#.rendimento.mean()"
   ]
  },
  {
   "cell_type": "markdown",
   "metadata": {},
   "source": [
    "### BASE DE DADOS"
   ]
  },
  {
   "cell_type": "code",
   "execution_count": 3,
   "metadata": {},
   "outputs": [
    {
     "data": {
      "text/html": [
       "<div>\n",
       "<style scoped>\n",
       "    .dataframe tbody tr th:only-of-type {\n",
       "        vertical-align: middle;\n",
       "    }\n",
       "\n",
       "    .dataframe tbody tr th {\n",
       "        vertical-align: top;\n",
       "    }\n",
       "\n",
       "    .dataframe thead th {\n",
       "        text-align: right;\n",
       "    }\n",
       "</style>\n",
       "<table border=\"1\" class=\"dataframe\">\n",
       "  <thead>\n",
       "    <tr style=\"text-align: right;\">\n",
       "      <th></th>\n",
       "      <th>Estado</th>\n",
       "      <th>Sexo</th>\n",
       "      <th>Idade</th>\n",
       "      <th>Cor_ou_raca</th>\n",
       "      <th>Sabe_ler_e_escrever</th>\n",
       "      <th>renda</th>\n",
       "      <th>Rendimento_mensal_domiciliar_per_capita</th>\n",
       "    </tr>\n",
       "  </thead>\n",
       "  <tbody>\n",
       "    <tr>\n",
       "      <th>0</th>\n",
       "      <td>Norte</td>\n",
       "      <td>Masculino</td>\n",
       "      <td>23</td>\n",
       "      <td>Indígena</td>\n",
       "      <td>Sim</td>\n",
       "      <td>800.0</td>\n",
       "      <td>8.000000e+02</td>\n",
       "    </tr>\n",
       "    <tr>\n",
       "      <th>1</th>\n",
       "      <td>Norte</td>\n",
       "      <td>Feminino</td>\n",
       "      <td>23</td>\n",
       "      <td>Preta</td>\n",
       "      <td>Sim</td>\n",
       "      <td>1150.0</td>\n",
       "      <td>1.150000e+03</td>\n",
       "    </tr>\n",
       "    <tr>\n",
       "      <th>2</th>\n",
       "      <td>Norte</td>\n",
       "      <td>Feminino</td>\n",
       "      <td>35</td>\n",
       "      <td>Indígena</td>\n",
       "      <td>Sim</td>\n",
       "      <td>880.0</td>\n",
       "      <td>7.930000e+02</td>\n",
       "    </tr>\n",
       "    <tr>\n",
       "      <th>3</th>\n",
       "      <td>Norte</td>\n",
       "      <td>Masculino</td>\n",
       "      <td>34</td>\n",
       "      <td>Indígena</td>\n",
       "      <td>Sim</td>\n",
       "      <td>3000.0</td>\n",
       "      <td>7.930000e+02</td>\n",
       "    </tr>\n",
       "    <tr>\n",
       "      <th>4</th>\n",
       "      <td>Norte</td>\n",
       "      <td>Feminino</td>\n",
       "      <td>11</td>\n",
       "      <td>Indígena</td>\n",
       "      <td>Sim</td>\n",
       "      <td>0.0</td>\n",
       "      <td>7.930000e+02</td>\n",
       "    </tr>\n",
       "    <tr>\n",
       "      <th>5</th>\n",
       "      <td>Norte</td>\n",
       "      <td>Feminino</td>\n",
       "      <td>7</td>\n",
       "      <td>Indígena</td>\n",
       "      <td>Sim</td>\n",
       "      <td>NaN</td>\n",
       "      <td>7.930000e+02</td>\n",
       "    </tr>\n",
       "    <tr>\n",
       "      <th>6</th>\n",
       "      <td>Norte</td>\n",
       "      <td>Feminino</td>\n",
       "      <td>4</td>\n",
       "      <td>Indígena</td>\n",
       "      <td>Não</td>\n",
       "      <td>NaN</td>\n",
       "      <td>7.930000e+02</td>\n",
       "    </tr>\n",
       "    <tr>\n",
       "      <th>7</th>\n",
       "      <td>Norte</td>\n",
       "      <td>Feminino</td>\n",
       "      <td>18</td>\n",
       "      <td>Indígena</td>\n",
       "      <td>Sim</td>\n",
       "      <td>880.0</td>\n",
       "      <td>7.930000e+02</td>\n",
       "    </tr>\n",
       "    <tr>\n",
       "      <th>8</th>\n",
       "      <td>Norte</td>\n",
       "      <td>Masculino</td>\n",
       "      <td>46</td>\n",
       "      <td>Preta</td>\n",
       "      <td>Sim</td>\n",
       "      <td>3500.0</td>\n",
       "      <td>2.900000e+03</td>\n",
       "    </tr>\n",
       "    <tr>\n",
       "      <th>9</th>\n",
       "      <td>Norte</td>\n",
       "      <td>Feminino</td>\n",
       "      <td>81</td>\n",
       "      <td>Indígena</td>\n",
       "      <td>Sim</td>\n",
       "      <td>2300.0</td>\n",
       "      <td>2.900000e+03</td>\n",
       "    </tr>\n",
       "    <tr>\n",
       "      <th>10</th>\n",
       "      <td>Norte</td>\n",
       "      <td>Feminino</td>\n",
       "      <td>71</td>\n",
       "      <td>Preta</td>\n",
       "      <td>Sim</td>\n",
       "      <td>1990.0</td>\n",
       "      <td>1.990000e+03</td>\n",
       "    </tr>\n",
       "    <tr>\n",
       "      <th>11</th>\n",
       "      <td>Norte</td>\n",
       "      <td>Feminino</td>\n",
       "      <td>47</td>\n",
       "      <td>Indígena</td>\n",
       "      <td>Sim</td>\n",
       "      <td>700.0</td>\n",
       "      <td>3.500000e+02</td>\n",
       "    </tr>\n",
       "    <tr>\n",
       "      <th>12</th>\n",
       "      <td>Norte</td>\n",
       "      <td>Masculino</td>\n",
       "      <td>24</td>\n",
       "      <td>Preta</td>\n",
       "      <td>Sim</td>\n",
       "      <td>0.0</td>\n",
       "      <td>3.500000e+02</td>\n",
       "    </tr>\n",
       "    <tr>\n",
       "      <th>13</th>\n",
       "      <td>Norte</td>\n",
       "      <td>Feminino</td>\n",
       "      <td>28</td>\n",
       "      <td>Indígena</td>\n",
       "      <td>Sim</td>\n",
       "      <td>0.0</td>\n",
       "      <td>1.333000e+03</td>\n",
       "    </tr>\n",
       "    <tr>\n",
       "      <th>14</th>\n",
       "      <td>Norte</td>\n",
       "      <td>Masculino</td>\n",
       "      <td>50</td>\n",
       "      <td>Indígena</td>\n",
       "      <td>Sim</td>\n",
       "      <td>4000.0</td>\n",
       "      <td>1.333000e+03</td>\n",
       "    </tr>\n",
       "    <tr>\n",
       "      <th>15</th>\n",
       "      <td>Norte</td>\n",
       "      <td>Masculino</td>\n",
       "      <td>1</td>\n",
       "      <td>Indígena</td>\n",
       "      <td>Não</td>\n",
       "      <td>NaN</td>\n",
       "      <td>1.333000e+03</td>\n",
       "    </tr>\n",
       "    <tr>\n",
       "      <th>16</th>\n",
       "      <td>Norte</td>\n",
       "      <td>Feminino</td>\n",
       "      <td>34</td>\n",
       "      <td>Indígena</td>\n",
       "      <td>Sim</td>\n",
       "      <td>1160.0</td>\n",
       "      <td>8.180000e+02</td>\n",
       "    </tr>\n",
       "    <tr>\n",
       "      <th>17</th>\n",
       "      <td>Norte</td>\n",
       "      <td>Masculino</td>\n",
       "      <td>35</td>\n",
       "      <td>Indígena</td>\n",
       "      <td>Sim</td>\n",
       "      <td>2000.0</td>\n",
       "      <td>8.180000e+02</td>\n",
       "    </tr>\n",
       "    <tr>\n",
       "      <th>18</th>\n",
       "      <td>Norte</td>\n",
       "      <td>Masculino</td>\n",
       "      <td>16</td>\n",
       "      <td>Indígena</td>\n",
       "      <td>Sim</td>\n",
       "      <td>930.0</td>\n",
       "      <td>8.180000e+02</td>\n",
       "    </tr>\n",
       "    <tr>\n",
       "      <th>19</th>\n",
       "      <td>Norte</td>\n",
       "      <td>Feminino</td>\n",
       "      <td>11</td>\n",
       "      <td>Indígena</td>\n",
       "      <td>Sim</td>\n",
       "      <td>0.0</td>\n",
       "      <td>8.180000e+02</td>\n",
       "    </tr>\n",
       "    <tr>\n",
       "      <th>20</th>\n",
       "      <td>Norte</td>\n",
       "      <td>Feminino</td>\n",
       "      <td>3</td>\n",
       "      <td>Indígena</td>\n",
       "      <td>Não</td>\n",
       "      <td>NaN</td>\n",
       "      <td>8.180000e+02</td>\n",
       "    </tr>\n",
       "    <tr>\n",
       "      <th>21</th>\n",
       "      <td>Norte</td>\n",
       "      <td>Masculino</td>\n",
       "      <td>57</td>\n",
       "      <td>Indígena</td>\n",
       "      <td>Sim</td>\n",
       "      <td>3150.0</td>\n",
       "      <td>1.716000e+03</td>\n",
       "    </tr>\n",
       "    <tr>\n",
       "      <th>22</th>\n",
       "      <td>Norte</td>\n",
       "      <td>Feminino</td>\n",
       "      <td>51</td>\n",
       "      <td>Indígena</td>\n",
       "      <td>Sim</td>\n",
       "      <td>2000.0</td>\n",
       "      <td>1.716000e+03</td>\n",
       "    </tr>\n",
       "    <tr>\n",
       "      <th>23</th>\n",
       "      <td>Norte</td>\n",
       "      <td>Masculino</td>\n",
       "      <td>16</td>\n",
       "      <td>Indígena</td>\n",
       "      <td>Sim</td>\n",
       "      <td>0.0</td>\n",
       "      <td>1.716000e+03</td>\n",
       "    </tr>\n",
       "    <tr>\n",
       "      <th>24</th>\n",
       "      <td>Norte</td>\n",
       "      <td>Feminino</td>\n",
       "      <td>60</td>\n",
       "      <td>Indígena</td>\n",
       "      <td>Sim</td>\n",
       "      <td>2500.0</td>\n",
       "      <td>2.500000e+03</td>\n",
       "    </tr>\n",
       "    <tr>\n",
       "      <th>25</th>\n",
       "      <td>Norte</td>\n",
       "      <td>Feminino</td>\n",
       "      <td>50</td>\n",
       "      <td>Amarela</td>\n",
       "      <td>Sim</td>\n",
       "      <td>1800.0</td>\n",
       "      <td>1.400000e+03</td>\n",
       "    </tr>\n",
       "    <tr>\n",
       "      <th>26</th>\n",
       "      <td>Norte</td>\n",
       "      <td>Feminino</td>\n",
       "      <td>30</td>\n",
       "      <td>Indígena</td>\n",
       "      <td>Sim</td>\n",
       "      <td>1000.0</td>\n",
       "      <td>1.400000e+03</td>\n",
       "    </tr>\n",
       "    <tr>\n",
       "      <th>27</th>\n",
       "      <td>Norte</td>\n",
       "      <td>Masculino</td>\n",
       "      <td>26</td>\n",
       "      <td>Indígena</td>\n",
       "      <td>Sim</td>\n",
       "      <td>1150.0</td>\n",
       "      <td>6.660000e+02</td>\n",
       "    </tr>\n",
       "    <tr>\n",
       "      <th>28</th>\n",
       "      <td>Norte</td>\n",
       "      <td>Feminino</td>\n",
       "      <td>20</td>\n",
       "      <td>Indígena</td>\n",
       "      <td>Sim</td>\n",
       "      <td>850.0</td>\n",
       "      <td>6.660000e+02</td>\n",
       "    </tr>\n",
       "    <tr>\n",
       "      <th>29</th>\n",
       "      <td>Norte</td>\n",
       "      <td>Feminino</td>\n",
       "      <td>1</td>\n",
       "      <td>Indígena</td>\n",
       "      <td>Não</td>\n",
       "      <td>NaN</td>\n",
       "      <td>6.660000e+02</td>\n",
       "    </tr>\n",
       "    <tr>\n",
       "      <th>...</th>\n",
       "      <td>...</td>\n",
       "      <td>...</td>\n",
       "      <td>...</td>\n",
       "      <td>...</td>\n",
       "      <td>...</td>\n",
       "      <td>...</td>\n",
       "      <td>...</td>\n",
       "    </tr>\n",
       "    <tr>\n",
       "      <th>356874</th>\n",
       "      <td>Centro-Oeste</td>\n",
       "      <td>Masculino</td>\n",
       "      <td>15</td>\n",
       "      <td>Indígena</td>\n",
       "      <td>Sim</td>\n",
       "      <td>160.0</td>\n",
       "      <td>1.000000e+12</td>\n",
       "    </tr>\n",
       "    <tr>\n",
       "      <th>356875</th>\n",
       "      <td>Centro-Oeste</td>\n",
       "      <td>Masculino</td>\n",
       "      <td>54</td>\n",
       "      <td>Preta</td>\n",
       "      <td>Não</td>\n",
       "      <td>0.0</td>\n",
       "      <td>2.810000e+02</td>\n",
       "    </tr>\n",
       "    <tr>\n",
       "      <th>356876</th>\n",
       "      <td>Centro-Oeste</td>\n",
       "      <td>Feminino</td>\n",
       "      <td>47</td>\n",
       "      <td>Indígena</td>\n",
       "      <td>Não</td>\n",
       "      <td>877.0</td>\n",
       "      <td>2.810000e+02</td>\n",
       "    </tr>\n",
       "    <tr>\n",
       "      <th>356877</th>\n",
       "      <td>Centro-Oeste</td>\n",
       "      <td>Feminino</td>\n",
       "      <td>24</td>\n",
       "      <td>Preta</td>\n",
       "      <td>Sim</td>\n",
       "      <td>0.0</td>\n",
       "      <td>2.810000e+02</td>\n",
       "    </tr>\n",
       "    <tr>\n",
       "      <th>356878</th>\n",
       "      <td>Centro-Oeste</td>\n",
       "      <td>Masculino</td>\n",
       "      <td>22</td>\n",
       "      <td>Preta</td>\n",
       "      <td>Sim</td>\n",
       "      <td>0.0</td>\n",
       "      <td>2.810000e+02</td>\n",
       "    </tr>\n",
       "    <tr>\n",
       "      <th>356879</th>\n",
       "      <td>Centro-Oeste</td>\n",
       "      <td>Masculino</td>\n",
       "      <td>20</td>\n",
       "      <td>Indígena</td>\n",
       "      <td>Sim</td>\n",
       "      <td>0.0</td>\n",
       "      <td>2.810000e+02</td>\n",
       "    </tr>\n",
       "    <tr>\n",
       "      <th>356880</th>\n",
       "      <td>Centro-Oeste</td>\n",
       "      <td>Feminino</td>\n",
       "      <td>28</td>\n",
       "      <td>Indígena</td>\n",
       "      <td>Sim</td>\n",
       "      <td>812.0</td>\n",
       "      <td>2.810000e+02</td>\n",
       "    </tr>\n",
       "    <tr>\n",
       "      <th>356881</th>\n",
       "      <td>Centro-Oeste</td>\n",
       "      <td>Masculino</td>\n",
       "      <td>30</td>\n",
       "      <td>Amarela</td>\n",
       "      <td>Sim</td>\n",
       "      <td>3100.0</td>\n",
       "      <td>7.750000e+02</td>\n",
       "    </tr>\n",
       "    <tr>\n",
       "      <th>356882</th>\n",
       "      <td>Centro-Oeste</td>\n",
       "      <td>Feminino</td>\n",
       "      <td>31</td>\n",
       "      <td>Preta</td>\n",
       "      <td>Sim</td>\n",
       "      <td>0.0</td>\n",
       "      <td>7.750000e+02</td>\n",
       "    </tr>\n",
       "    <tr>\n",
       "      <th>356883</th>\n",
       "      <td>Centro-Oeste</td>\n",
       "      <td>Masculino</td>\n",
       "      <td>9</td>\n",
       "      <td>Preta</td>\n",
       "      <td>Sim</td>\n",
       "      <td>NaN</td>\n",
       "      <td>7.750000e+02</td>\n",
       "    </tr>\n",
       "    <tr>\n",
       "      <th>356884</th>\n",
       "      <td>Centro-Oeste</td>\n",
       "      <td>Feminino</td>\n",
       "      <td>4</td>\n",
       "      <td>Indígena</td>\n",
       "      <td>Não</td>\n",
       "      <td>NaN</td>\n",
       "      <td>7.750000e+02</td>\n",
       "    </tr>\n",
       "    <tr>\n",
       "      <th>356885</th>\n",
       "      <td>Centro-Oeste</td>\n",
       "      <td>Masculino</td>\n",
       "      <td>32</td>\n",
       "      <td>Indígena</td>\n",
       "      <td>Sim</td>\n",
       "      <td>1600.0</td>\n",
       "      <td>6.750000e+02</td>\n",
       "    </tr>\n",
       "    <tr>\n",
       "      <th>356886</th>\n",
       "      <td>Centro-Oeste</td>\n",
       "      <td>Feminino</td>\n",
       "      <td>30</td>\n",
       "      <td>Indígena</td>\n",
       "      <td>Sim</td>\n",
       "      <td>1100.0</td>\n",
       "      <td>6.750000e+02</td>\n",
       "    </tr>\n",
       "    <tr>\n",
       "      <th>356887</th>\n",
       "      <td>Centro-Oeste</td>\n",
       "      <td>Feminino</td>\n",
       "      <td>4</td>\n",
       "      <td>Indígena</td>\n",
       "      <td>Não</td>\n",
       "      <td>NaN</td>\n",
       "      <td>6.750000e+02</td>\n",
       "    </tr>\n",
       "    <tr>\n",
       "      <th>356888</th>\n",
       "      <td>Centro-Oeste</td>\n",
       "      <td>Masculino</td>\n",
       "      <td>1</td>\n",
       "      <td>Indígena</td>\n",
       "      <td>Não</td>\n",
       "      <td>NaN</td>\n",
       "      <td>6.750000e+02</td>\n",
       "    </tr>\n",
       "    <tr>\n",
       "      <th>356889</th>\n",
       "      <td>Centro-Oeste</td>\n",
       "      <td>Feminino</td>\n",
       "      <td>34</td>\n",
       "      <td>Amarela</td>\n",
       "      <td>Sim</td>\n",
       "      <td>500.0</td>\n",
       "      <td>1.000000e+02</td>\n",
       "    </tr>\n",
       "    <tr>\n",
       "      <th>356890</th>\n",
       "      <td>Centro-Oeste</td>\n",
       "      <td>Feminino</td>\n",
       "      <td>9</td>\n",
       "      <td>Amarela</td>\n",
       "      <td>Sim</td>\n",
       "      <td>NaN</td>\n",
       "      <td>1.000000e+02</td>\n",
       "    </tr>\n",
       "    <tr>\n",
       "      <th>356891</th>\n",
       "      <td>Centro-Oeste</td>\n",
       "      <td>Masculino</td>\n",
       "      <td>6</td>\n",
       "      <td>Amarela</td>\n",
       "      <td>Não</td>\n",
       "      <td>NaN</td>\n",
       "      <td>1.000000e+02</td>\n",
       "    </tr>\n",
       "    <tr>\n",
       "      <th>356892</th>\n",
       "      <td>Centro-Oeste</td>\n",
       "      <td>Masculino</td>\n",
       "      <td>5</td>\n",
       "      <td>Amarela</td>\n",
       "      <td>Não</td>\n",
       "      <td>NaN</td>\n",
       "      <td>1.000000e+02</td>\n",
       "    </tr>\n",
       "    <tr>\n",
       "      <th>356893</th>\n",
       "      <td>Centro-Oeste</td>\n",
       "      <td>Masculino</td>\n",
       "      <td>2</td>\n",
       "      <td>Amarela</td>\n",
       "      <td>Não</td>\n",
       "      <td>NaN</td>\n",
       "      <td>1.000000e+02</td>\n",
       "    </tr>\n",
       "    <tr>\n",
       "      <th>356894</th>\n",
       "      <td>Centro-Oeste</td>\n",
       "      <td>Feminino</td>\n",
       "      <td>57</td>\n",
       "      <td>Indígena</td>\n",
       "      <td>Não</td>\n",
       "      <td>800.0</td>\n",
       "      <td>7.960000e+02</td>\n",
       "    </tr>\n",
       "    <tr>\n",
       "      <th>356895</th>\n",
       "      <td>Centro-Oeste</td>\n",
       "      <td>Feminino</td>\n",
       "      <td>36</td>\n",
       "      <td>Indígena</td>\n",
       "      <td>Sim</td>\n",
       "      <td>800.0</td>\n",
       "      <td>7.960000e+02</td>\n",
       "    </tr>\n",
       "    <tr>\n",
       "      <th>356896</th>\n",
       "      <td>Centro-Oeste</td>\n",
       "      <td>Feminino</td>\n",
       "      <td>18</td>\n",
       "      <td>Indígena</td>\n",
       "      <td>Sim</td>\n",
       "      <td>788.0</td>\n",
       "      <td>7.960000e+02</td>\n",
       "    </tr>\n",
       "    <tr>\n",
       "      <th>356897</th>\n",
       "      <td>Centro-Oeste</td>\n",
       "      <td>Masculino</td>\n",
       "      <td>57</td>\n",
       "      <td>Indígena</td>\n",
       "      <td>Sim</td>\n",
       "      <td>1500.0</td>\n",
       "      <td>7.500000e+02</td>\n",
       "    </tr>\n",
       "    <tr>\n",
       "      <th>356898</th>\n",
       "      <td>Centro-Oeste</td>\n",
       "      <td>Feminino</td>\n",
       "      <td>33</td>\n",
       "      <td>Indígena</td>\n",
       "      <td>Sim</td>\n",
       "      <td>0.0</td>\n",
       "      <td>7.500000e+02</td>\n",
       "    </tr>\n",
       "    <tr>\n",
       "      <th>356899</th>\n",
       "      <td>Centro-Oeste</td>\n",
       "      <td>Masculino</td>\n",
       "      <td>38</td>\n",
       "      <td>Indígena</td>\n",
       "      <td>Sim</td>\n",
       "      <td>900.0</td>\n",
       "      <td>2.590000e+02</td>\n",
       "    </tr>\n",
       "    <tr>\n",
       "      <th>356900</th>\n",
       "      <td>Centro-Oeste</td>\n",
       "      <td>Feminino</td>\n",
       "      <td>39</td>\n",
       "      <td>Indígena</td>\n",
       "      <td>Sim</td>\n",
       "      <td>96.0</td>\n",
       "      <td>2.590000e+02</td>\n",
       "    </tr>\n",
       "    <tr>\n",
       "      <th>356901</th>\n",
       "      <td>Centro-Oeste</td>\n",
       "      <td>Feminino</td>\n",
       "      <td>17</td>\n",
       "      <td>Indígena</td>\n",
       "      <td>Sim</td>\n",
       "      <td>300.0</td>\n",
       "      <td>2.590000e+02</td>\n",
       "    </tr>\n",
       "    <tr>\n",
       "      <th>356902</th>\n",
       "      <td>Centro-Oeste</td>\n",
       "      <td>Feminino</td>\n",
       "      <td>15</td>\n",
       "      <td>Indígena</td>\n",
       "      <td>Sim</td>\n",
       "      <td>0.0</td>\n",
       "      <td>2.590000e+02</td>\n",
       "    </tr>\n",
       "    <tr>\n",
       "      <th>356903</th>\n",
       "      <td>Centro-Oeste</td>\n",
       "      <td>Feminino</td>\n",
       "      <td>7</td>\n",
       "      <td>Indígena</td>\n",
       "      <td>Sim</td>\n",
       "      <td>NaN</td>\n",
       "      <td>2.590000e+02</td>\n",
       "    </tr>\n",
       "  </tbody>\n",
       "</table>\n",
       "<p>356904 rows × 7 columns</p>\n",
       "</div>"
      ],
      "text/plain": [
       "              Estado       Sexo  Idade Cor_ou_raca Sabe_ler_e_escrever  \\\n",
       "0              Norte  Masculino     23    Indígena                 Sim   \n",
       "1              Norte   Feminino     23       Preta                 Sim   \n",
       "2              Norte   Feminino     35    Indígena                 Sim   \n",
       "3              Norte  Masculino     34    Indígena                 Sim   \n",
       "4              Norte   Feminino     11    Indígena                 Sim   \n",
       "5              Norte   Feminino      7    Indígena                 Sim   \n",
       "6              Norte   Feminino      4    Indígena                 Não   \n",
       "7              Norte   Feminino     18    Indígena                 Sim   \n",
       "8              Norte  Masculino     46       Preta                 Sim   \n",
       "9              Norte   Feminino     81    Indígena                 Sim   \n",
       "10             Norte   Feminino     71       Preta                 Sim   \n",
       "11             Norte   Feminino     47    Indígena                 Sim   \n",
       "12             Norte  Masculino     24       Preta                 Sim   \n",
       "13             Norte   Feminino     28    Indígena                 Sim   \n",
       "14             Norte  Masculino     50    Indígena                 Sim   \n",
       "15             Norte  Masculino      1    Indígena                 Não   \n",
       "16             Norte   Feminino     34    Indígena                 Sim   \n",
       "17             Norte  Masculino     35    Indígena                 Sim   \n",
       "18             Norte  Masculino     16    Indígena                 Sim   \n",
       "19             Norte   Feminino     11    Indígena                 Sim   \n",
       "20             Norte   Feminino      3    Indígena                 Não   \n",
       "21             Norte  Masculino     57    Indígena                 Sim   \n",
       "22             Norte   Feminino     51    Indígena                 Sim   \n",
       "23             Norte  Masculino     16    Indígena                 Sim   \n",
       "24             Norte   Feminino     60    Indígena                 Sim   \n",
       "25             Norte   Feminino     50     Amarela                 Sim   \n",
       "26             Norte   Feminino     30    Indígena                 Sim   \n",
       "27             Norte  Masculino     26    Indígena                 Sim   \n",
       "28             Norte   Feminino     20    Indígena                 Sim   \n",
       "29             Norte   Feminino      1    Indígena                 Não   \n",
       "...              ...        ...    ...         ...                 ...   \n",
       "356874  Centro-Oeste  Masculino     15    Indígena                 Sim   \n",
       "356875  Centro-Oeste  Masculino     54       Preta                 Não   \n",
       "356876  Centro-Oeste   Feminino     47    Indígena                 Não   \n",
       "356877  Centro-Oeste   Feminino     24       Preta                 Sim   \n",
       "356878  Centro-Oeste  Masculino     22       Preta                 Sim   \n",
       "356879  Centro-Oeste  Masculino     20    Indígena                 Sim   \n",
       "356880  Centro-Oeste   Feminino     28    Indígena                 Sim   \n",
       "356881  Centro-Oeste  Masculino     30     Amarela                 Sim   \n",
       "356882  Centro-Oeste   Feminino     31       Preta                 Sim   \n",
       "356883  Centro-Oeste  Masculino      9       Preta                 Sim   \n",
       "356884  Centro-Oeste   Feminino      4    Indígena                 Não   \n",
       "356885  Centro-Oeste  Masculino     32    Indígena                 Sim   \n",
       "356886  Centro-Oeste   Feminino     30    Indígena                 Sim   \n",
       "356887  Centro-Oeste   Feminino      4    Indígena                 Não   \n",
       "356888  Centro-Oeste  Masculino      1    Indígena                 Não   \n",
       "356889  Centro-Oeste   Feminino     34     Amarela                 Sim   \n",
       "356890  Centro-Oeste   Feminino      9     Amarela                 Sim   \n",
       "356891  Centro-Oeste  Masculino      6     Amarela                 Não   \n",
       "356892  Centro-Oeste  Masculino      5     Amarela                 Não   \n",
       "356893  Centro-Oeste  Masculino      2     Amarela                 Não   \n",
       "356894  Centro-Oeste   Feminino     57    Indígena                 Não   \n",
       "356895  Centro-Oeste   Feminino     36    Indígena                 Sim   \n",
       "356896  Centro-Oeste   Feminino     18    Indígena                 Sim   \n",
       "356897  Centro-Oeste  Masculino     57    Indígena                 Sim   \n",
       "356898  Centro-Oeste   Feminino     33    Indígena                 Sim   \n",
       "356899  Centro-Oeste  Masculino     38    Indígena                 Sim   \n",
       "356900  Centro-Oeste   Feminino     39    Indígena                 Sim   \n",
       "356901  Centro-Oeste   Feminino     17    Indígena                 Sim   \n",
       "356902  Centro-Oeste   Feminino     15    Indígena                 Sim   \n",
       "356903  Centro-Oeste   Feminino      7    Indígena                 Sim   \n",
       "\n",
       "         renda  Rendimento_mensal_domiciliar_per_capita  \n",
       "0        800.0                             8.000000e+02  \n",
       "1       1150.0                             1.150000e+03  \n",
       "2        880.0                             7.930000e+02  \n",
       "3       3000.0                             7.930000e+02  \n",
       "4          0.0                             7.930000e+02  \n",
       "5          NaN                             7.930000e+02  \n",
       "6          NaN                             7.930000e+02  \n",
       "7        880.0                             7.930000e+02  \n",
       "8       3500.0                             2.900000e+03  \n",
       "9       2300.0                             2.900000e+03  \n",
       "10      1990.0                             1.990000e+03  \n",
       "11       700.0                             3.500000e+02  \n",
       "12         0.0                             3.500000e+02  \n",
       "13         0.0                             1.333000e+03  \n",
       "14      4000.0                             1.333000e+03  \n",
       "15         NaN                             1.333000e+03  \n",
       "16      1160.0                             8.180000e+02  \n",
       "17      2000.0                             8.180000e+02  \n",
       "18       930.0                             8.180000e+02  \n",
       "19         0.0                             8.180000e+02  \n",
       "20         NaN                             8.180000e+02  \n",
       "21      3150.0                             1.716000e+03  \n",
       "22      2000.0                             1.716000e+03  \n",
       "23         0.0                             1.716000e+03  \n",
       "24      2500.0                             2.500000e+03  \n",
       "25      1800.0                             1.400000e+03  \n",
       "26      1000.0                             1.400000e+03  \n",
       "27      1150.0                             6.660000e+02  \n",
       "28       850.0                             6.660000e+02  \n",
       "29         NaN                             6.660000e+02  \n",
       "...        ...                                      ...  \n",
       "356874   160.0                             1.000000e+12  \n",
       "356875     0.0                             2.810000e+02  \n",
       "356876   877.0                             2.810000e+02  \n",
       "356877     0.0                             2.810000e+02  \n",
       "356878     0.0                             2.810000e+02  \n",
       "356879     0.0                             2.810000e+02  \n",
       "356880   812.0                             2.810000e+02  \n",
       "356881  3100.0                             7.750000e+02  \n",
       "356882     0.0                             7.750000e+02  \n",
       "356883     NaN                             7.750000e+02  \n",
       "356884     NaN                             7.750000e+02  \n",
       "356885  1600.0                             6.750000e+02  \n",
       "356886  1100.0                             6.750000e+02  \n",
       "356887     NaN                             6.750000e+02  \n",
       "356888     NaN                             6.750000e+02  \n",
       "356889   500.0                             1.000000e+02  \n",
       "356890     NaN                             1.000000e+02  \n",
       "356891     NaN                             1.000000e+02  \n",
       "356892     NaN                             1.000000e+02  \n",
       "356893     NaN                             1.000000e+02  \n",
       "356894   800.0                             7.960000e+02  \n",
       "356895   800.0                             7.960000e+02  \n",
       "356896   788.0                             7.960000e+02  \n",
       "356897  1500.0                             7.500000e+02  \n",
       "356898     0.0                             7.500000e+02  \n",
       "356899   900.0                             2.590000e+02  \n",
       "356900    96.0                             2.590000e+02  \n",
       "356901   300.0                             2.590000e+02  \n",
       "356902     0.0                             2.590000e+02  \n",
       "356903     NaN                             2.590000e+02  \n",
       "\n",
       "[356904 rows x 7 columns]"
      ]
     },
     "execution_count": 3,
     "metadata": {},
     "output_type": "execute_result"
    }
   ],
   "source": [
    "dados"
   ]
  },
  {
   "cell_type": "code",
   "execution_count": null,
   "metadata": {},
   "outputs": [],
   "source": []
  },
  {
   "cell_type": "markdown",
   "metadata": {},
   "source": [
    "### ANÁLISE DESCRITIVA"
   ]
  },
  {
   "cell_type": "code",
   "execution_count": 64,
   "metadata": {},
   "outputs": [
    {
     "data": {
      "image/png": "[encoded data removed]",
      "text/plain": [
       "<matplotlib.figure.Figure at 0x12500a9c668>"
      ]
     },
     "metadata": {},
     "output_type": "display_data"
    }
   ],
   "source": [
    "dados=dados[dados.renda<4000]\n",
    "\n",
    "BoxMasc=dados[(dados.Sexo == \"Masculino\")]\n",
    "BoxFem=dados[(dados.Sexo == \"Feminino\")]\n",
    "\n",
    "plot = BoxMasc.renda.plot(kind='box',title='.')\n",
    "\n",
    "plt.ylabel('renda')\n",
    "plt.xlabel('Sexo Masculino')\n",
    "plt.title('renda de pessoas do sexo Masculino')\n",
    "plt.show()\n",
    "\n"
   ]
  },
  {
   "cell_type": "code",
   "execution_count": 65,
   "metadata": {},
   "outputs": [
    {
     "data": {
      "text/html": [
       "<div>\n",
       "<style scoped>\n",
       "    .dataframe tbody tr th:only-of-type {\n",
       "        vertical-align: middle;\n",
       "    }\n",
       "\n",
       "    .dataframe tbody tr th {\n",
       "        vertical-align: top;\n",
       "    }\n",
       "\n",
       "    .dataframe thead th {\n",
       "        text-align: right;\n",
       "    }\n",
       "</style>\n",
       "<table border=\"1\" class=\"dataframe\">\n",
       "  <thead>\n",
       "    <tr style=\"text-align: right;\">\n",
       "      <th></th>\n",
       "      <th>Idade</th>\n",
       "      <th>renda</th>\n",
       "      <th>Rendimento_mensal_domiciliar_per_capita</th>\n",
       "    </tr>\n",
       "  </thead>\n",
       "  <tbody>\n",
       "    <tr>\n",
       "      <th>count</th>\n",
       "      <td>135776.000000</td>\n",
       "      <td>135776.000000</td>\n",
       "      <td>1.355600e+05</td>\n",
       "    </tr>\n",
       "    <tr>\n",
       "      <th>mean</th>\n",
       "      <td>36.806453</td>\n",
       "      <td>950.187146</td>\n",
       "      <td>1.096194e+10</td>\n",
       "    </tr>\n",
       "    <tr>\n",
       "      <th>std</th>\n",
       "      <td>18.770094</td>\n",
       "      <td>881.788604</td>\n",
       "      <td>1.041242e+11</td>\n",
       "    </tr>\n",
       "    <tr>\n",
       "      <th>min</th>\n",
       "      <td>10.000000</td>\n",
       "      <td>0.000000</td>\n",
       "      <td>0.000000e+00</td>\n",
       "    </tr>\n",
       "    <tr>\n",
       "      <th>25%</th>\n",
       "      <td>21.000000</td>\n",
       "      <td>0.000000</td>\n",
       "      <td>3.790000e+02</td>\n",
       "    </tr>\n",
       "    <tr>\n",
       "      <th>50%</th>\n",
       "      <td>34.000000</td>\n",
       "      <td>788.000000</td>\n",
       "      <td>6.620000e+02</td>\n",
       "    </tr>\n",
       "    <tr>\n",
       "      <th>75%</th>\n",
       "      <td>50.000000</td>\n",
       "      <td>1500.000000</td>\n",
       "      <td>1.060000e+03</td>\n",
       "    </tr>\n",
       "    <tr>\n",
       "      <th>max</th>\n",
       "      <td>107.000000</td>\n",
       "      <td>3991.000000</td>\n",
       "      <td>1.000000e+12</td>\n",
       "    </tr>\n",
       "  </tbody>\n",
       "</table>\n",
       "</div>"
      ],
      "text/plain": [
       "               Idade          renda  Rendimento_mensal_domiciliar_per_capita\n",
       "count  135776.000000  135776.000000                             1.355600e+05\n",
       "mean       36.806453     950.187146                             1.096194e+10\n",
       "std        18.770094     881.788604                             1.041242e+11\n",
       "min        10.000000       0.000000                             0.000000e+00\n",
       "25%        21.000000       0.000000                             3.790000e+02\n",
       "50%        34.000000     788.000000                             6.620000e+02\n",
       "75%        50.000000    1500.000000                             1.060000e+03\n",
       "max       107.000000    3991.000000                             1.000000e+12"
      ]
     },
     "execution_count": 65,
     "metadata": {},
     "output_type": "execute_result"
    }
   ],
   "source": [
    "BoxMasc.describe()"
   ]
  },
  {
   "cell_type": "code",
   "execution_count": 66,
   "metadata": {},
   "outputs": [
    {
     "data": {
      "text/plain": [
       "Text(0.5,1,'renda de pessoas do sexo Masculino')"
      ]
     },
     "execution_count": 66,
     "metadata": {},
     "output_type": "execute_result"
    },
    {
     "data": {
      "image/png": "[encoded data removed]",
      "text/plain": [
       "<matplotlib.figure.Figure at 0x125051bb748>"
      ]
     },
     "metadata": {},
     "output_type": "display_data"
    }
   ],
   "source": [
    "BoxMasc.hist(column=\"renda\",bins=30)\n",
    "plt.ylabel('Quantidade absoluta de pessoas do sexo Masculino')\n",
    "plt.xlabel('renda')\n",
    "plt.title('renda de pessoas do sexo Masculino')"
   ]
  },
  {
   "cell_type": "code",
   "execution_count": 67,
   "metadata": {},
   "outputs": [
    {
     "data": {
      "image/png": "[encoded data removed]",
      "text/plain": [
       "<matplotlib.figure.Figure at 0x12500b311d0>"
      ]
     },
     "metadata": {},
     "output_type": "display_data"
    }
   ],
   "source": [
    "plot = BoxFem.renda.plot(kind='box',title='.')#, color='red')\n",
    "\n",
    "plt.ylabel('renda')\n",
    "plt.xlabel('Sexo Feminino')\n",
    "plt.title('renda de pessoas do sexo Feminino')\n",
    "plt.show()"
   ]
  },
  {
   "cell_type": "code",
   "execution_count": 68,
   "metadata": {},
   "outputs": [
    {
     "data": {
      "text/html": [
       "<div>\n",
       "<style scoped>\n",
       "    .dataframe tbody tr th:only-of-type {\n",
       "        vertical-align: middle;\n",
       "    }\n",
       "\n",
       "    .dataframe tbody tr th {\n",
       "        vertical-align: top;\n",
       "    }\n",
       "\n",
       "    .dataframe thead th {\n",
       "        text-align: right;\n",
       "    }\n",
       "</style>\n",
       "<table border=\"1\" class=\"dataframe\">\n",
       "  <thead>\n",
       "    <tr style=\"text-align: right;\">\n",
       "      <th></th>\n",
       "      <th>Idade</th>\n",
       "      <th>renda</th>\n",
       "      <th>Rendimento_mensal_domiciliar_per_capita</th>\n",
       "    </tr>\n",
       "  </thead>\n",
       "  <tbody>\n",
       "    <tr>\n",
       "      <th>count</th>\n",
       "      <td>152513.000000</td>\n",
       "      <td>152513.000000</td>\n",
       "      <td>1.521990e+05</td>\n",
       "    </tr>\n",
       "    <tr>\n",
       "      <th>mean</th>\n",
       "      <td>39.151594</td>\n",
       "      <td>670.510901</td>\n",
       "      <td>1.355462e+10</td>\n",
       "    </tr>\n",
       "    <tr>\n",
       "      <th>std</th>\n",
       "      <td>19.244465</td>\n",
       "      <td>771.069458</td>\n",
       "      <td>1.156330e+11</td>\n",
       "    </tr>\n",
       "    <tr>\n",
       "      <th>min</th>\n",
       "      <td>10.000000</td>\n",
       "      <td>0.000000</td>\n",
       "      <td>0.000000e+00</td>\n",
       "    </tr>\n",
       "    <tr>\n",
       "      <th>25%</th>\n",
       "      <td>23.000000</td>\n",
       "      <td>0.000000</td>\n",
       "      <td>3.790000e+02</td>\n",
       "    </tr>\n",
       "    <tr>\n",
       "      <th>50%</th>\n",
       "      <td>37.000000</td>\n",
       "      <td>580.000000</td>\n",
       "      <td>6.670000e+02</td>\n",
       "    </tr>\n",
       "    <tr>\n",
       "      <th>75%</th>\n",
       "      <td>53.000000</td>\n",
       "      <td>1000.000000</td>\n",
       "      <td>1.121000e+03</td>\n",
       "    </tr>\n",
       "    <tr>\n",
       "      <th>max</th>\n",
       "      <td>115.000000</td>\n",
       "      <td>3992.000000</td>\n",
       "      <td>1.000000e+12</td>\n",
       "    </tr>\n",
       "  </tbody>\n",
       "</table>\n",
       "</div>"
      ],
      "text/plain": [
       "               Idade          renda  Rendimento_mensal_domiciliar_per_capita\n",
       "count  152513.000000  152513.000000                             1.521990e+05\n",
       "mean       39.151594     670.510901                             1.355462e+10\n",
       "std        19.244465     771.069458                             1.156330e+11\n",
       "min        10.000000       0.000000                             0.000000e+00\n",
       "25%        23.000000       0.000000                             3.790000e+02\n",
       "50%        37.000000     580.000000                             6.670000e+02\n",
       "75%        53.000000    1000.000000                             1.121000e+03\n",
       "max       115.000000    3992.000000                             1.000000e+12"
      ]
     },
     "execution_count": 68,
     "metadata": {},
     "output_type": "execute_result"
    }
   ],
   "source": [
    "BoxFem.describe()"
   ]
  },
  {
   "cell_type": "code",
   "execution_count": 69,
   "metadata": {},
   "outputs": [
    {
     "data": {
      "text/plain": [
       "Text(0.5,1,'renda de pessoas do sexo Feminino')"
      ]
     },
     "execution_count": 69,
     "metadata": {},
     "output_type": "execute_result"
    },
    {
     "data": {
      "image/png": "[encoded data removed]",
      "text/plain": [
       "<matplotlib.figure.Figure at 0x12505413c50>"
      ]
     },
     "metadata": {},
     "output_type": "display_data"
    }
   ],
   "source": [
    "BoxFem.hist(column=\"renda\",bins=30)\n",
    "plt.ylabel('Quantidade absoluta de pessoas do sexo Feminino')\n",
    "plt.xlabel('renda')\n",
    "plt.title('renda de pessoas do sexo Feminino')"
   ]
  },
  {
   "cell_type": "code",
   "execution_count": 70,
   "metadata": {},
   "outputs": [
    {
     "data": {
      "text/plain": [
       "Parda             141483\n",
       "Branca            115251\n",
       "Preta              29269\n",
       "Indígena            1284\n",
       "Amarela              998\n",
       "Sem declaração         4\n",
       "Name: Cor_ou_raca, dtype: int64"
      ]
     },
     "execution_count": 70,
     "metadata": {},
     "output_type": "execute_result"
    }
   ],
   "source": [
    "Grafico_cor_ou_raca=dados.Cor_ou_raca.value_counts()\n",
    "Grafico_cor_ou_raca"
   ]
  },
  {
   "cell_type": "code",
   "execution_count": 71,
   "metadata": {},
   "outputs": [
    {
     "data": {
      "text/plain": [
       "Text(0.5,1,'Porcentagem de pessoas que de cada cor ou raça')"
      ]
     },
     "execution_count": 71,
     "metadata": {},
     "output_type": "execute_result"
    },
    {
     "data": {
      "image/png": "[encoded data removed]",
      "text/plain": [
       "<matplotlib.figure.Figure at 0x12500b5ac88>"
      ]
     },
     "metadata": {},
     "output_type": "display_data"
    }
   ],
   "source": [
    "Grafico_cor_ou_raca.plot(kind='pie',autopct=\"%0.2f\")\n",
    "plt.title('Porcentagem de pessoas que de cada cor ou raça')"
   ]
  },
  {
   "cell_type": "code",
   "execution_count": 72,
   "metadata": {},
   "outputs": [],
   "source": [
    "BoxParda=dados[(dados.Cor_ou_raca == 'Parda')]\n",
    "BoxIndigena=dados[(dados.Cor_ou_raca == 'Indígena')]\n",
    "BoxBranca=dados[(dados.Cor_ou_raca == 'Branca')]\n",
    "BoxPreta=dados[(dados.Cor_ou_raca == 'Preta')]\n",
    "BoxAmarela=dados[(dados.Cor_ou_raca == 'Amarela' )]\n"
   ]
  },
  {
   "cell_type": "code",
   "execution_count": 73,
   "metadata": {},
   "outputs": [
    {
     "data": {
      "image/png": "[encoded data removed]",
      "text/plain": [
       "<matplotlib.figure.Figure at 0x12505175c88>"
      ]
     },
     "metadata": {},
     "output_type": "display_data"
    }
   ],
   "source": [
    "plot = BoxParda.renda.plot(kind='box',title='.')\n",
    "plt.ylabel('renda')\n",
    "plt.xlabel('Pessoas que se consideram pardas')\n",
    "plt.title('renda de pessoas que se consideram pardas')\n",
    "plt.show()"
   ]
  },
  {
   "cell_type": "code",
   "execution_count": 74,
   "metadata": {},
   "outputs": [
    {
     "data": {
      "text/html": [
       "<div>\n",
       "<style scoped>\n",
       "    .dataframe tbody tr th:only-of-type {\n",
       "        vertical-align: middle;\n",
       "    }\n",
       "\n",
       "    .dataframe tbody tr th {\n",
       "        vertical-align: top;\n",
       "    }\n",
       "\n",
       "    .dataframe thead th {\n",
       "        text-align: right;\n",
       "    }\n",
       "</style>\n",
       "<table border=\"1\" class=\"dataframe\">\n",
       "  <thead>\n",
       "    <tr style=\"text-align: right;\">\n",
       "      <th></th>\n",
       "      <th>Idade</th>\n",
       "      <th>renda</th>\n",
       "      <th>Rendimento_mensal_domiciliar_per_capita</th>\n",
       "    </tr>\n",
       "  </thead>\n",
       "  <tbody>\n",
       "    <tr>\n",
       "      <th>count</th>\n",
       "      <td>141483.000000</td>\n",
       "      <td>141483.000000</td>\n",
       "      <td>1.412650e+05</td>\n",
       "    </tr>\n",
       "    <tr>\n",
       "      <th>mean</th>\n",
       "      <td>36.550921</td>\n",
       "      <td>698.394231</td>\n",
       "      <td>9.931689e+09</td>\n",
       "    </tr>\n",
       "    <tr>\n",
       "      <th>std</th>\n",
       "      <td>18.553241</td>\n",
       "      <td>758.967807</td>\n",
       "      <td>9.916209e+10</td>\n",
       "    </tr>\n",
       "    <tr>\n",
       "      <th>min</th>\n",
       "      <td>10.000000</td>\n",
       "      <td>0.000000</td>\n",
       "      <td>0.000000e+00</td>\n",
       "    </tr>\n",
       "    <tr>\n",
       "      <th>25%</th>\n",
       "      <td>21.000000</td>\n",
       "      <td>0.000000</td>\n",
       "      <td>3.110000e+02</td>\n",
       "    </tr>\n",
       "    <tr>\n",
       "      <th>50%</th>\n",
       "      <td>34.000000</td>\n",
       "      <td>740.000000</td>\n",
       "      <td>5.460000e+02</td>\n",
       "    </tr>\n",
       "    <tr>\n",
       "      <th>75%</th>\n",
       "      <td>50.000000</td>\n",
       "      <td>1000.000000</td>\n",
       "      <td>8.920000e+02</td>\n",
       "    </tr>\n",
       "    <tr>\n",
       "      <th>max</th>\n",
       "      <td>105.000000</td>\n",
       "      <td>3991.000000</td>\n",
       "      <td>1.000000e+12</td>\n",
       "    </tr>\n",
       "  </tbody>\n",
       "</table>\n",
       "</div>"
      ],
      "text/plain": [
       "               Idade          renda  Rendimento_mensal_domiciliar_per_capita\n",
       "count  141483.000000  141483.000000                             1.412650e+05\n",
       "mean       36.550921     698.394231                             9.931689e+09\n",
       "std        18.553241     758.967807                             9.916209e+10\n",
       "min        10.000000       0.000000                             0.000000e+00\n",
       "25%        21.000000       0.000000                             3.110000e+02\n",
       "50%        34.000000     740.000000                             5.460000e+02\n",
       "75%        50.000000    1000.000000                             8.920000e+02\n",
       "max       105.000000    3991.000000                             1.000000e+12"
      ]
     },
     "execution_count": 74,
     "metadata": {},
     "output_type": "execute_result"
    }
   ],
   "source": [
    "BoxParda.describe()"
   ]
  },
  {
   "cell_type": "code",
   "execution_count": 76,
   "metadata": {},
   "outputs": [
    {
     "data": {
      "text/plain": [
       "Text(0.5,1,'renda de pessoas que se consideram pardas')"
      ]
     },
     "execution_count": 76,
     "metadata": {},
     "output_type": "execute_result"
    },
    {
     "data": {
      "image/png": "[encoded data removed]",
      "text/plain": [
       "<matplotlib.figure.Figure at 0x125054675c0>"
      ]
     },
     "metadata": {},
     "output_type": "display_data"
    }
   ],
   "source": [
    "BoxParda.hist(column=\"renda\",bins=30)\n",
    "plt.ylabel('Quantidade absoluta de pessoas que se consideram pardas')\n",
    "plt.xlabel('renda')\n",
    "plt.title('renda de pessoas que se consideram pardas')"
   ]
  },
  {
   "cell_type": "code",
   "execution_count": 77,
   "metadata": {},
   "outputs": [
    {
     "data": {
      "image/png": "[encoded data removed]",
      "text/plain": [
       "<matplotlib.figure.Figure at 0x12500c00390>"
      ]
     },
     "metadata": {},
     "output_type": "display_data"
    }
   ],
   "source": [
    "plot = BoxIndigena.renda.plot(kind='box',title='.')\n",
    "plt.ylabel('renda')\n",
    "plt.xlabel('Pessoas que se consideram Indígenas')\n",
    "plt.title('renda de pessoas que se consideram Indígenas')\n",
    "plt.show()"
   ]
  },
  {
   "cell_type": "code",
   "execution_count": 78,
   "metadata": {},
   "outputs": [
    {
     "data": {
      "text/html": [
       "<div>\n",
       "<style scoped>\n",
       "    .dataframe tbody tr th:only-of-type {\n",
       "        vertical-align: middle;\n",
       "    }\n",
       "\n",
       "    .dataframe tbody tr th {\n",
       "        vertical-align: top;\n",
       "    }\n",
       "\n",
       "    .dataframe thead th {\n",
       "        text-align: right;\n",
       "    }\n",
       "</style>\n",
       "<table border=\"1\" class=\"dataframe\">\n",
       "  <thead>\n",
       "    <tr style=\"text-align: right;\">\n",
       "      <th></th>\n",
       "      <th>Idade</th>\n",
       "      <th>renda</th>\n",
       "      <th>Rendimento_mensal_domiciliar_per_capita</th>\n",
       "    </tr>\n",
       "  </thead>\n",
       "  <tbody>\n",
       "    <tr>\n",
       "      <th>count</th>\n",
       "      <td>1284.000000</td>\n",
       "      <td>1284.000000</td>\n",
       "      <td>1.283000e+03</td>\n",
       "    </tr>\n",
       "    <tr>\n",
       "      <th>mean</th>\n",
       "      <td>35.499221</td>\n",
       "      <td>624.660436</td>\n",
       "      <td>2.572097e+10</td>\n",
       "    </tr>\n",
       "    <tr>\n",
       "      <th>std</th>\n",
       "      <td>18.484410</td>\n",
       "      <td>768.859270</td>\n",
       "      <td>1.583633e+11</td>\n",
       "    </tr>\n",
       "    <tr>\n",
       "      <th>min</th>\n",
       "      <td>10.000000</td>\n",
       "      <td>0.000000</td>\n",
       "      <td>0.000000e+00</td>\n",
       "    </tr>\n",
       "    <tr>\n",
       "      <th>25%</th>\n",
       "      <td>20.000000</td>\n",
       "      <td>0.000000</td>\n",
       "      <td>1.870000e+02</td>\n",
       "    </tr>\n",
       "    <tr>\n",
       "      <th>50%</th>\n",
       "      <td>33.000000</td>\n",
       "      <td>310.000000</td>\n",
       "      <td>4.170000e+02</td>\n",
       "    </tr>\n",
       "    <tr>\n",
       "      <th>75%</th>\n",
       "      <td>48.000000</td>\n",
       "      <td>900.000000</td>\n",
       "      <td>7.935000e+02</td>\n",
       "    </tr>\n",
       "    <tr>\n",
       "      <th>max</th>\n",
       "      <td>100.000000</td>\n",
       "      <td>3940.000000</td>\n",
       "      <td>1.000000e+12</td>\n",
       "    </tr>\n",
       "  </tbody>\n",
       "</table>\n",
       "</div>"
      ],
      "text/plain": [
       "             Idade        renda  Rendimento_mensal_domiciliar_per_capita\n",
       "count  1284.000000  1284.000000                             1.283000e+03\n",
       "mean     35.499221   624.660436                             2.572097e+10\n",
       "std      18.484410   768.859270                             1.583633e+11\n",
       "min      10.000000     0.000000                             0.000000e+00\n",
       "25%      20.000000     0.000000                             1.870000e+02\n",
       "50%      33.000000   310.000000                             4.170000e+02\n",
       "75%      48.000000   900.000000                             7.935000e+02\n",
       "max     100.000000  3940.000000                             1.000000e+12"
      ]
     },
     "execution_count": 78,
     "metadata": {},
     "output_type": "execute_result"
    }
   ],
   "source": [
    "BoxIndigena.describe()"
   ]
  },
  {
   "cell_type": "code",
   "execution_count": 79,
   "metadata": {},
   "outputs": [
    {
     "data": {
      "text/plain": [
       "Text(0.5,1,'renda de pessoas que se consideram Indígena')"
      ]
     },
     "execution_count": 79,
     "metadata": {},
     "output_type": "execute_result"
    },
    {
     "data": {
      "image/png": "[encoded data removed]",
      "text/plain": [
       "<matplotlib.figure.Figure at 0x125051dcbe0>"
      ]
     },
     "metadata": {},
     "output_type": "display_data"
    }
   ],
   "source": [
    "BoxIndigena.hist(column=\"renda\",bins=30)\n",
    "plt.ylabel('Quantidade absoluta de pessoas que se consideram Indígenas')\n",
    "plt.xlabel('renda')\n",
    "plt.title('renda de pessoas que se consideram Indígena')"
   ]
  },
  {
   "cell_type": "code",
   "execution_count": 80,
   "metadata": {},
   "outputs": [
    {
     "data": {
      "image/png": "[encoded data removed]",
      "text/plain": [
       "<matplotlib.figure.Figure at 0x12505bc9a58>"
      ]
     },
     "metadata": {},
     "output_type": "display_data"
    }
   ],
   "source": [
    "plot = BoxBranca.renda.plot(kind='box',title='.')\n",
    "plt.ylabel('renda')\n",
    "plt.xlabel('Pessoas que se consideram Brancas')\n",
    "plt.title('renda de pessoas que se consideram Brancas')\n",
    "plt.show()"
   ]
  },
  {
   "cell_type": "code",
   "execution_count": 81,
   "metadata": {},
   "outputs": [
    {
     "data": {
      "text/html": [
       "<div>\n",
       "<style scoped>\n",
       "    .dataframe tbody tr th:only-of-type {\n",
       "        vertical-align: middle;\n",
       "    }\n",
       "\n",
       "    .dataframe tbody tr th {\n",
       "        vertical-align: top;\n",
       "    }\n",
       "\n",
       "    .dataframe thead th {\n",
       "        text-align: right;\n",
       "    }\n",
       "</style>\n",
       "<table border=\"1\" class=\"dataframe\">\n",
       "  <thead>\n",
       "    <tr style=\"text-align: right;\">\n",
       "      <th></th>\n",
       "      <th>Idade</th>\n",
       "      <th>renda</th>\n",
       "      <th>Rendimento_mensal_domiciliar_per_capita</th>\n",
       "    </tr>\n",
       "  </thead>\n",
       "  <tbody>\n",
       "    <tr>\n",
       "      <th>count</th>\n",
       "      <td>115251.000000</td>\n",
       "      <td>115251.000000</td>\n",
       "      <td>1.150390e+05</td>\n",
       "    </tr>\n",
       "    <tr>\n",
       "      <th>mean</th>\n",
       "      <td>39.597348</td>\n",
       "      <td>933.489002</td>\n",
       "      <td>1.562079e+10</td>\n",
       "    </tr>\n",
       "    <tr>\n",
       "      <th>std</th>\n",
       "      <td>19.655985</td>\n",
       "      <td>922.305085</td>\n",
       "      <td>1.240037e+11</td>\n",
       "    </tr>\n",
       "    <tr>\n",
       "      <th>min</th>\n",
       "      <td>10.000000</td>\n",
       "      <td>0.000000</td>\n",
       "      <td>0.000000e+00</td>\n",
       "    </tr>\n",
       "    <tr>\n",
       "      <th>25%</th>\n",
       "      <td>23.000000</td>\n",
       "      <td>0.000000</td>\n",
       "      <td>5.000000e+02</td>\n",
       "    </tr>\n",
       "    <tr>\n",
       "      <th>50%</th>\n",
       "      <td>37.000000</td>\n",
       "      <td>788.000000</td>\n",
       "      <td>8.190000e+02</td>\n",
       "    </tr>\n",
       "    <tr>\n",
       "      <th>75%</th>\n",
       "      <td>54.000000</td>\n",
       "      <td>1500.000000</td>\n",
       "      <td>1.397000e+03</td>\n",
       "    </tr>\n",
       "    <tr>\n",
       "      <th>max</th>\n",
       "      <td>110.000000</td>\n",
       "      <td>3992.000000</td>\n",
       "      <td>1.000000e+12</td>\n",
       "    </tr>\n",
       "  </tbody>\n",
       "</table>\n",
       "</div>"
      ],
      "text/plain": [
       "               Idade          renda  Rendimento_mensal_domiciliar_per_capita\n",
       "count  115251.000000  115251.000000                             1.150390e+05\n",
       "mean       39.597348     933.489002                             1.562079e+10\n",
       "std        19.655985     922.305085                             1.240037e+11\n",
       "min        10.000000       0.000000                             0.000000e+00\n",
       "25%        23.000000       0.000000                             5.000000e+02\n",
       "50%        37.000000     788.000000                             8.190000e+02\n",
       "75%        54.000000    1500.000000                             1.397000e+03\n",
       "max       110.000000    3992.000000                             1.000000e+12"
      ]
     },
     "execution_count": 81,
     "metadata": {},
     "output_type": "execute_result"
    }
   ],
   "source": [
    "BoxBranca.describe()"
   ]
  },
  {
   "cell_type": "code",
   "execution_count": 82,
   "metadata": {},
   "outputs": [
    {
     "data": {
      "text/plain": [
       "Text(0.5,1,'renda de pessoas que se consideram Brancas')"
      ]
     },
     "execution_count": 82,
     "metadata": {},
     "output_type": "execute_result"
    },
    {
     "data": {
      "image/png": "[encoded data removed]",
      "text/plain": [
       "<matplotlib.figure.Figure at 0x1250082d6d8>"
      ]
     },
     "metadata": {},
     "output_type": "display_data"
    }
   ],
   "source": [
    "BoxBranca.hist(column=\"renda\",bins=30)\n",
    "plt.ylabel('Quantidade absoluta de pessoas que se consideram Brancas')\n",
    "plt.xlabel('renda')\n",
    "plt.title('renda de pessoas que se consideram Brancas')"
   ]
  },
  {
   "cell_type": "code",
   "execution_count": 83,
   "metadata": {},
   "outputs": [
    {
     "data": {
      "image/png": "[encoded data removed]",
      "text/plain": [
       "<matplotlib.figure.Figure at 0x12505c39908>"
      ]
     },
     "metadata": {},
     "output_type": "display_data"
    }
   ],
   "source": [
    "plot = BoxPreta.renda.plot(kind='box',title='.')\n",
    "plt.ylabel('renda')\n",
    "plt.xlabel('Pessoas que se consideram Pretas')\n",
    "plt.title('renda de pessoas que se consideram Pretas')\n",
    "plt.show()"
   ]
  },
  {
   "cell_type": "code",
   "execution_count": 84,
   "metadata": {},
   "outputs": [
    {
     "data": {
      "text/html": [
       "<div>\n",
       "<style scoped>\n",
       "    .dataframe tbody tr th:only-of-type {\n",
       "        vertical-align: middle;\n",
       "    }\n",
       "\n",
       "    .dataframe tbody tr th {\n",
       "        vertical-align: top;\n",
       "    }\n",
       "\n",
       "    .dataframe thead th {\n",
       "        text-align: right;\n",
       "    }\n",
       "</style>\n",
       "<table border=\"1\" class=\"dataframe\">\n",
       "  <thead>\n",
       "    <tr style=\"text-align: right;\">\n",
       "      <th></th>\n",
       "      <th>Idade</th>\n",
       "      <th>renda</th>\n",
       "      <th>Rendimento_mensal_domiciliar_per_capita</th>\n",
       "    </tr>\n",
       "  </thead>\n",
       "  <tbody>\n",
       "    <tr>\n",
       "      <th>count</th>\n",
       "      <td>29269.000000</td>\n",
       "      <td>29269.000000</td>\n",
       "      <td>2.917200e+04</td>\n",
       "    </tr>\n",
       "    <tr>\n",
       "      <th>mean</th>\n",
       "      <td>39.166900</td>\n",
       "      <td>786.823704</td>\n",
       "      <td>9.632525e+09</td>\n",
       "    </tr>\n",
       "    <tr>\n",
       "      <th>std</th>\n",
       "      <td>18.453973</td>\n",
       "      <td>758.641338</td>\n",
       "      <td>9.767326e+10</td>\n",
       "    </tr>\n",
       "    <tr>\n",
       "      <th>min</th>\n",
       "      <td>10.000000</td>\n",
       "      <td>0.000000</td>\n",
       "      <td>0.000000e+00</td>\n",
       "    </tr>\n",
       "    <tr>\n",
       "      <th>25%</th>\n",
       "      <td>24.000000</td>\n",
       "      <td>0.000000</td>\n",
       "      <td>3.500000e+02</td>\n",
       "    </tr>\n",
       "    <tr>\n",
       "      <th>50%</th>\n",
       "      <td>37.000000</td>\n",
       "      <td>788.000000</td>\n",
       "      <td>5.960000e+02</td>\n",
       "    </tr>\n",
       "    <tr>\n",
       "      <th>75%</th>\n",
       "      <td>52.000000</td>\n",
       "      <td>1150.000000</td>\n",
       "      <td>9.250000e+02</td>\n",
       "    </tr>\n",
       "    <tr>\n",
       "      <th>max</th>\n",
       "      <td>115.000000</td>\n",
       "      <td>3972.000000</td>\n",
       "      <td>1.000000e+12</td>\n",
       "    </tr>\n",
       "  </tbody>\n",
       "</table>\n",
       "</div>"
      ],
      "text/plain": [
       "              Idade         renda  Rendimento_mensal_domiciliar_per_capita\n",
       "count  29269.000000  29269.000000                             2.917200e+04\n",
       "mean      39.166900    786.823704                             9.632525e+09\n",
       "std       18.453973    758.641338                             9.767326e+10\n",
       "min       10.000000      0.000000                             0.000000e+00\n",
       "25%       24.000000      0.000000                             3.500000e+02\n",
       "50%       37.000000    788.000000                             5.960000e+02\n",
       "75%       52.000000   1150.000000                             9.250000e+02\n",
       "max      115.000000   3972.000000                             1.000000e+12"
      ]
     },
     "execution_count": 84,
     "metadata": {},
     "output_type": "execute_result"
    }
   ],
   "source": [
    "BoxPreta.describe()"
   ]
  },
  {
   "cell_type": "code",
   "execution_count": 85,
   "metadata": {},
   "outputs": [
    {
     "data": {
      "text/plain": [
       "Text(0.5,1,'renda de pessoas que se consideram Pretas')"
      ]
     },
     "execution_count": 85,
     "metadata": {},
     "output_type": "execute_result"
    },
    {
     "data": {
      "image/png": "[encoded data removed]",
      "text/plain": [
       "<matplotlib.figure.Figure at 0x125008178d0>"
      ]
     },
     "metadata": {},
     "output_type": "display_data"
    }
   ],
   "source": [
    "BoxPreta.hist(column=\"renda\",bins=30)\n",
    "plt.ylabel('Quantidade absoluta de pessoas que se consideram Pretas')\n",
    "plt.xlabel('renda')\n",
    "plt.title('renda de pessoas que se consideram Pretas')"
   ]
  },
  {
   "cell_type": "code",
   "execution_count": 86,
   "metadata": {},
   "outputs": [
    {
     "data": {
      "image/png": "[encoded data removed]",
      "text/plain": [
       "<matplotlib.figure.Figure at 0x12505b9c828>"
      ]
     },
     "metadata": {},
     "output_type": "display_data"
    }
   ],
   "source": [
    "plot = BoxAmarela.renda.plot(kind='box',title='.')\n",
    "plt.ylabel('renda')\n",
    "plt.xlabel('Pessoas que se consideram Amarelas')\n",
    "plt.title('renda de pessoas que se consideram Amarelas')\n",
    "plt.show()"
   ]
  },
  {
   "cell_type": "code",
   "execution_count": 87,
   "metadata": {},
   "outputs": [
    {
     "data": {
      "text/html": [
       "<div>\n",
       "<style scoped>\n",
       "    .dataframe tbody tr th:only-of-type {\n",
       "        vertical-align: middle;\n",
       "    }\n",
       "\n",
       "    .dataframe tbody tr th {\n",
       "        vertical-align: top;\n",
       "    }\n",
       "\n",
       "    .dataframe thead th {\n",
       "        text-align: right;\n",
       "    }\n",
       "</style>\n",
       "<table border=\"1\" class=\"dataframe\">\n",
       "  <thead>\n",
       "    <tr style=\"text-align: right;\">\n",
       "      <th></th>\n",
       "      <th>Idade</th>\n",
       "      <th>renda</th>\n",
       "      <th>Rendimento_mensal_domiciliar_per_capita</th>\n",
       "    </tr>\n",
       "  </thead>\n",
       "  <tbody>\n",
       "    <tr>\n",
       "      <th>count</th>\n",
       "      <td>998.000000</td>\n",
       "      <td>998.000000</td>\n",
       "      <td>9.960000e+02</td>\n",
       "    </tr>\n",
       "    <tr>\n",
       "      <th>mean</th>\n",
       "      <td>41.488978</td>\n",
       "      <td>1048.276553</td>\n",
       "      <td>3.313253e+10</td>\n",
       "    </tr>\n",
       "    <tr>\n",
       "      <th>std</th>\n",
       "      <td>20.688728</td>\n",
       "      <td>1053.318781</td>\n",
       "      <td>1.790725e+11</td>\n",
       "    </tr>\n",
       "    <tr>\n",
       "      <th>min</th>\n",
       "      <td>10.000000</td>\n",
       "      <td>0.000000</td>\n",
       "      <td>0.000000e+00</td>\n",
       "    </tr>\n",
       "    <tr>\n",
       "      <th>25%</th>\n",
       "      <td>24.000000</td>\n",
       "      <td>0.000000</td>\n",
       "      <td>5.440000e+02</td>\n",
       "    </tr>\n",
       "    <tr>\n",
       "      <th>50%</th>\n",
       "      <td>38.000000</td>\n",
       "      <td>800.000000</td>\n",
       "      <td>1.093000e+03</td>\n",
       "    </tr>\n",
       "    <tr>\n",
       "      <th>75%</th>\n",
       "      <td>58.000000</td>\n",
       "      <td>1600.000000</td>\n",
       "      <td>1.920000e+03</td>\n",
       "    </tr>\n",
       "    <tr>\n",
       "      <th>max</th>\n",
       "      <td>97.000000</td>\n",
       "      <td>3900.000000</td>\n",
       "      <td>1.000000e+12</td>\n",
       "    </tr>\n",
       "  </tbody>\n",
       "</table>\n",
       "</div>"
      ],
      "text/plain": [
       "            Idade        renda  Rendimento_mensal_domiciliar_per_capita\n",
       "count  998.000000   998.000000                             9.960000e+02\n",
       "mean    41.488978  1048.276553                             3.313253e+10\n",
       "std     20.688728  1053.318781                             1.790725e+11\n",
       "min     10.000000     0.000000                             0.000000e+00\n",
       "25%     24.000000     0.000000                             5.440000e+02\n",
       "50%     38.000000   800.000000                             1.093000e+03\n",
       "75%     58.000000  1600.000000                             1.920000e+03\n",
       "max     97.000000  3900.000000                             1.000000e+12"
      ]
     },
     "execution_count": 87,
     "metadata": {},
     "output_type": "execute_result"
    }
   ],
   "source": [
    "BoxAmarela.describe()"
   ]
  },
  {
   "cell_type": "code",
   "execution_count": 88,
   "metadata": {},
   "outputs": [
    {
     "data": {
      "text/plain": [
       "Text(0.5,1,'renda de pessoas que se consideram Amarelas')"
      ]
     },
     "execution_count": 88,
     "metadata": {},
     "output_type": "execute_result"
    },
    {
     "data": {
      "image/png": "[encoded data removed]",
      "text/plain": [
       "<matplotlib.figure.Figure at 0x12505171f60>"
      ]
     },
     "metadata": {},
     "output_type": "display_data"
    }
   ],
   "source": [
    "BoxAmarela.hist(column=\"renda\",bins=30)\n",
    "plt.ylabel('Quantidade absoluta de pessoas que se consideram Amarelas')\n",
    "plt.xlabel('renda')\n",
    "plt.title('renda de pessoas que se consideram Amarelas')"
   ]
  },
  {
   "cell_type": "markdown",
   "metadata": {},
   "source": []
  },
  {
   "cell_type": "markdown",
   "metadata": {},
   "source": [
    "___\n",
    "## MODELOS DE PREDIÇÃO:"
   ]
  },
  {
   "cell_type": "markdown",
   "metadata": {},
   "source": [
    "___\n",
    "## Validação cruzada:"
   ]
  },
  {
   "cell_type": "code",
   "execution_count": 10,
   "metadata": {},
   "outputs": [
    {
     "data": {
      "text/html": [
       "<div>\n",
       "<style scoped>\n",
       "    .dataframe tbody tr th:only-of-type {\n",
       "        vertical-align: middle;\n",
       "    }\n",
       "\n",
       "    .dataframe tbody tr th {\n",
       "        vertical-align: top;\n",
       "    }\n",
       "\n",
       "    .dataframe thead th {\n",
       "        text-align: right;\n",
       "    }\n",
       "</style>\n",
       "<table border=\"1\" class=\"dataframe\">\n",
       "  <thead>\n",
       "    <tr style=\"text-align: right;\">\n",
       "      <th></th>\n",
       "      <th>Estado</th>\n",
       "      <th>Sexo</th>\n",
       "      <th>Idade</th>\n",
       "      <th>Cor_ou_raca</th>\n",
       "      <th>Sabe_ler_e_escrever</th>\n",
       "      <th>renda</th>\n",
       "      <th>Rendimento_mensal_domiciliar_per_capita</th>\n",
       "    </tr>\n",
       "  </thead>\n",
       "  <tbody>\n",
       "    <tr>\n",
       "      <th>291571</th>\n",
       "      <td>Sul</td>\n",
       "      <td>Feminino</td>\n",
       "      <td>51</td>\n",
       "      <td>Preta</td>\n",
       "      <td>Sim</td>\n",
       "      <td>0.0</td>\n",
       "      <td>540.0</td>\n",
       "    </tr>\n",
       "    <tr>\n",
       "      <th>178890</th>\n",
       "      <td>Sudeste</td>\n",
       "      <td>Masculino</td>\n",
       "      <td>26</td>\n",
       "      <td>Preta</td>\n",
       "      <td>Sim</td>\n",
       "      <td>1200.0</td>\n",
       "      <td>2075.0</td>\n",
       "    </tr>\n",
       "    <tr>\n",
       "      <th>244044</th>\n",
       "      <td>Sudeste</td>\n",
       "      <td>Masculino</td>\n",
       "      <td>26</td>\n",
       "      <td>Preta</td>\n",
       "      <td>Sim</td>\n",
       "      <td>2081.0</td>\n",
       "      <td>2081.0</td>\n",
       "    </tr>\n",
       "    <tr>\n",
       "      <th>142146</th>\n",
       "      <td>Nordeste</td>\n",
       "      <td>Masculino</td>\n",
       "      <td>62</td>\n",
       "      <td>Amarela</td>\n",
       "      <td>Sim</td>\n",
       "      <td>788.0</td>\n",
       "      <td>444.0</td>\n",
       "    </tr>\n",
       "    <tr>\n",
       "      <th>187236</th>\n",
       "      <td>Sudeste</td>\n",
       "      <td>Masculino</td>\n",
       "      <td>34</td>\n",
       "      <td>Indígena</td>\n",
       "      <td>Sim</td>\n",
       "      <td>2200.0</td>\n",
       "      <td>1233.0</td>\n",
       "    </tr>\n",
       "  </tbody>\n",
       "</table>\n",
       "</div>"
      ],
      "text/plain": [
       "          Estado       Sexo  Idade Cor_ou_raca Sabe_ler_e_escrever   renda  \\\n",
       "291571       Sul   Feminino     51       Preta                 Sim     0.0   \n",
       "178890   Sudeste  Masculino     26       Preta                 Sim  1200.0   \n",
       "244044   Sudeste  Masculino     26       Preta                 Sim  2081.0   \n",
       "142146  Nordeste  Masculino     62     Amarela                 Sim   788.0   \n",
       "187236   Sudeste  Masculino     34    Indígena                 Sim  2200.0   \n",
       "\n",
       "        Rendimento_mensal_domiciliar_per_capita  \n",
       "291571                                    540.0  \n",
       "178890                                   2075.0  \n",
       "244044                                   2081.0  \n",
       "142146                                    444.0  \n",
       "187236                                   1233.0  "
      ]
     },
     "execution_count": 10,
     "metadata": {},
     "output_type": "execute_result"
    }
   ],
   "source": [
    "#divisao teste e treinamento x 10\n",
    "from sklearn.model_selection import train_test_split\n",
    "\n",
    "for i in range (10):\n",
    "    dados_treino, dados_teste = train_test_split(dados,test_size=0.1)\n",
    "    \n",
    "dados_treino.head(5)"
   ]
  },
  {
   "cell_type": "markdown",
   "metadata": {},
   "source": [
    "___\n",
    "## MODELO DE PREDIÇÃO PELA MÉDIA:"
   ]
  },
  {
   "cell_type": "code",
   "execution_count": 11,
   "metadata": {},
   "outputs": [
    {
     "data": {
      "text/plain": [
       "802.1324789948354"
      ]
     },
     "execution_count": 11,
     "metadata": {},
     "output_type": "execute_result"
    }
   ],
   "source": [
    "Media_renda=dados_treino.renda.mean()\n",
    "Media_renda\n",
    "\n",
    "#print(len(dados_treino))"
   ]
  },
  {
   "cell_type": "markdown",
   "metadata": {},
   "source": [
    "___\n",
    "## R2"
   ]
  },
  {
   "cell_type": "code",
   "execution_count": 12,
   "metadata": {},
   "outputs": [
    {
     "data": {
      "text/plain": [
       "0.0"
      ]
     },
     "execution_count": 12,
     "metadata": {},
     "output_type": "execute_result"
    }
   ],
   "source": [
    "Somatoria1=0\n",
    "Somatoria2=0\n",
    "\n",
    "for i in range(len(dados_treino)):\n",
    "    A1=(dados_treino.renda.iloc[i]-Media_renda)**2\n",
    "    Somatoria1+=A1\n",
    "    A2=(dados_treino.renda.iloc[i]-Media_renda)**2\n",
    "    Somatoria2+=A2\n",
    "    \n",
    "R2= 1-(Somatoria1/Somatoria2)\n",
    "R2"
   ]
  },
  {
   "cell_type": "markdown",
   "metadata": {},
   "source": [
    "___\n",
    "## RMS"
   ]
  },
  {
   "cell_type": "code",
   "execution_count": 13,
   "metadata": {},
   "outputs": [
    {
     "data": {
      "text/plain": [
       "1.6433589158216462"
      ]
     },
     "execution_count": 13,
     "metadata": {},
     "output_type": "execute_result"
    }
   ],
   "source": [
    "Somatoria3=0\n",
    "\n",
    "for i in range(len(dados_treino)):\n",
    "    A1=(dados_treino.renda.iloc[i]-Media_renda)**2\n",
    "    Somatoria3+=A1\n",
    "    \n",
    "    \n",
    "RMS=((Somatoria3)**(1/2))/len(dados_treino)\n",
    "RMS"
   ]
  },
  {
   "cell_type": "markdown",
   "metadata": {},
   "source": [
    "___\n",
    "## MODELO DOS K VIZINHOS MAIS PRÓXIMOS (K-Nearest Neighbors Regression):"
   ]
  },
  {
   "cell_type": "code",
   "execution_count": 14,
   "metadata": {},
   "outputs": [
    {
     "name": "stdout",
     "output_type": "stream",
     "text": [
      "para 1 vizinhos, a variação da renda de cada indivíduo para a média de renda é de: -802.1324789948354\n",
      "para 2 vizinhos, a variação da renda de cada indivíduo para a média de renda é de: -603.1987184922532\n",
      "para 3 vizinhos, a variação da renda de cada indivíduo para a média de renda é de: -110.5982913230041\n",
      "para 4 vizinhos, a variação da renda de cada indivíduo para a média de renda é de: 132.16880251291155\n",
      "para 5 vizinhos, a variação da renda de cada indivíduo para a média de renda é de: 557.4025630154939\n",
      "para 6 vizinhos, a variação da renda de cada indivíduo para a média de renda é de: 707.2029901847428\n",
      "para 7 vizinhos, a variação da renda de cada indivíduo para a média de renda é de: 828.184369734944\n",
      "para 8 vizinhos, a variação da renda de cada indivíduo para a média de renda é de: 917.1538445232402\n",
      "para 9 vizinhos, a variação da renda de cada indivíduo para a média de renda é de: 897.2264939147111\n",
      "para 10 vizinhos, a variação da renda de cada indivíduo para a média de renda é de: 886.0713655284042\n",
      "para 11 vizinhos, a variação da renda de cada indivíduo para a média de renda é de: 844.932398758259\n",
      "para 12 vizinhos, a variação da renda de cada indivíduo para a média de renda é de: 818.805553200235\n",
      "para 13 vizinhos, a variação da renda de cada indivíduo para a média de renda é de: 734.9957239592272\n",
      "para 14 vizinhos, a variação da renda de cada indivíduo para a média de renda é de: 655.8635503958752\n",
      "para 15 vizinhos, a variação da renda de cada indivíduo para a média de renda é de: 555.1401680413145\n",
      "para 16 vizinhos, a variação da renda de cada indivíduo para a média de renda é de: 416.87392854389657\n",
      "para 17 vizinhos, a variação da renda de cada indivíduo para a média de renda é de: 294.0429831641257\n",
      "para 18 vizinhos, a variação da renda de cada indivíduo para a média de renda é de: 212.5192273268386\n",
      "para 19 vizinhos, a variação da renda de cada indivíduo para a média de renda é de: 138.8331047884853\n",
      "para 20 vizinhos, a variação da renda de cada indivíduo para a média de renda é de: 32.40897055422567\n",
      "para 21 vizinhos, a variação da renda de cada indivíduo para a média de renda é de: -30.64774513366807\n",
      "para 22 vizinhos, a variação da renda de cada indivíduo para a média de renda é de: -124.43259934970037\n",
      "para 23 vizinhos, a variação da renda de cada indivíduo para a média de renda é de: -244.93757402498358\n",
      "para 24 vizinhos, a variação da renda de cada indivíduo para a média de renda é de: -388.8226541021116\n",
      "para 25 vizinhos, a variação da renda de cada indivíduo para a média de renda é de: -553.282226932863\n",
      "para 26 vizinhos, a variação da renda de cada indivíduo para a média de renda é de: -660.9423125841269\n",
      "para 27 vizinhos, a variação da renda de cada indivíduo para a média de renda é de: -705.1510022239935\n",
      "para 28 vizinhos, a variação da renda de cada indivíduo para a média de renda é de: -774.8495168536848\n",
      "para 29 vizinhos, a variação da renda de cada indivíduo para a média de renda é de: -822.5733918190814\n"
     ]
    }
   ],
   "source": [
    "ListaVi=0\n",
    "\n",
    "for j in range (1,30):\n",
    "    for i in range(j):\n",
    "        Vi=dados_treino.renda.iloc[i]-dados_treino.renda.mean()\n",
    "        ListaVi+=(Vi)  \n",
    "    MediaVi=(ListaVi/j)\n",
    "    print(\"para {0} vizinhos, a variação da renda de cada indivíduo para a média de renda é de: {1}\".format(j,MediaVi))\n"
   ]
  },
  {
   "cell_type": "markdown",
   "metadata": {},
   "source": [
    "___\n",
    "## MODELO DE REGRESSÃO LINEAR (Multiple Linear Regression):"
   ]
  },
  {
   "cell_type": "code",
   "execution_count": 15,
   "metadata": {},
   "outputs": [
    {
     "data": {
      "text/html": [
       "<div>\n",
       "<style scoped>\n",
       "    .dataframe tbody tr th:only-of-type {\n",
       "        vertical-align: middle;\n",
       "    }\n",
       "\n",
       "    .dataframe tbody tr th {\n",
       "        vertical-align: top;\n",
       "    }\n",
       "\n",
       "    .dataframe thead th {\n",
       "        text-align: right;\n",
       "    }\n",
       "</style>\n",
       "<table border=\"1\" class=\"dataframe\">\n",
       "  <thead>\n",
       "    <tr style=\"text-align: right;\">\n",
       "      <th></th>\n",
       "      <th>Estado</th>\n",
       "      <th>Sexo</th>\n",
       "      <th>Idade</th>\n",
       "      <th>Cor_ou_raca</th>\n",
       "      <th>Sabe_ler_e_escrever</th>\n",
       "      <th>renda</th>\n",
       "      <th>Rendimento_mensal_domiciliar_per_capita</th>\n",
       "    </tr>\n",
       "  </thead>\n",
       "  <tbody>\n",
       "    <tr>\n",
       "      <th>117476</th>\n",
       "      <td>26</td>\n",
       "      <td>4</td>\n",
       "      <td>30</td>\n",
       "      <td>2</td>\n",
       "      <td>1</td>\n",
       "      <td>860.0</td>\n",
       "      <td>576</td>\n",
       "    </tr>\n",
       "    <tr>\n",
       "      <th>184241</th>\n",
       "      <td>31</td>\n",
       "      <td>4</td>\n",
       "      <td>20</td>\n",
       "      <td>2</td>\n",
       "      <td>1</td>\n",
       "      <td>0.0</td>\n",
       "      <td>940</td>\n",
       "    </tr>\n",
       "    <tr>\n",
       "      <th>236421</th>\n",
       "      <td>35</td>\n",
       "      <td>4</td>\n",
       "      <td>69</td>\n",
       "      <td>2</td>\n",
       "      <td>1</td>\n",
       "      <td>788.0</td>\n",
       "      <td>2288</td>\n",
       "    </tr>\n",
       "    <tr>\n",
       "      <th>260353</th>\n",
       "      <td>35</td>\n",
       "      <td>2</td>\n",
       "      <td>79</td>\n",
       "      <td>2</td>\n",
       "      <td>1</td>\n",
       "      <td>1000.0</td>\n",
       "      <td>2029</td>\n",
       "    </tr>\n",
       "    <tr>\n",
       "      <th>115134</th>\n",
       "      <td>26</td>\n",
       "      <td>4</td>\n",
       "      <td>46</td>\n",
       "      <td>2</td>\n",
       "      <td>1</td>\n",
       "      <td>600.0</td>\n",
       "      <td>600</td>\n",
       "    </tr>\n",
       "    <tr>\n",
       "      <th>5176</th>\n",
       "      <td>11</td>\n",
       "      <td>4</td>\n",
       "      <td>79</td>\n",
       "      <td>2</td>\n",
       "      <td>3</td>\n",
       "      <td>1576.0</td>\n",
       "      <td>692</td>\n",
       "    </tr>\n",
       "    <tr>\n",
       "      <th>36332</th>\n",
       "      <td>15</td>\n",
       "      <td>2</td>\n",
       "      <td>66</td>\n",
       "      <td>4</td>\n",
       "      <td>1</td>\n",
       "      <td>788.0</td>\n",
       "      <td>525</td>\n",
       "    </tr>\n",
       "    <tr>\n",
       "      <th>139299</th>\n",
       "      <td>29</td>\n",
       "      <td>4</td>\n",
       "      <td>22</td>\n",
       "      <td>8</td>\n",
       "      <td>1</td>\n",
       "      <td>0.0</td>\n",
       "      <td>533</td>\n",
       "    </tr>\n",
       "    <tr>\n",
       "      <th>304864</th>\n",
       "      <td>43</td>\n",
       "      <td>4</td>\n",
       "      <td>33</td>\n",
       "      <td>2</td>\n",
       "      <td>1</td>\n",
       "      <td>100.0</td>\n",
       "      <td>316</td>\n",
       "    </tr>\n",
       "    <tr>\n",
       "      <th>55194</th>\n",
       "      <td>17</td>\n",
       "      <td>4</td>\n",
       "      <td>59</td>\n",
       "      <td>8</td>\n",
       "      <td>1</td>\n",
       "      <td>0.0</td>\n",
       "      <td>394</td>\n",
       "    </tr>\n",
       "  </tbody>\n",
       "</table>\n",
       "</div>"
      ],
      "text/plain": [
       "        Estado  Sexo  Idade  Cor_ou_raca  Sabe_ler_e_escrever   renda  \\\n",
       "117476      26     4     30            2                    1   860.0   \n",
       "184241      31     4     20            2                    1     0.0   \n",
       "236421      35     4     69            2                    1   788.0   \n",
       "260353      35     2     79            2                    1  1000.0   \n",
       "115134      26     4     46            2                    1   600.0   \n",
       "5176        11     4     79            2                    3  1576.0   \n",
       "36332       15     2     66            4                    1   788.0   \n",
       "139299      29     4     22            8                    1     0.0   \n",
       "304864      43     4     33            2                    1   100.0   \n",
       "55194       17     4     59            8                    1     0.0   \n",
       "\n",
       "        Rendimento_mensal_domiciliar_per_capita  \n",
       "117476                                      576  \n",
       "184241                                      940  \n",
       "236421                                     2288  \n",
       "260353                                     2029  \n",
       "115134                                      600  \n",
       "5176                                        692  \n",
       "36332                                       525  \n",
       "139299                                      533  \n",
       "304864                                      316  \n",
       "55194                                       394  "
      ]
     },
     "execution_count": 15,
     "metadata": {},
     "output_type": "execute_result"
    }
   ],
   "source": [
    "valores2=pd.read_csv('PES2015csv.zip', compression='zip', header=0, sep=',', quotechar='\"')\n",
    "\n",
    "\n",
    "dados_regressao=pd.DataFrame({\n",
    "\n",
    "    'Estado' :valores2.UF,\n",
    "    'Sexo' :valores2.V0302,\n",
    "    'Idade' :valores2.V8005,\n",
    "    'Cor_ou_raca':valores2.V0404,\n",
    "    'Sabe_ler_e_escrever' :valores2.V0601,\n",
    "    'renda' :valores2.V4720,\n",
    "    'Rendimento_mensal_domiciliar_per_capita' :valores2.V4742\n",
    "    })\n",
    "\n",
    "\n",
    "\n",
    "dados_regressao=dados_regressao[['Estado','Sexo','Idade','Cor_ou_raca','Sabe_ler_e_escrever','renda','Rendimento_mensal_domiciliar_per_capita']]\n",
    "\n",
    "dados_regressao['Rendimento_mensal_domiciliar_per_capita']=(dados_regressao['Rendimento_mensal_domiciliar_per_capita']).fillna(0.0).astype(int)\n",
    "\n",
    "dados_regressao=dados_regressao[dados_regressao.renda<40000]\n",
    "\n",
    "dados_regressao=dados_regressao[dados_regressao.Rendimento_mensal_domiciliar_per_capita<40000]\n",
    "\n",
    "dados_regressao=dados_regressao[dados_regressao.Rendimento_mensal_domiciliar_per_capita>-1]\n",
    "\n",
    "\n",
    "for i in range (10):\n",
    "    dados_regressao_treino, dados_regressao_teste = train_test_split(dados_regressao,test_size=0.1)\n",
    "    \n",
    "dados_regressao_treino.head(10)"
   ]
  },
  {
   "cell_type": "markdown",
   "metadata": {},
   "source": [
    "Para a realização da predição é importante que as variaveis não estejam em formato texto, por isso foi utilizado novamente o dataset mas dessa vez sem converter as variaveis para formato texto."
   ]
  },
  {
   "cell_type": "code",
   "execution_count": 16,
   "metadata": {},
   "outputs": [],
   "source": [
    "Variaveis_Independentes_treino=dados_regressao_treino.iloc[0:,[0,1,2,3,4,6]].values\n",
    "Variavel_Dependente_treino=dados_regressao_treino.iloc[0:,[5]].values\n",
    "Variaveis_Independentes_teste=dados_regressao_teste.iloc[0:,[0,1,2,3,4,6]].values\n",
    "Variavel_Dependente_teste=dados_regressao_teste.iloc[0:,[5]].values"
   ]
  },
  {
   "cell_type": "markdown",
   "metadata": {},
   "source": [
    "Nessa parte do código, as colunas das variáveis que serão usadas para prever a renda (Estado, Sexo, Idade, Cor_ou_raca, Sabe_ler_e_escrever, renda, Rendimento_mensal_domiciliar_per_capita) são armazenadas na variável Variaveis_Independentes. E a coluna da variável a ser prevista é armazenada na variável Variavel_Dependente.\n",
    "Cada uma delas sendo divididas nas vertentes teste e treinamento."
   ]
  },
  {
   "cell_type": "code",
   "execution_count": 17,
   "metadata": {},
   "outputs": [
    {
     "data": {
      "text/plain": [
       "array([[  26,    4,   30,    2,    1,  576],\n",
       "       [  31,    4,   20,    2,    1,  940],\n",
       "       [  35,    4,   69,    2,    1, 2288],\n",
       "       ...,\n",
       "       [  21,    4,   60,    8,    3,  788],\n",
       "       [  41,    2,   45,    2,    1,  186],\n",
       "       [  15,    4,   39,    2,    1,  716]], dtype=int64)"
      ]
     },
     "execution_count": 17,
     "metadata": {},
     "output_type": "execute_result"
    }
   ],
   "source": [
    "Variaveis_Independentes_treino"
   ]
  },
  {
   "cell_type": "code",
   "execution_count": 18,
   "metadata": {},
   "outputs": [
    {
     "data": {
      "text/plain": [
       "array([[ 860.],\n",
       "       [   0.],\n",
       "       [ 788.],\n",
       "       ...,\n",
       "       [ 788.],\n",
       "       [ 980.],\n",
       "       [1500.]])"
      ]
     },
     "execution_count": 18,
     "metadata": {},
     "output_type": "execute_result"
    }
   ],
   "source": [
    "Variavel_Dependente_treino"
   ]
  },
  {
   "cell_type": "code",
   "execution_count": 19,
   "metadata": {},
   "outputs": [],
   "source": [
    "from sklearn.linear_model import LinearRegression"
   ]
  },
  {
   "cell_type": "code",
   "execution_count": 20,
   "metadata": {},
   "outputs": [
    {
     "data": {
      "text/plain": [
       "array([[1768.37929725],\n",
       "       [ 718.06181142],\n",
       "       [ 396.06681372],\n",
       "       ...,\n",
       "       [1173.68213586],\n",
       "       [ 984.74091321],\n",
       "       [1453.7565167 ]])"
      ]
     },
     "execution_count": 20,
     "metadata": {},
     "output_type": "execute_result"
    }
   ],
   "source": [
    "Regressao=LinearRegression()\n",
    "regfit=Regressao.fit(Variaveis_Independentes_treino,Variavel_Dependente_treino)\n",
    "renda_prevista=Regressao.predict(Variaveis_Independentes_teste)\n",
    "renda_prevista\n"
   ]
  },
  {
   "cell_type": "markdown",
   "metadata": {},
   "source": [
    "___\n",
    "## R2"
   ]
  },
  {
   "cell_type": "code",
   "execution_count": 21,
   "metadata": {},
   "outputs": [
    {
     "data": {
      "text/plain": [
       "array([0.55816149])"
      ]
     },
     "execution_count": 21,
     "metadata": {},
     "output_type": "execute_result"
    }
   ],
   "source": [
    "#print (len (renda_prevista))\n",
    "#print (len (Variaveis_Independentes_treino))\n",
    "#print (len (Variaveis_Independentes_teste))\n",
    "#print(dados_regressao_teste.renda.mean())\n",
    "\n",
    "Somatoria1=0\n",
    "Somatoria2=0\n",
    "\n",
    "for i in range (len(Variaveis_Independentes_teste)):\n",
    "    A1=(dados_regressao_teste.renda.iloc[i]-renda_prevista[i])**2\n",
    "    Somatoria1+=A1\n",
    "    A2=(dados_regressao_teste.renda.iloc[i]-dados_regressao_teste.renda.mean())**2\n",
    "    Somatoria2+=A2\n",
    "    \n",
    "R2= 1-(Somatoria1/Somatoria2)\n",
    "R2\n",
    "\n",
    "\n"
   ]
  },
  {
   "cell_type": "markdown",
   "metadata": {},
   "source": [
    "___\n",
    "## RMS"
   ]
  },
  {
   "cell_type": "code",
   "execution_count": 22,
   "metadata": {},
   "outputs": [
    {
     "data": {
      "text/plain": [
       "array([8.07757116])"
      ]
     },
     "execution_count": 22,
     "metadata": {},
     "output_type": "execute_result"
    }
   ],
   "source": [
    "Somatoria3=0\n",
    "\n",
    "\n",
    "for i in range (len(renda_prevista)):\n",
    "    A1=(dados_regressao_teste.renda.iloc[i]-renda_prevista[i])**2\n",
    "    Somatoria3+=A1\n",
    "    \n",
    "RMS=((Somatoria3)**(1/2))/len(renda_prevista)\n",
    "RMS\n"
   ]
  },
  {
   "cell_type": "code",
   "execution_count": 23,
   "metadata": {},
   "outputs": [
    {
     "name": "stdout",
     "output_type": "stream",
     "text": [
      "                            OLS Regression Results                            \n",
      "==============================================================================\n",
      "Dep. Variable:                      y   R-squared:                       0.663\n",
      "Model:                            OLS   Adj. R-squared:                  0.663\n",
      "Method:                 Least Squares   F-statistic:                 8.899e+04\n",
      "Date:                Tue, 05 Jun 2018   Prob (F-statistic):               0.00\n",
      "Time:                        14:02:43   Log-Likelihood:            -2.3549e+06\n",
      "No. Observations:              271690   AIC:                         4.710e+06\n",
      "Df Residuals:                  271684   BIC:                         4.710e+06\n",
      "Df Model:                           6                                         \n",
      "Covariance Type:            nonrobust                                         \n",
      "==============================================================================\n",
      "                 coef    std err          t      P>|t|      [0.025      0.975]\n",
      "------------------------------------------------------------------------------\n",
      "x1             5.4604      0.206     26.472      0.000       5.056       5.865\n",
      "x2          -225.5599      2.296    -98.232      0.000    -230.060    -221.059\n",
      "x3            17.9277      0.148    120.762      0.000      17.637      18.219\n",
      "x4            18.4150      0.872     21.118      0.000      16.706      20.124\n",
      "x5          -126.4101      5.183    -24.391      0.000    -136.568    -116.252\n",
      "x6             0.9600      0.002    528.821      0.000       0.956       0.964\n",
      "==============================================================================\n",
      "Omnibus:                   178430.574   Durbin-Watson:                   2.001\n",
      "Prob(Omnibus):                  0.000   Jarque-Bera (JB):         28971499.675\n",
      "Skew:                           2.188   Prob(JB):                         0.00\n",
      "Kurtosis:                      53.399   Cond. No.                     3.64e+03\n",
      "==============================================================================\n",
      "\n",
      "Warnings:\n",
      "[1] Standard Errors assume that the covariance matrix of the errors is correctly specified.\n",
      "[2] The condition number is large, 3.64e+03. This might indicate that there are\n",
      "strong multicollinearity or other numerical problems.\n"
     ]
    }
   ],
   "source": [
    "import statsmodels.api as sm\n",
    "from statsmodels.formula.api import ols\n",
    "from statsmodels.sandbox.regression.predstd import wls_prediction_std\n",
    "\n",
    "x=Variaveis_Independentes_treino\n",
    "y=Variavel_Dependente_treino\n",
    "\n",
    "olsmod = sm.OLS(y,x)\n",
    "olres = olsmod.fit()\n",
    "print(olres.summary())\n",
    "\n"
   ]
  },
  {
   "cell_type": "code",
   "execution_count": 26,
   "metadata": {},
   "outputs": [
    {
     "name": "stdout",
     "output_type": "stream",
     "text": [
      "30188\n",
      "30188\n"
     ]
    },
    {
     "data": {
      "image/png": "[encoded data removed]",
      "text/plain": [
       "<matplotlib.figure.Figure at 0x1250515b5f8>"
      ]
     },
     "metadata": {},
     "output_type": "display_data"
    }
   ],
   "source": [
    "#print(len(Variaveis_Independentes_teste[:,0]))\n",
    "#print(len(renda_prevista))\n",
    "plt.scatter(Variaveis_Independentes_teste[:,5],renda_prevista)\n",
    "plt.title('Gráfico de renda estimada por rendimento domiciliar percapita')\n",
    "plt.ylabel('renda estimada')\n",
    "plt.xlabel('rendimento domiciliar percapita')\n",
    "plt.show()"
   ]
  },
  {
   "cell_type": "code",
   "execution_count": 34,
   "metadata": {},
   "outputs": [
    {
     "data": {
      "image/png": "[encoded data removed]",
      "text/plain": [
       "<matplotlib.figure.Figure at 0x12505bf1588>"
      ]
     },
     "metadata": {},
     "output_type": "display_data"
    }
   ],
   "source": [
    "plt.scatter(Variaveis_Independentes_teste[:,1],renda_prevista)\n",
    "plt.title('Gráfico de renda estimada por sexo do entrevistado')\n",
    "plt.ylabel('renda estimada')\n",
    "plt.xlabel('Homens                     Sexo do entrevistado                            Mulheres')\n",
    "plt.show()\n",
    "#2 homem, 4 mulher"
   ]
  },
  {
   "cell_type": "code",
   "execution_count": 35,
   "metadata": {},
   "outputs": [
    {
     "data": {
      "image/png": "[encoded data removed]",
      "text/plain": [
       "<matplotlib.figure.Figure at 0x1250698c358>"
      ]
     },
     "metadata": {},
     "output_type": "display_data"
    }
   ],
   "source": [
    "plt.scatter(Variaveis_Independentes_teste[:,2],renda_prevista)\n",
    "plt.title('Gráfico de renda estimada por idade do entrevistado')\n",
    "plt.ylabel('renda estimada')\n",
    "plt.xlabel('idade do entrevistado')\n",
    "plt.show()"
   ]
  },
  {
   "cell_type": "code",
   "execution_count": 54,
   "metadata": {},
   "outputs": [
    {
     "data": {
      "image/png": "[encoded data removed]",
      "text/plain": [
       "<matplotlib.figure.Figure at 0x125053fe7f0>"
      ]
     },
     "metadata": {},
     "output_type": "display_data"
    }
   ],
   "source": [
    "plt.scatter(Variaveis_Independentes_teste[:,3],renda_prevista)\n",
    "plt.title('Gráfico de renda estimada por cor ou raça do entrevistado')\n",
    "plt.ylabel('renda estimada')\n",
    "plt.xlabel('Indígena             Branca            Preta              Amarela               Parda')\n",
    "plt.show()"
   ]
  },
  {
   "cell_type": "code",
   "execution_count": 56,
   "metadata": {},
   "outputs": [
    {
     "data": {
      "image/png": "[encoded data removed]",
      "text/plain": [
       "<matplotlib.figure.Figure at 0x12500aa1d68>"
      ]
     },
     "metadata": {},
     "output_type": "display_data"
    }
   ],
   "source": [
    "plt.scatter(Variaveis_Independentes_teste[:,4],renda_prevista)\n",
    "plt.title('Gráfico de renda estimada por educação do entrevistado')\n",
    "plt.ylabel('renda estimada')\n",
    "plt.xlabel('sabe ler e escrever           educação do entrevistado          não sabe ler e escrever')\n",
    "plt.show()"
   ]
  },
  {
   "cell_type": "markdown",
   "metadata": {},
   "source": [
    "___\n",
    "## CONCLUSÃO"
   ]
  },
  {
   "cell_type": "code",
   "execution_count": null,
   "metadata": {},
   "outputs": [],
   "source": []
  },
  {
   "cell_type": "code",
   "execution_count": null,
   "metadata": {},
   "outputs": [],
   "source": []
  },
  {
   "cell_type": "code",
   "execution_count": null,
   "metadata": {},
   "outputs": [],
   "source": []
  },
  {
   "cell_type": "markdown",
   "metadata": {},
   "source": [
    "___\n",
    "## REFERÊNCIAS BIBLIOGRÁFICAS"
   ]
  },
  {
   "cell_type": "code",
   "execution_count": null,
   "metadata": {},
   "outputs": [],
   "source": []
  },
  {
   "cell_type": "code",
   "execution_count": null,
   "metadata": {},
   "outputs": [],
   "source": []
  },
  {
   "cell_type": "code",
   "execution_count": null,
   "metadata": {},
   "outputs": [],
   "source": []
  },
  {
   "cell_type": "code",
   "execution_count": null,
   "metadata": {},
   "outputs": [],
   "source": []
  }
 ],
 "metadata": {
  "anaconda-cloud": {},
  "kernelspec": {
   "display_name": "Python 3",
   "language": "python",
   "name": "python3"
  },
  "language_info": {
   "codemirror_mode": {
    "name": "ipython",
    "version": 3
   },
   "file_extension": ".py",
   "mimetype": "text/x-python",
   "name": "python",
   "nbconvert_exporter": "python",
   "pygments_lexer": "ipython3",
   "version": "3.6.4"
  }
 },
 "nbformat": 4,
 "nbformat_minor": 1
}
